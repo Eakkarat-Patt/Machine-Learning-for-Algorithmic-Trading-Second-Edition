{
 "cells": [
  {
   "cell_type": "code",
   "execution_count": 1,
   "id": "e0b6e679-e7fa-47d6-ad6e-73aa3881cdf6",
   "metadata": {
    "tags": []
   },
   "outputs": [],
   "source": [
    "import warnings\n",
    "warnings.filterwarnings('ignore')"
   ]
  },
  {
   "cell_type": "code",
   "execution_count": 2,
   "id": "984c5d04-0b57-4dde-b769-076edfb78d66",
   "metadata": {
    "tags": []
   },
   "outputs": [],
   "source": [
    "%matplotlib inline\n",
    "import numpy as np\n",
    "import pandas as pd\n",
    "import matplotlib.pyplot as plt\n",
    "import seaborn as sns\n",
    "import talib\n",
    "from talib import RSI, BBANDS, MACD, ATR"
   ]
  },
  {
   "cell_type": "code",
   "execution_count": 3,
   "id": "0f2b7226-ed87-425a-892e-2516ac10af5c",
   "metadata": {
    "tags": []
   },
   "outputs": [],
   "source": [
    "MONTH = 21\n",
    "YEAR = 12 * MONTH"
   ]
  },
  {
   "cell_type": "code",
   "execution_count": 4,
   "id": "9bf7eedd-3ad0-496e-af4b-6922907eff23",
   "metadata": {
    "tags": []
   },
   "outputs": [],
   "source": [
    "START = '2010-01-01'\n",
    "END = '2017-12-31'"
   ]
  },
  {
   "cell_type": "code",
   "execution_count": 5,
   "id": "11a92863-5fc0-4fa1-b4fc-62b1502d2d5e",
   "metadata": {
    "tags": []
   },
   "outputs": [],
   "source": [
    "sns.set_style('darkgrid')\n",
    "idx = pd.IndexSlice"
   ]
  },
  {
   "cell_type": "code",
   "execution_count": 6,
   "id": "60216384-9b7b-47c9-a10d-164ecd613c9c",
   "metadata": {
    "tags": []
   },
   "outputs": [],
   "source": [
    "percentiles = [.001, .01, .02, .03, .04, .05]\n",
    "percentiles += [1-p for p in percentiles[::-1]]\n",
    "T = [1, 5, 10, 21, 42, 63]"
   ]
  },
  {
   "cell_type": "code",
   "execution_count": 7,
   "id": "5537a8e7-72f9-4bbb-8ff9-18696bf09f6e",
   "metadata": {
    "tags": []
   },
   "outputs": [
    {
     "data": {
      "text/plain": [
       "[0.001, 0.01, 0.02, 0.03, 0.04, 0.05, 0.95, 0.96, 0.97, 0.98, 0.99, 0.999]"
      ]
     },
     "execution_count": 7,
     "metadata": {},
     "output_type": "execute_result"
    }
   ],
   "source": [
    "percentiles"
   ]
  },
  {
   "cell_type": "code",
   "execution_count": 8,
   "id": "3e135b8d-3440-43bf-9de4-f48f6b90f604",
   "metadata": {
    "tags": []
   },
   "outputs": [],
   "source": [
    "DATA_STORE = '../data/assets.h5'\n",
    "ohlcv = ['adj_open', 'adj_close', 'adj_low', 'adj_high', 'adj_volume']\n",
    "with pd.HDFStore(DATA_STORE) as store:\n",
    "    prices = (store['quandl/wiki/prices']\n",
    "              .loc[idx[START:END, :], ohlcv] # select OHLCV columns from 2010 until 2017\n",
    "              .rename(columns=lambda x: x.replace('adj_', '')) # simplify column names\n",
    "              .swaplevel()\n",
    "              .sort_index())\n",
    "    metadata = (store['us_equities/stocks'].loc[:, ['marketcap', 'sector']])"
   ]
  },
  {
   "cell_type": "code",
   "execution_count": 9,
   "id": "76149524-1999-4b2a-b9bc-3baf06fa66b9",
   "metadata": {
    "tags": []
   },
   "outputs": [],
   "source": [
    "prices.volume /= 1e3 # make vol figures a bit smaller\n",
    "prices.index.names = ['symbol', 'date']\n",
    "metadata.index.name = 'symbol'"
   ]
  },
  {
   "cell_type": "code",
   "execution_count": 11,
   "id": "fe100c9c-dd4d-4196-adc3-56713e25d9b1",
   "metadata": {
    "tags": []
   },
   "outputs": [
    {
     "data": {
      "text/html": [
       "<div>\n",
       "<style scoped>\n",
       "    .dataframe tbody tr th:only-of-type {\n",
       "        vertical-align: middle;\n",
       "    }\n",
       "\n",
       "    .dataframe tbody tr th {\n",
       "        vertical-align: top;\n",
       "    }\n",
       "\n",
       "    .dataframe thead th {\n",
       "        text-align: right;\n",
       "    }\n",
       "</style>\n",
       "<table border=\"1\" class=\"dataframe\">\n",
       "  <thead>\n",
       "    <tr style=\"text-align: right;\">\n",
       "      <th></th>\n",
       "      <th></th>\n",
       "      <th>open</th>\n",
       "      <th>close</th>\n",
       "      <th>low</th>\n",
       "      <th>high</th>\n",
       "      <th>volume</th>\n",
       "    </tr>\n",
       "    <tr>\n",
       "      <th>symbol</th>\n",
       "      <th>date</th>\n",
       "      <th></th>\n",
       "      <th></th>\n",
       "      <th></th>\n",
       "      <th></th>\n",
       "      <th></th>\n",
       "    </tr>\n",
       "  </thead>\n",
       "  <tbody>\n",
       "    <tr>\n",
       "      <th rowspan=\"5\" valign=\"top\">A</th>\n",
       "      <th>2010-01-04</th>\n",
       "      <td>21.415535</td>\n",
       "      <td>21.354133</td>\n",
       "      <td>21.239108</td>\n",
       "      <td>21.579273</td>\n",
       "      <td>2729.300</td>\n",
       "    </tr>\n",
       "    <tr>\n",
       "      <th>2010-01-05</th>\n",
       "      <td>21.292732</td>\n",
       "      <td>21.122172</td>\n",
       "      <td>20.985724</td>\n",
       "      <td>21.299554</td>\n",
       "      <td>2994.300</td>\n",
       "    </tr>\n",
       "    <tr>\n",
       "      <th>2010-01-06</th>\n",
       "      <td>21.047125</td>\n",
       "      <td>21.047125</td>\n",
       "      <td>20.985724</td>\n",
       "      <td>21.149461</td>\n",
       "      <td>2320.300</td>\n",
       "    </tr>\n",
       "    <tr>\n",
       "      <th>2010-01-07</th>\n",
       "      <td>20.999368</td>\n",
       "      <td>21.019836</td>\n",
       "      <td>20.808341</td>\n",
       "      <td>21.026658</td>\n",
       "      <td>2214.000</td>\n",
       "    </tr>\n",
       "    <tr>\n",
       "      <th>2010-01-08</th>\n",
       "      <td>20.903855</td>\n",
       "      <td>21.013013</td>\n",
       "      <td>20.740117</td>\n",
       "      <td>21.047125</td>\n",
       "      <td>2670.900</td>\n",
       "    </tr>\n",
       "    <tr>\n",
       "      <th>...</th>\n",
       "      <th>...</th>\n",
       "      <td>...</td>\n",
       "      <td>...</td>\n",
       "      <td>...</td>\n",
       "      <td>...</td>\n",
       "      <td>...</td>\n",
       "    </tr>\n",
       "    <tr>\n",
       "      <th rowspan=\"5\" valign=\"top\">ZUMZ</th>\n",
       "      <th>2017-12-22</th>\n",
       "      <td>21.550000</td>\n",
       "      <td>21.450000</td>\n",
       "      <td>21.300000</td>\n",
       "      <td>21.700000</td>\n",
       "      <td>209.585</td>\n",
       "    </tr>\n",
       "    <tr>\n",
       "      <th>2017-12-26</th>\n",
       "      <td>21.450000</td>\n",
       "      <td>21.850000</td>\n",
       "      <td>21.450000</td>\n",
       "      <td>22.200000</td>\n",
       "      <td>213.951</td>\n",
       "    </tr>\n",
       "    <tr>\n",
       "      <th>2017-12-27</th>\n",
       "      <td>21.800000</td>\n",
       "      <td>21.150000</td>\n",
       "      <td>20.950000</td>\n",
       "      <td>22.250000</td>\n",
       "      <td>227.325</td>\n",
       "    </tr>\n",
       "    <tr>\n",
       "      <th>2017-12-28</th>\n",
       "      <td>21.200000</td>\n",
       "      <td>21.200000</td>\n",
       "      <td>21.050000</td>\n",
       "      <td>21.450000</td>\n",
       "      <td>162.070</td>\n",
       "    </tr>\n",
       "    <tr>\n",
       "      <th>2017-12-29</th>\n",
       "      <td>21.250000</td>\n",
       "      <td>20.825000</td>\n",
       "      <td>20.800000</td>\n",
       "      <td>21.450000</td>\n",
       "      <td>222.040</td>\n",
       "    </tr>\n",
       "  </tbody>\n",
       "</table>\n",
       "<p>5698754 rows × 5 columns</p>\n",
       "</div>"
      ],
      "text/plain": [
       "                        open      close        low       high    volume\n",
       "symbol date                                                            \n",
       "A      2010-01-04  21.415535  21.354133  21.239108  21.579273  2729.300\n",
       "       2010-01-05  21.292732  21.122172  20.985724  21.299554  2994.300\n",
       "       2010-01-06  21.047125  21.047125  20.985724  21.149461  2320.300\n",
       "       2010-01-07  20.999368  21.019836  20.808341  21.026658  2214.000\n",
       "       2010-01-08  20.903855  21.013013  20.740117  21.047125  2670.900\n",
       "...                      ...        ...        ...        ...       ...\n",
       "ZUMZ   2017-12-22  21.550000  21.450000  21.300000  21.700000   209.585\n",
       "       2017-12-26  21.450000  21.850000  21.450000  22.200000   213.951\n",
       "       2017-12-27  21.800000  21.150000  20.950000  22.250000   227.325\n",
       "       2017-12-28  21.200000  21.200000  21.050000  21.450000   162.070\n",
       "       2017-12-29  21.250000  20.825000  20.800000  21.450000   222.040\n",
       "\n",
       "[5698754 rows x 5 columns]"
      ]
     },
     "execution_count": 11,
     "metadata": {},
     "output_type": "execute_result"
    }
   ],
   "source": [
    "prices"
   ]
  },
  {
   "cell_type": "code",
   "execution_count": 12,
   "id": "99633f32-ea49-40f1-9232-f368f8249046",
   "metadata": {
    "tags": []
   },
   "outputs": [],
   "source": [
    "min_obs = 7 * YEAR\n",
    "nobs = prices.groupby(level='symbol').size()\n",
    "keep = nobs[nobs > min_obs].index\n",
    "prices = prices.loc[idx[keep, :], :]"
   ]
  },
  {
   "cell_type": "code",
   "execution_count": 16,
   "id": "e1dc2fd4-f334-4814-b6fe-f15690e1b282",
   "metadata": {
    "tags": []
   },
   "outputs": [],
   "source": [
    "metadata = metadata[~metadata.index.duplicated() & metadata.sector.notnull()]\n",
    "metadata.sector = metadata.sector.str.lower().str.replace(' ', '_')"
   ]
  },
  {
   "cell_type": "code",
   "execution_count": 19,
   "id": "3457d107-9038-45a8-9e59-2f46fff068a2",
   "metadata": {
    "tags": []
   },
   "outputs": [],
   "source": [
    "shared = prices.index.get_level_values('symbol').unique().intersection(metadata.index)\n",
    "metadata = metadata.loc[shared, :]\n",
    "prices = prices.loc[idx[shared, :], :]"
   ]
  },
  {
   "cell_type": "code",
   "execution_count": 20,
   "id": "83827240-9107-4bba-b97e-c3d4859c5cfc",
   "metadata": {
    "tags": []
   },
   "outputs": [],
   "source": [
    "universe = metadata.marketcap.nlargest(1000).index\n",
    "prices = prices.loc[idx[universe, :], :]\n",
    "metadata = metadata.loc[universe]"
   ]
  },
  {
   "cell_type": "code",
   "execution_count": 21,
   "id": "cef23248-8ef6-4fff-9366-9e3b626f627e",
   "metadata": {
    "tags": []
   },
   "outputs": [
    {
     "data": {
      "text/plain": [
       "consumer_services        187\n",
       "finance                  168\n",
       "technology               116\n",
       "health_care              103\n",
       "capital_goods             94\n",
       "basic_industries          67\n",
       "public_utilities          66\n",
       "consumer_non-durables     61\n",
       "energy                    51\n",
       "consumer_durables         36\n",
       "miscellaneous             28\n",
       "transportation            23\n",
       "Name: sector, dtype: int64"
      ]
     },
     "execution_count": 21,
     "metadata": {},
     "output_type": "execute_result"
    }
   ],
   "source": [
    "metadata.sector.value_counts()"
   ]
  },
  {
   "cell_type": "code",
   "execution_count": 22,
   "id": "d98a408d-ca66-417a-8bd3-f24fdc12830a",
   "metadata": {
    "tags": []
   },
   "outputs": [
    {
     "name": "stdout",
     "output_type": "stream",
     "text": [
      "<class 'pandas.core.frame.DataFrame'>\n",
      "MultiIndex: 2004775 entries, ('AAPL', Timestamp('2010-01-04 00:00:00')) to ('NTCT', Timestamp('2017-12-29 00:00:00'))\n",
      "Data columns (total 5 columns):\n",
      " #   Column  Non-Null Count    Dtype  \n",
      "---  ------  --------------    -----  \n",
      " 0   open    2004775 non-null  float64\n",
      " 1   close   2004775 non-null  float64\n",
      " 2   low     2004775 non-null  float64\n",
      " 3   high    2004775 non-null  float64\n",
      " 4   volume  2004775 non-null  float64\n",
      "dtypes: float64(5)\n",
      "memory usage: 84.9+ MB\n"
     ]
    }
   ],
   "source": [
    "\n",
    "prices.info(show_counts=True)"
   ]
  },
  {
   "cell_type": "code",
   "execution_count": 23,
   "id": "fca9c9db-b069-4054-96a3-71b0bf9dd9e4",
   "metadata": {
    "tags": []
   },
   "outputs": [
    {
     "name": "stdout",
     "output_type": "stream",
     "text": [
      "<class 'pandas.core.frame.DataFrame'>\n",
      "Index: 1000 entries, AAPL to NTCT\n",
      "Data columns (total 2 columns):\n",
      " #   Column     Non-Null Count  Dtype  \n",
      "---  ------     --------------  -----  \n",
      " 0   marketcap  1000 non-null   float64\n",
      " 1   sector     1000 non-null   object \n",
      "dtypes: float64(1), object(1)\n",
      "memory usage: 23.4+ KB\n"
     ]
    }
   ],
   "source": [
    "\n",
    "metadata.info()"
   ]
  },
  {
   "cell_type": "code",
   "execution_count": 24,
   "id": "0680b480-f420-48f2-933f-8a658da7e2bc",
   "metadata": {
    "tags": []
   },
   "outputs": [],
   "source": [
    "prices['dollar_vol'] = prices[['close', 'volume']].prod(1).div(1e3)"
   ]
  },
  {
   "cell_type": "code",
   "execution_count": 25,
   "id": "87669d88-ce6f-4d52-8326-14cfe0c4d125",
   "metadata": {
    "tags": []
   },
   "outputs": [],
   "source": [
    "dollar_vol_ma = (prices\n",
    "                .dollar_vol\n",
    "                .unstack('symbol')\n",
    "                .rolling(window=21, min_periods=1)\n",
    "                .mean())"
   ]
  },
  {
   "cell_type": "code",
   "execution_count": 36,
   "id": "42b72adb-5f7b-48e5-9f7b-736e2a204581",
   "metadata": {
    "tags": []
   },
   "outputs": [],
   "source": [
    "prices['dollar_vol_rank'] = dollar_vol_ma.rank(axis=1, ascending=False).stack('symbol').swaplevel()"
   ]
  },
  {
   "cell_type": "code",
   "execution_count": 37,
   "id": "1259b9f3-ef8b-4240-9ff9-5221e43a6ace",
   "metadata": {
    "tags": []
   },
   "outputs": [
    {
     "name": "stdout",
     "output_type": "stream",
     "text": [
      "<class 'pandas.core.frame.DataFrame'>\n",
      "MultiIndex: 2004775 entries, ('AAPL', Timestamp('2010-01-04 00:00:00')) to ('NTCT', Timestamp('2017-12-29 00:00:00'))\n",
      "Data columns (total 7 columns):\n",
      " #   Column           Non-Null Count    Dtype  \n",
      "---  ------           --------------    -----  \n",
      " 0   open             2004775 non-null  float64\n",
      " 1   close            2004775 non-null  float64\n",
      " 2   low              2004775 non-null  float64\n",
      " 3   high             2004775 non-null  float64\n",
      " 4   volume           2004775 non-null  float64\n",
      " 5   dollar_vol       2004775 non-null  float64\n",
      " 6   dollar_vol_rank  2004775 non-null  float64\n",
      "dtypes: float64(7)\n",
      "memory usage: 115.5+ MB\n"
     ]
    }
   ],
   "source": [
    "prices.info(show_counts=True)"
   ]
  },
  {
   "cell_type": "code",
   "execution_count": 41,
   "id": "8a4b65c7-5250-4352-b45b-cb2aced756fd",
   "metadata": {
    "tags": []
   },
   "outputs": [],
   "source": [
    "#Add some basic factors\n",
    "prices['rsi'] = prices.groupby(level='symbol').close.apply(RSI)"
   ]
  },
  {
   "cell_type": "code",
   "execution_count": 42,
   "id": "b83178c8-c213-4b4c-96dd-d359d168a032",
   "metadata": {
    "tags": []
   },
   "outputs": [
    {
     "data": {
      "image/png": "[encoded data removed]",
      "text/plain": [
       "<Figure size 640x480 with 1 Axes>"
      ]
     },
     "metadata": {},
     "output_type": "display_data"
    }
   ],
   "source": [
    "ax = sns.distplot(prices.rsi.dropna())\n",
    "ax.axvline(30, ls='--', lw=1, c='k')\n",
    "ax.axvline(70, ls='--', lw=1, c='k')\n",
    "ax.set_title('RSI Distribution with Signal Threshold')\n",
    "sns.despine()\n",
    "plt.tight_layout();"
   ]
  },
  {
   "cell_type": "code",
   "execution_count": 43,
   "id": "a08d6d17-3c04-49f6-8ffb-8b3c2a581f20",
   "metadata": {
    "tags": []
   },
   "outputs": [],
   "source": [
    "def compute_bb(close):\n",
    "    high, mid, low = BBANDS(close, timeperiod=20)\n",
    "    return pd.DataFrame({'bb_high': high, 'bb_low': low}, index=close.index)"
   ]
  },
  {
   "cell_type": "code",
   "execution_count": 45,
   "id": "b75404e2-a52e-4ccf-b4d1-965dd0032974",
   "metadata": {
    "tags": []
   },
   "outputs": [],
   "source": [
    "prices = prices.join(prices.groupby(level='symbol').close.apply(compute_bb))"
   ]
  },
  {
   "cell_type": "code",
   "execution_count": 46,
   "id": "e1763ac5-a0e0-49e6-9577-5c00dc4e2aad",
   "metadata": {
    "tags": []
   },
   "outputs": [
    {
     "data": {
      "text/html": [
       "<div>\n",
       "<style scoped>\n",
       "    .dataframe tbody tr th:only-of-type {\n",
       "        vertical-align: middle;\n",
       "    }\n",
       "\n",
       "    .dataframe tbody tr th {\n",
       "        vertical-align: top;\n",
       "    }\n",
       "\n",
       "    .dataframe thead th {\n",
       "        text-align: right;\n",
       "    }\n",
       "</style>\n",
       "<table border=\"1\" class=\"dataframe\">\n",
       "  <thead>\n",
       "    <tr style=\"text-align: right;\">\n",
       "      <th></th>\n",
       "      <th></th>\n",
       "      <th>open</th>\n",
       "      <th>close</th>\n",
       "      <th>low</th>\n",
       "      <th>high</th>\n",
       "      <th>volume</th>\n",
       "      <th>dollar_vol</th>\n",
       "      <th>dollar_vol_rank</th>\n",
       "      <th>rsi</th>\n",
       "      <th>bb_high</th>\n",
       "      <th>bb_low</th>\n",
       "    </tr>\n",
       "    <tr>\n",
       "      <th>symbol</th>\n",
       "      <th>date</th>\n",
       "      <th></th>\n",
       "      <th></th>\n",
       "      <th></th>\n",
       "      <th></th>\n",
       "      <th></th>\n",
       "      <th></th>\n",
       "      <th></th>\n",
       "      <th></th>\n",
       "      <th></th>\n",
       "      <th></th>\n",
       "    </tr>\n",
       "  </thead>\n",
       "  <tbody>\n",
       "    <tr>\n",
       "      <th rowspan=\"5\" valign=\"top\">AAPL</th>\n",
       "      <th>2010-01-04</th>\n",
       "      <td>27.428730</td>\n",
       "      <td>27.503268</td>\n",
       "      <td>27.293790</td>\n",
       "      <td>27.566240</td>\n",
       "      <td>123432.400</td>\n",
       "      <td>3394.794352</td>\n",
       "      <td>1.0</td>\n",
       "      <td>NaN</td>\n",
       "      <td>NaN</td>\n",
       "      <td>NaN</td>\n",
       "    </tr>\n",
       "    <tr>\n",
       "      <th>2010-01-05</th>\n",
       "      <td>27.579091</td>\n",
       "      <td>27.550818</td>\n",
       "      <td>27.405597</td>\n",
       "      <td>27.706320</td>\n",
       "      <td>150476.200</td>\n",
       "      <td>4145.742393</td>\n",
       "      <td>1.0</td>\n",
       "      <td>NaN</td>\n",
       "      <td>NaN</td>\n",
       "      <td>NaN</td>\n",
       "    </tr>\n",
       "    <tr>\n",
       "      <th>2010-01-06</th>\n",
       "      <td>27.550818</td>\n",
       "      <td>27.112585</td>\n",
       "      <td>27.084312</td>\n",
       "      <td>27.660055</td>\n",
       "      <td>138040.000</td>\n",
       "      <td>3742.621292</td>\n",
       "      <td>1.0</td>\n",
       "      <td>NaN</td>\n",
       "      <td>NaN</td>\n",
       "      <td>NaN</td>\n",
       "    </tr>\n",
       "    <tr>\n",
       "      <th>2010-01-07</th>\n",
       "      <td>27.212826</td>\n",
       "      <td>27.062465</td>\n",
       "      <td>26.865839</td>\n",
       "      <td>27.244955</td>\n",
       "      <td>119282.800</td>\n",
       "      <td>3228.086599</td>\n",
       "      <td>1.0</td>\n",
       "      <td>NaN</td>\n",
       "      <td>NaN</td>\n",
       "      <td>NaN</td>\n",
       "    </tr>\n",
       "    <tr>\n",
       "      <th>2010-01-08</th>\n",
       "      <td>27.026481</td>\n",
       "      <td>27.242385</td>\n",
       "      <td>26.867124</td>\n",
       "      <td>27.244955</td>\n",
       "      <td>111902.700</td>\n",
       "      <td>3048.496380</td>\n",
       "      <td>2.0</td>\n",
       "      <td>NaN</td>\n",
       "      <td>NaN</td>\n",
       "      <td>NaN</td>\n",
       "    </tr>\n",
       "    <tr>\n",
       "      <th>...</th>\n",
       "      <th>...</th>\n",
       "      <td>...</td>\n",
       "      <td>...</td>\n",
       "      <td>...</td>\n",
       "      <td>...</td>\n",
       "      <td>...</td>\n",
       "      <td>...</td>\n",
       "      <td>...</td>\n",
       "      <td>...</td>\n",
       "      <td>...</td>\n",
       "      <td>...</td>\n",
       "    </tr>\n",
       "    <tr>\n",
       "      <th rowspan=\"5\" valign=\"top\">NTCT</th>\n",
       "      <th>2017-12-22</th>\n",
       "      <td>31.400000</td>\n",
       "      <td>31.550000</td>\n",
       "      <td>31.050000</td>\n",
       "      <td>31.725000</td>\n",
       "      <td>568.152</td>\n",
       "      <td>17.925196</td>\n",
       "      <td>666.0</td>\n",
       "      <td>61.741125</td>\n",
       "      <td>32.055057</td>\n",
       "      <td>28.984943</td>\n",
       "    </tr>\n",
       "    <tr>\n",
       "      <th>2017-12-26</th>\n",
       "      <td>31.400000</td>\n",
       "      <td>31.050000</td>\n",
       "      <td>30.800000</td>\n",
       "      <td>31.550000</td>\n",
       "      <td>404.679</td>\n",
       "      <td>12.565283</td>\n",
       "      <td>668.0</td>\n",
       "      <td>55.773339</td>\n",
       "      <td>32.088266</td>\n",
       "      <td>28.986734</td>\n",
       "    </tr>\n",
       "    <tr>\n",
       "      <th>2017-12-27</th>\n",
       "      <td>31.100000</td>\n",
       "      <td>31.050000</td>\n",
       "      <td>30.800000</td>\n",
       "      <td>31.300000</td>\n",
       "      <td>278.693</td>\n",
       "      <td>8.653418</td>\n",
       "      <td>675.0</td>\n",
       "      <td>55.773339</td>\n",
       "      <td>32.047123</td>\n",
       "      <td>28.997877</td>\n",
       "    </tr>\n",
       "    <tr>\n",
       "      <th>2017-12-28</th>\n",
       "      <td>31.050000</td>\n",
       "      <td>30.650000</td>\n",
       "      <td>30.475000</td>\n",
       "      <td>31.050000</td>\n",
       "      <td>264.128</td>\n",
       "      <td>8.095523</td>\n",
       "      <td>687.0</td>\n",
       "      <td>51.183203</td>\n",
       "      <td>31.908980</td>\n",
       "      <td>29.036020</td>\n",
       "    </tr>\n",
       "    <tr>\n",
       "      <th>2017-12-29</th>\n",
       "      <td>30.700000</td>\n",
       "      <td>30.450000</td>\n",
       "      <td>30.250000</td>\n",
       "      <td>30.800000</td>\n",
       "      <td>393.595</td>\n",
       "      <td>11.984968</td>\n",
       "      <td>701.0</td>\n",
       "      <td>49.011255</td>\n",
       "      <td>31.854334</td>\n",
       "      <td>29.030666</td>\n",
       "    </tr>\n",
       "  </tbody>\n",
       "</table>\n",
       "<p>2004775 rows × 10 columns</p>\n",
       "</div>"
      ],
      "text/plain": [
       "                        open      close        low       high      volume  \\\n",
       "symbol date                                                                 \n",
       "AAPL   2010-01-04  27.428730  27.503268  27.293790  27.566240  123432.400   \n",
       "       2010-01-05  27.579091  27.550818  27.405597  27.706320  150476.200   \n",
       "       2010-01-06  27.550818  27.112585  27.084312  27.660055  138040.000   \n",
       "       2010-01-07  27.212826  27.062465  26.865839  27.244955  119282.800   \n",
       "       2010-01-08  27.026481  27.242385  26.867124  27.244955  111902.700   \n",
       "...                      ...        ...        ...        ...         ...   \n",
       "NTCT   2017-12-22  31.400000  31.550000  31.050000  31.725000     568.152   \n",
       "       2017-12-26  31.400000  31.050000  30.800000  31.550000     404.679   \n",
       "       2017-12-27  31.100000  31.050000  30.800000  31.300000     278.693   \n",
       "       2017-12-28  31.050000  30.650000  30.475000  31.050000     264.128   \n",
       "       2017-12-29  30.700000  30.450000  30.250000  30.800000     393.595   \n",
       "\n",
       "                    dollar_vol  dollar_vol_rank        rsi    bb_high  \\\n",
       "symbol date                                                             \n",
       "AAPL   2010-01-04  3394.794352              1.0        NaN        NaN   \n",
       "       2010-01-05  4145.742393              1.0        NaN        NaN   \n",
       "       2010-01-06  3742.621292              1.0        NaN        NaN   \n",
       "       2010-01-07  3228.086599              1.0        NaN        NaN   \n",
       "       2010-01-08  3048.496380              2.0        NaN        NaN   \n",
       "...                        ...              ...        ...        ...   \n",
       "NTCT   2017-12-22    17.925196            666.0  61.741125  32.055057   \n",
       "       2017-12-26    12.565283            668.0  55.773339  32.088266   \n",
       "       2017-12-27     8.653418            675.0  55.773339  32.047123   \n",
       "       2017-12-28     8.095523            687.0  51.183203  31.908980   \n",
       "       2017-12-29    11.984968            701.0  49.011255  31.854334   \n",
       "\n",
       "                      bb_low  \n",
       "symbol date                   \n",
       "AAPL   2010-01-04        NaN  \n",
       "       2010-01-05        NaN  \n",
       "       2010-01-06        NaN  \n",
       "       2010-01-07        NaN  \n",
       "       2010-01-08        NaN  \n",
       "...                      ...  \n",
       "NTCT   2017-12-22  28.984943  \n",
       "       2017-12-26  28.986734  \n",
       "       2017-12-27  28.997877  \n",
       "       2017-12-28  29.036020  \n",
       "       2017-12-29  29.030666  \n",
       "\n",
       "[2004775 rows x 10 columns]"
      ]
     },
     "execution_count": 46,
     "metadata": {},
     "output_type": "execute_result"
    }
   ],
   "source": [
    "prices"
   ]
  },
  {
   "cell_type": "code",
   "execution_count": 47,
   "id": "3a11dd28-80ae-4089-8a50-d30dbb056340",
   "metadata": {
    "tags": []
   },
   "outputs": [],
   "source": [
    "prices['bb_high'] = prices.bb_high.sub(prices.close).div(prices.bb_high).apply(np.log1p)\n",
    "prices['bb_low'] = prices.close.sub(prices.bb_low).div(prices.close).apply(np.log1p)"
   ]
  },
  {
   "cell_type": "code",
   "execution_count": 48,
   "id": "89bb62a6-0ec6-4497-8d3e-aae272aef103",
   "metadata": {
    "tags": []
   },
   "outputs": [
    {
     "data": {
      "text/html": [
       "<div>\n",
       "<style scoped>\n",
       "    .dataframe tbody tr th:only-of-type {\n",
       "        vertical-align: middle;\n",
       "    }\n",
       "\n",
       "    .dataframe tbody tr th {\n",
       "        vertical-align: top;\n",
       "    }\n",
       "\n",
       "    .dataframe thead th {\n",
       "        text-align: right;\n",
       "    }\n",
       "</style>\n",
       "<table border=\"1\" class=\"dataframe\">\n",
       "  <thead>\n",
       "    <tr style=\"text-align: right;\">\n",
       "      <th></th>\n",
       "      <th></th>\n",
       "      <th>open</th>\n",
       "      <th>close</th>\n",
       "      <th>low</th>\n",
       "      <th>high</th>\n",
       "      <th>volume</th>\n",
       "      <th>dollar_vol</th>\n",
       "      <th>dollar_vol_rank</th>\n",
       "      <th>rsi</th>\n",
       "      <th>bb_high</th>\n",
       "      <th>bb_low</th>\n",
       "    </tr>\n",
       "    <tr>\n",
       "      <th>symbol</th>\n",
       "      <th>date</th>\n",
       "      <th></th>\n",
       "      <th></th>\n",
       "      <th></th>\n",
       "      <th></th>\n",
       "      <th></th>\n",
       "      <th></th>\n",
       "      <th></th>\n",
       "      <th></th>\n",
       "      <th></th>\n",
       "      <th></th>\n",
       "    </tr>\n",
       "  </thead>\n",
       "  <tbody>\n",
       "    <tr>\n",
       "      <th rowspan=\"5\" valign=\"top\">AAPL</th>\n",
       "      <th>2010-01-04</th>\n",
       "      <td>27.428730</td>\n",
       "      <td>27.503268</td>\n",
       "      <td>27.293790</td>\n",
       "      <td>27.566240</td>\n",
       "      <td>123432.400</td>\n",
       "      <td>3394.794352</td>\n",
       "      <td>1.0</td>\n",
       "      <td>NaN</td>\n",
       "      <td>NaN</td>\n",
       "      <td>NaN</td>\n",
       "    </tr>\n",
       "    <tr>\n",
       "      <th>2010-01-05</th>\n",
       "      <td>27.579091</td>\n",
       "      <td>27.550818</td>\n",
       "      <td>27.405597</td>\n",
       "      <td>27.706320</td>\n",
       "      <td>150476.200</td>\n",
       "      <td>4145.742393</td>\n",
       "      <td>1.0</td>\n",
       "      <td>NaN</td>\n",
       "      <td>NaN</td>\n",
       "      <td>NaN</td>\n",
       "    </tr>\n",
       "    <tr>\n",
       "      <th>2010-01-06</th>\n",
       "      <td>27.550818</td>\n",
       "      <td>27.112585</td>\n",
       "      <td>27.084312</td>\n",
       "      <td>27.660055</td>\n",
       "      <td>138040.000</td>\n",
       "      <td>3742.621292</td>\n",
       "      <td>1.0</td>\n",
       "      <td>NaN</td>\n",
       "      <td>NaN</td>\n",
       "      <td>NaN</td>\n",
       "    </tr>\n",
       "    <tr>\n",
       "      <th>2010-01-07</th>\n",
       "      <td>27.212826</td>\n",
       "      <td>27.062465</td>\n",
       "      <td>26.865839</td>\n",
       "      <td>27.244955</td>\n",
       "      <td>119282.800</td>\n",
       "      <td>3228.086599</td>\n",
       "      <td>1.0</td>\n",
       "      <td>NaN</td>\n",
       "      <td>NaN</td>\n",
       "      <td>NaN</td>\n",
       "    </tr>\n",
       "    <tr>\n",
       "      <th>2010-01-08</th>\n",
       "      <td>27.026481</td>\n",
       "      <td>27.242385</td>\n",
       "      <td>26.867124</td>\n",
       "      <td>27.244955</td>\n",
       "      <td>111902.700</td>\n",
       "      <td>3048.496380</td>\n",
       "      <td>2.0</td>\n",
       "      <td>NaN</td>\n",
       "      <td>NaN</td>\n",
       "      <td>NaN</td>\n",
       "    </tr>\n",
       "    <tr>\n",
       "      <th>...</th>\n",
       "      <th>...</th>\n",
       "      <td>...</td>\n",
       "      <td>...</td>\n",
       "      <td>...</td>\n",
       "      <td>...</td>\n",
       "      <td>...</td>\n",
       "      <td>...</td>\n",
       "      <td>...</td>\n",
       "      <td>...</td>\n",
       "      <td>...</td>\n",
       "      <td>...</td>\n",
       "    </tr>\n",
       "    <tr>\n",
       "      <th rowspan=\"5\" valign=\"top\">NTCT</th>\n",
       "      <th>2017-12-22</th>\n",
       "      <td>31.400000</td>\n",
       "      <td>31.550000</td>\n",
       "      <td>31.050000</td>\n",
       "      <td>31.725000</td>\n",
       "      <td>568.152</td>\n",
       "      <td>17.925196</td>\n",
       "      <td>666.0</td>\n",
       "      <td>61.741125</td>\n",
       "      <td>0.015633</td>\n",
       "      <td>0.078165</td>\n",
       "    </tr>\n",
       "    <tr>\n",
       "      <th>2017-12-26</th>\n",
       "      <td>31.400000</td>\n",
       "      <td>31.050000</td>\n",
       "      <td>30.800000</td>\n",
       "      <td>31.550000</td>\n",
       "      <td>404.679</td>\n",
       "      <td>12.565283</td>\n",
       "      <td>668.0</td>\n",
       "      <td>55.773339</td>\n",
       "      <td>0.031844</td>\n",
       "      <td>0.064335</td>\n",
       "    </tr>\n",
       "    <tr>\n",
       "      <th>2017-12-27</th>\n",
       "      <td>31.100000</td>\n",
       "      <td>31.050000</td>\n",
       "      <td>30.800000</td>\n",
       "      <td>31.300000</td>\n",
       "      <td>278.693</td>\n",
       "      <td>8.653418</td>\n",
       "      <td>675.0</td>\n",
       "      <td>55.773339</td>\n",
       "      <td>0.030640</td>\n",
       "      <td>0.063999</td>\n",
       "    </tr>\n",
       "    <tr>\n",
       "      <th>2017-12-28</th>\n",
       "      <td>31.050000</td>\n",
       "      <td>30.650000</td>\n",
       "      <td>30.475000</td>\n",
       "      <td>31.050000</td>\n",
       "      <td>264.128</td>\n",
       "      <td>8.095523</td>\n",
       "      <td>687.0</td>\n",
       "      <td>51.183203</td>\n",
       "      <td>0.038697</td>\n",
       "      <td>0.051319</td>\n",
       "    </tr>\n",
       "    <tr>\n",
       "      <th>2017-12-29</th>\n",
       "      <td>30.700000</td>\n",
       "      <td>30.450000</td>\n",
       "      <td>30.250000</td>\n",
       "      <td>30.800000</td>\n",
       "      <td>393.595</td>\n",
       "      <td>11.984968</td>\n",
       "      <td>701.0</td>\n",
       "      <td>49.011255</td>\n",
       "      <td>0.043142</td>\n",
       "      <td>0.045558</td>\n",
       "    </tr>\n",
       "  </tbody>\n",
       "</table>\n",
       "<p>2004775 rows × 10 columns</p>\n",
       "</div>"
      ],
      "text/plain": [
       "                        open      close        low       high      volume  \\\n",
       "symbol date                                                                 \n",
       "AAPL   2010-01-04  27.428730  27.503268  27.293790  27.566240  123432.400   \n",
       "       2010-01-05  27.579091  27.550818  27.405597  27.706320  150476.200   \n",
       "       2010-01-06  27.550818  27.112585  27.084312  27.660055  138040.000   \n",
       "       2010-01-07  27.212826  27.062465  26.865839  27.244955  119282.800   \n",
       "       2010-01-08  27.026481  27.242385  26.867124  27.244955  111902.700   \n",
       "...                      ...        ...        ...        ...         ...   \n",
       "NTCT   2017-12-22  31.400000  31.550000  31.050000  31.725000     568.152   \n",
       "       2017-12-26  31.400000  31.050000  30.800000  31.550000     404.679   \n",
       "       2017-12-27  31.100000  31.050000  30.800000  31.300000     278.693   \n",
       "       2017-12-28  31.050000  30.650000  30.475000  31.050000     264.128   \n",
       "       2017-12-29  30.700000  30.450000  30.250000  30.800000     393.595   \n",
       "\n",
       "                    dollar_vol  dollar_vol_rank        rsi   bb_high    bb_low  \n",
       "symbol date                                                                     \n",
       "AAPL   2010-01-04  3394.794352              1.0        NaN       NaN       NaN  \n",
       "       2010-01-05  4145.742393              1.0        NaN       NaN       NaN  \n",
       "       2010-01-06  3742.621292              1.0        NaN       NaN       NaN  \n",
       "       2010-01-07  3228.086599              1.0        NaN       NaN       NaN  \n",
       "       2010-01-08  3048.496380              2.0        NaN       NaN       NaN  \n",
       "...                        ...              ...        ...       ...       ...  \n",
       "NTCT   2017-12-22    17.925196            666.0  61.741125  0.015633  0.078165  \n",
       "       2017-12-26    12.565283            668.0  55.773339  0.031844  0.064335  \n",
       "       2017-12-27     8.653418            675.0  55.773339  0.030640  0.063999  \n",
       "       2017-12-28     8.095523            687.0  51.183203  0.038697  0.051319  \n",
       "       2017-12-29    11.984968            701.0  49.011255  0.043142  0.045558  \n",
       "\n",
       "[2004775 rows x 10 columns]"
      ]
     },
     "execution_count": 48,
     "metadata": {},
     "output_type": "execute_result"
    }
   ],
   "source": [
    "prices"
   ]
  },
  {
   "cell_type": "code",
   "execution_count": 49,
   "id": "73588a5f-3a08-4dd3-8f28-22dc0c6347b2",
   "metadata": {
    "tags": []
   },
   "outputs": [
    {
     "data": {
      "image/png": "[encoded data removed]",
      "text/plain": [
       "<Figure size 1500x500 with 2 Axes>"
      ]
     },
     "metadata": {},
     "output_type": "display_data"
    }
   ],
   "source": [
    "fig, axes = plt.subplots(ncols=2, figsize=(15, 5))\n",
    "sns.distplot(prices.loc[prices.dollar_vol_rank<100, 'bb_low'].dropna(), ax=axes[0])\n",
    "sns.distplot(prices.loc[prices.dollar_vol_rank<100, 'bb_high'].dropna(), ax=axes[1])\n",
    "sns.despine()\n",
    "plt.tight_layout();"
   ]
  },
  {
   "cell_type": "code",
   "execution_count": 50,
   "id": "6cc26720-3a2e-4c0b-9e79-ffc0a58121cf",
   "metadata": {
    "tags": []
   },
   "outputs": [],
   "source": [
    "prices['natr'] = prices.groupby(level='symbol', group_keys=False).apply(lambda x: talib.NATR(x.high, x.low, x.close))"
   ]
  },
  {
   "cell_type": "code",
   "execution_count": 56,
   "id": "cc8e67b8-452b-4de8-908c-fb7af8bcca4d",
   "metadata": {
    "tags": []
   },
   "outputs": [],
   "source": [
    "def compute_atr(stock_data):\n",
    "    df = ATR(stock_data.high, stock_data.low, \n",
    "             stock_data.close, timeperiod=14)\n",
    "    return df.sub(df.mean()).div(df.std())"
   ]
  },
  {
   "cell_type": "code",
   "execution_count": 57,
   "id": "b2342016-806a-43c2-896e-c4da53d0cfd4",
   "metadata": {
    "tags": []
   },
   "outputs": [],
   "source": [
    "prices['atr'] = (prices.groupby('symbol', group_keys=False)\n",
    "                 .apply(compute_atr))"
   ]
  },
  {
   "cell_type": "code",
   "execution_count": 58,
   "id": "5280fa4f-ff69-4b2a-b252-a6e66a8e83ba",
   "metadata": {
    "tags": []
   },
   "outputs": [],
   "source": [
    "prices['PPO'] = prices.groupby(level='symbol').close.apply(talib.PPO)"
   ]
  },
  {
   "cell_type": "code",
   "execution_count": 59,
   "id": "06d8c201-bfdd-4053-b752-d59c411e4041",
   "metadata": {
    "tags": []
   },
   "outputs": [],
   "source": [
    "def compute_macd(close):\n",
    "    macd = MACD(close)[0]\n",
    "    return (macd - np.mean(macd))/np.std(macd)"
   ]
  },
  {
   "cell_type": "code",
   "execution_count": 60,
   "id": "fd7cdb2c-bff9-4033-8761-74305bccdf17",
   "metadata": {
    "tags": []
   },
   "outputs": [],
   "source": [
    "prices['MACD'] = (prices\n",
    "                  .groupby('symbol', group_keys=False)\n",
    "                  .close\n",
    "                  .apply(compute_macd))"
   ]
  },
  {
   "cell_type": "code",
   "execution_count": 61,
   "id": "d1e64852-16d5-4161-9466-f532804299fb",
   "metadata": {
    "tags": []
   },
   "outputs": [],
   "source": [
    "metadata.sector = pd.factorize(metadata.sector)[0].astype(int)\n",
    "prices = prices.join(metadata[['sector']])"
   ]
  },
  {
   "cell_type": "code",
   "execution_count": 63,
   "id": "cf209df5-e9da-4367-a562-ed98c29aea0e",
   "metadata": {
    "tags": []
   },
   "outputs": [],
   "source": [
    "by_sym = prices.groupby(level='symbol').close\n",
    "for t in T:\n",
    "    prices[f'r{t:02}'] = by_sym.pct_change(t)"
   ]
  },
  {
   "cell_type": "code",
   "execution_count": 67,
   "id": "d51956ef-2e05-4fd1-b124-b0ea99c50950",
   "metadata": {
    "tags": []
   },
   "outputs": [],
   "source": [
    "for t in T:\n",
    "    prices[f'r{t:02}dec'] = (prices[f'r{t:02}']\n",
    "                            .groupby(level='date')\n",
    "                            .apply(lambda x: pd.qcut(x,\n",
    "                                                     q=10,\n",
    "                                                     labels=False,\n",
    "                                                     duplicates='drop')))"
   ]
  },
  {
   "cell_type": "code",
   "execution_count": 68,
   "id": "9ef6eaa1-a5f8-4cd9-9a5f-eba1bcf88800",
   "metadata": {
    "tags": []
   },
   "outputs": [],
   "source": [
    "for t in T:\n",
    "    prices[f'r{t:02}q_sector'] = (prices\n",
    "                                  .groupby(['date', 'sector'])[f'r{t:02}']\n",
    "                                  .transform(lambda x: pd.qcut(x, \n",
    "                                                               q=5, \n",
    "                                                               labels=False, \n",
    "                                                               duplicates='drop')))"
   ]
  },
  {
   "cell_type": "code",
   "execution_count": 69,
   "id": "5a740946-11de-4f8c-b069-d2b31a381df0",
   "metadata": {
    "tags": []
   },
   "outputs": [],
   "source": [
    "for t in [1, 5, 21]:\n",
    "    prices[f'r{t:02}_fwd'] = prices.groupby(level='symbol')[f'r{t:02}'].shift(-t)"
   ]
  },
  {
   "cell_type": "code",
   "execution_count": 70,
   "id": "c44dc10a-7d71-4ba2-b4ef-12331d1c5077",
   "metadata": {
    "tags": []
   },
   "outputs": [
    {
     "data": {
      "text/html": [
       "<div>\n",
       "<style scoped>\n",
       "    .dataframe tbody tr th:only-of-type {\n",
       "        vertical-align: middle;\n",
       "    }\n",
       "\n",
       "    .dataframe tbody tr th {\n",
       "        vertical-align: top;\n",
       "    }\n",
       "\n",
       "    .dataframe thead th {\n",
       "        text-align: right;\n",
       "    }\n",
       "</style>\n",
       "<table border=\"1\" class=\"dataframe\">\n",
       "  <thead>\n",
       "    <tr style=\"text-align: right;\">\n",
       "      <th></th>\n",
       "      <th>r01</th>\n",
       "      <th>r05</th>\n",
       "      <th>r10</th>\n",
       "      <th>r21</th>\n",
       "      <th>r42</th>\n",
       "      <th>r63</th>\n",
       "    </tr>\n",
       "  </thead>\n",
       "  <tbody>\n",
       "    <tr>\n",
       "      <th>count</th>\n",
       "      <td>2.003775e+06</td>\n",
       "      <td>1.999775e+06</td>\n",
       "      <td>1.994775e+06</td>\n",
       "      <td>1.983775e+06</td>\n",
       "      <td>1.962775e+06</td>\n",
       "      <td>1.941775e+06</td>\n",
       "    </tr>\n",
       "    <tr>\n",
       "      <th>mean</th>\n",
       "      <td>7.519751e-04</td>\n",
       "      <td>3.726962e-03</td>\n",
       "      <td>7.353932e-03</td>\n",
       "      <td>1.555927e-02</td>\n",
       "      <td>3.113691e-02</td>\n",
       "      <td>4.619119e-02</td>\n",
       "    </tr>\n",
       "    <tr>\n",
       "      <th>std</th>\n",
       "      <td>2.166262e-02</td>\n",
       "      <td>4.791746e-02</td>\n",
       "      <td>6.579895e-02</td>\n",
       "      <td>9.467552e-02</td>\n",
       "      <td>1.325751e-01</td>\n",
       "      <td>1.618423e-01</td>\n",
       "    </tr>\n",
       "    <tr>\n",
       "      <th>min</th>\n",
       "      <td>-8.757416e-01</td>\n",
       "      <td>-8.768476e-01</td>\n",
       "      <td>-8.778415e-01</td>\n",
       "      <td>-8.802285e-01</td>\n",
       "      <td>-8.867366e-01</td>\n",
       "      <td>-8.863481e-01</td>\n",
       "    </tr>\n",
       "    <tr>\n",
       "      <th>25%</th>\n",
       "      <td>-8.088407e-03</td>\n",
       "      <td>-1.721664e-02</td>\n",
       "      <td>-2.291896e-02</td>\n",
       "      <td>-3.045918e-02</td>\n",
       "      <td>-3.531712e-02</td>\n",
       "      <td>-3.696833e-02</td>\n",
       "    </tr>\n",
       "    <tr>\n",
       "      <th>50%</th>\n",
       "      <td>6.561680e-04</td>\n",
       "      <td>3.702235e-03</td>\n",
       "      <td>7.173181e-03</td>\n",
       "      <td>1.503253e-02</td>\n",
       "      <td>2.899023e-02</td>\n",
       "      <td>4.217809e-02</td>\n",
       "    </tr>\n",
       "    <tr>\n",
       "      <th>75%</th>\n",
       "      <td>9.509191e-03</td>\n",
       "      <td>2.440601e-02</td>\n",
       "      <td>3.707177e-02</td>\n",
       "      <td>5.927618e-02</td>\n",
       "      <td>9.305628e-02</td>\n",
       "      <td>1.219666e-01</td>\n",
       "    </tr>\n",
       "    <tr>\n",
       "      <th>max</th>\n",
       "      <td>1.216425e+01</td>\n",
       "      <td>1.252657e+01</td>\n",
       "      <td>1.252657e+01</td>\n",
       "      <td>1.252657e+01</td>\n",
       "      <td>1.181643e+01</td>\n",
       "      <td>1.166968e+01</td>\n",
       "    </tr>\n",
       "  </tbody>\n",
       "</table>\n",
       "</div>"
      ],
      "text/plain": [
       "                r01           r05           r10           r21           r42  \\\n",
       "count  2.003775e+06  1.999775e+06  1.994775e+06  1.983775e+06  1.962775e+06   \n",
       "mean   7.519751e-04  3.726962e-03  7.353932e-03  1.555927e-02  3.113691e-02   \n",
       "std    2.166262e-02  4.791746e-02  6.579895e-02  9.467552e-02  1.325751e-01   \n",
       "min   -8.757416e-01 -8.768476e-01 -8.778415e-01 -8.802285e-01 -8.867366e-01   \n",
       "25%   -8.088407e-03 -1.721664e-02 -2.291896e-02 -3.045918e-02 -3.531712e-02   \n",
       "50%    6.561680e-04  3.702235e-03  7.173181e-03  1.503253e-02  2.899023e-02   \n",
       "75%    9.509191e-03  2.440601e-02  3.707177e-02  5.927618e-02  9.305628e-02   \n",
       "max    1.216425e+01  1.252657e+01  1.252657e+01  1.252657e+01  1.181643e+01   \n",
       "\n",
       "                r63  \n",
       "count  1.941775e+06  \n",
       "mean   4.619119e-02  \n",
       "std    1.618423e-01  \n",
       "min   -8.863481e-01  \n",
       "25%   -3.696833e-02  \n",
       "50%    4.217809e-02  \n",
       "75%    1.219666e-01  \n",
       "max    1.166968e+01  "
      ]
     },
     "execution_count": 70,
     "metadata": {},
     "output_type": "execute_result"
    }
   ],
   "source": [
    "prices[[f'r{t:02}' for t in T]].describe()"
   ]
  },
  {
   "cell_type": "code",
   "execution_count": 71,
   "id": "85659240-7cb6-48f5-984e-a55c7fa84749",
   "metadata": {
    "tags": []
   },
   "outputs": [],
   "source": [
    "outliers = prices[prices.r01 > 1].index.get_level_values('symbol').unique()"
   ]
  },
  {
   "cell_type": "code",
   "execution_count": 72,
   "id": "10f7428c-215a-4eea-a90f-a466136fd37f",
   "metadata": {
    "tags": []
   },
   "outputs": [],
   "source": [
    "prices = prices.drop(outliers, level='symbol')"
   ]
  },
  {
   "cell_type": "code",
   "execution_count": 73,
   "id": "7eaa4c58-81d8-45e2-9173-58d9ead01df8",
   "metadata": {
    "tags": []
   },
   "outputs": [],
   "source": [
    "prices['year'] = prices.index.get_level_values('date').year\n",
    "prices['month'] = prices.index.get_level_values('date').month\n",
    "prices['weekday'] = prices.index.get_level_values('date').weekday"
   ]
  },
  {
   "cell_type": "code",
   "execution_count": 74,
   "id": "2a30c9a7-94d9-4833-ab7a-7793928997a8",
   "metadata": {
    "tags": []
   },
   "outputs": [
    {
     "name": "stdout",
     "output_type": "stream",
     "text": [
      "<class 'pandas.core.frame.DataFrame'>\n",
      "MultiIndex: 1994931 entries, ('AAPL', Timestamp('2010-01-04 00:00:00')) to ('NTCT', Timestamp('2017-12-29 00:00:00'))\n",
      "Data columns (total 39 columns):\n",
      " #   Column           Non-Null Count    Dtype  \n",
      "---  ------           --------------    -----  \n",
      " 0   open             1994931 non-null  float64\n",
      " 1   close            1994931 non-null  float64\n",
      " 2   low              1994931 non-null  float64\n",
      " 3   high             1994931 non-null  float64\n",
      " 4   volume           1994931 non-null  float64\n",
      " 5   dollar_vol       1994931 non-null  float64\n",
      " 6   dollar_vol_rank  1994931 non-null  float64\n",
      " 7   rsi              1981001 non-null  float64\n",
      " 8   bb_high          1976026 non-null  float64\n",
      " 9   bb_low           1976022 non-null  float64\n",
      " 10  natr             1981001 non-null  float64\n",
      " 11  atr              1981001 non-null  float64\n",
      " 12  PPO              1970056 non-null  float64\n",
      " 13  MACD             1962096 non-null  float64\n",
      " 14  sector           1994931 non-null  int32  \n",
      " 15  r01              1993936 non-null  float64\n",
      " 16  r05              1989956 non-null  float64\n",
      " 17  r10              1984981 non-null  float64\n",
      " 18  r21              1974036 non-null  float64\n",
      " 19  r42              1953141 non-null  float64\n",
      " 20  r63              1932246 non-null  float64\n",
      " 21  r01dec           1993933 non-null  float64\n",
      " 22  r05dec           1989956 non-null  float64\n",
      " 23  r10dec           1984981 non-null  float64\n",
      " 24  r21dec           1974036 non-null  float64\n",
      " 25  r42dec           1953141 non-null  float64\n",
      " 26  r63dec           1932246 non-null  float64\n",
      " 27  r01q_sector      1993933 non-null  float64\n",
      " 28  r05q_sector      1989956 non-null  float64\n",
      " 29  r10q_sector      1984981 non-null  float64\n",
      " 30  r21q_sector      1974036 non-null  float64\n",
      " 31  r42q_sector      1953141 non-null  float64\n",
      " 32  r63q_sector      1932246 non-null  float64\n",
      " 33  r01_fwd          1993936 non-null  float64\n",
      " 34  r05_fwd          1989956 non-null  float64\n",
      " 35  r21_fwd          1974036 non-null  float64\n",
      " 36  year             1994931 non-null  int64  \n",
      " 37  month            1994931 non-null  int64  \n",
      " 38  weekday          1994931 non-null  int64  \n",
      "dtypes: float64(35), int32(1), int64(3)\n",
      "memory usage: 594.3+ MB\n"
     ]
    }
   ],
   "source": [
    "prices.info(show_counts=True)"
   ]
  },
  {
   "cell_type": "code",
   "execution_count": 75,
   "id": "2eb29d48-a18f-4f52-90c5-f8e0f884d84c",
   "metadata": {
    "tags": []
   },
   "outputs": [],
   "source": [
    "prices.drop(['open', 'close', 'low', 'high', 'volume'], axis=1).to_hdf('data.h5', 'model_data')"
   ]
  },
  {
   "cell_type": "code",
   "execution_count": null,
   "id": "82b18f00-261b-4285-ae99-294aede08ab8",
   "metadata": {},
   "outputs": [],
   "source": []
  }
 ],
 "metadata": {
  "kernelspec": {
   "display_name": "Python 3 (ipykernel)",
   "language": "python",
   "name": "python3"
  },
  "language_info": {
   "codemirror_mode": {
    "name": "ipython",
    "version": 3
   },
   "file_extension": ".py",
   "mimetype": "text/x-python",
   "name": "python",
   "nbconvert_exporter": "python",
   "pygments_lexer": "ipython3",
   "version": "3.8.10"
  }
 },
 "nbformat": 4,
 "nbformat_minor": 5
}

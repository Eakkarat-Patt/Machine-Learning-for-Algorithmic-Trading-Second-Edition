{
 "cells": [
  {
   "cell_type": "code",
   "execution_count": 1,
   "id": "c6422a69-f1bb-42ea-b20f-4ff30e2fdb4d",
   "metadata": {
    "tags": []
   },
   "outputs": [],
   "source": [
    "%matplotlib inline\n",
    "import pandas as pd\n",
    "import statsmodels.api as sm\n",
    "import matplotlib.pyplot as plt\n",
    "import seaborn as sns"
   ]
  },
  {
   "cell_type": "code",
   "execution_count": 2,
   "id": "e4bea142-ae0f-4ff2-9a3d-5a524f816b72",
   "metadata": {
    "tags": []
   },
   "outputs": [],
   "source": [
    "sns.set_style('whitegrid')"
   ]
  },
  {
   "cell_type": "code",
   "execution_count": 3,
   "id": "7c98e05e-c839-4be2-be2f-3db360dd8984",
   "metadata": {
    "tags": []
   },
   "outputs": [
    {
     "name": "stdout",
     "output_type": "stream",
     "text": [
      "<class 'pandas.core.frame.DataFrame'>\n",
      "RangeIndex: 203 entries, 0 to 202\n",
      "Data columns (total 14 columns):\n",
      " #   Column    Non-Null Count  Dtype  \n",
      "---  ------    --------------  -----  \n",
      " 0   year      203 non-null    float64\n",
      " 1   quarter   203 non-null    float64\n",
      " 2   realgdp   203 non-null    float64\n",
      " 3   realcons  203 non-null    float64\n",
      " 4   realinv   203 non-null    float64\n",
      " 5   realgovt  203 non-null    float64\n",
      " 6   realdpi   203 non-null    float64\n",
      " 7   cpi       203 non-null    float64\n",
      " 8   m1        203 non-null    float64\n",
      " 9   tbilrate  203 non-null    float64\n",
      " 10  unemp     203 non-null    float64\n",
      " 11  pop       203 non-null    float64\n",
      " 12  infl      203 non-null    float64\n",
      " 13  realint   203 non-null    float64\n",
      "dtypes: float64(14)\n",
      "memory usage: 22.3 KB\n"
     ]
    }
   ],
   "source": [
    "data = pd.DataFrame(sm.datasets.macrodata.load().data)\n",
    "data.info()"
   ]
  },
  {
   "cell_type": "code",
   "execution_count": 4,
   "id": "169ec705-438f-433f-b40d-dc0213807299",
   "metadata": {
    "tags": []
   },
   "outputs": [
    {
     "data": {
      "text/html": [
       "<div>\n",
       "<style scoped>\n",
       "    .dataframe tbody tr th:only-of-type {\n",
       "        vertical-align: middle;\n",
       "    }\n",
       "\n",
       "    .dataframe tbody tr th {\n",
       "        vertical-align: top;\n",
       "    }\n",
       "\n",
       "    .dataframe thead th {\n",
       "        text-align: right;\n",
       "    }\n",
       "</style>\n",
       "<table border=\"1\" class=\"dataframe\">\n",
       "  <thead>\n",
       "    <tr style=\"text-align: right;\">\n",
       "      <th></th>\n",
       "      <th>year</th>\n",
       "      <th>quarter</th>\n",
       "      <th>realgdp</th>\n",
       "      <th>realcons</th>\n",
       "      <th>realinv</th>\n",
       "      <th>realgovt</th>\n",
       "      <th>realdpi</th>\n",
       "      <th>cpi</th>\n",
       "      <th>m1</th>\n",
       "      <th>tbilrate</th>\n",
       "      <th>unemp</th>\n",
       "      <th>pop</th>\n",
       "      <th>infl</th>\n",
       "      <th>realint</th>\n",
       "    </tr>\n",
       "  </thead>\n",
       "  <tbody>\n",
       "    <tr>\n",
       "      <th>0</th>\n",
       "      <td>1959.0</td>\n",
       "      <td>1.0</td>\n",
       "      <td>2710.349</td>\n",
       "      <td>1707.4</td>\n",
       "      <td>286.898</td>\n",
       "      <td>470.045</td>\n",
       "      <td>1886.9</td>\n",
       "      <td>28.98</td>\n",
       "      <td>139.7</td>\n",
       "      <td>2.82</td>\n",
       "      <td>5.8</td>\n",
       "      <td>177.146</td>\n",
       "      <td>0.00</td>\n",
       "      <td>0.00</td>\n",
       "    </tr>\n",
       "    <tr>\n",
       "      <th>1</th>\n",
       "      <td>1959.0</td>\n",
       "      <td>2.0</td>\n",
       "      <td>2778.801</td>\n",
       "      <td>1733.7</td>\n",
       "      <td>310.859</td>\n",
       "      <td>481.301</td>\n",
       "      <td>1919.7</td>\n",
       "      <td>29.15</td>\n",
       "      <td>141.7</td>\n",
       "      <td>3.08</td>\n",
       "      <td>5.1</td>\n",
       "      <td>177.830</td>\n",
       "      <td>2.34</td>\n",
       "      <td>0.74</td>\n",
       "    </tr>\n",
       "    <tr>\n",
       "      <th>2</th>\n",
       "      <td>1959.0</td>\n",
       "      <td>3.0</td>\n",
       "      <td>2775.488</td>\n",
       "      <td>1751.8</td>\n",
       "      <td>289.226</td>\n",
       "      <td>491.260</td>\n",
       "      <td>1916.4</td>\n",
       "      <td>29.35</td>\n",
       "      <td>140.5</td>\n",
       "      <td>3.82</td>\n",
       "      <td>5.3</td>\n",
       "      <td>178.657</td>\n",
       "      <td>2.74</td>\n",
       "      <td>1.09</td>\n",
       "    </tr>\n",
       "    <tr>\n",
       "      <th>3</th>\n",
       "      <td>1959.0</td>\n",
       "      <td>4.0</td>\n",
       "      <td>2785.204</td>\n",
       "      <td>1753.7</td>\n",
       "      <td>299.356</td>\n",
       "      <td>484.052</td>\n",
       "      <td>1931.3</td>\n",
       "      <td>29.37</td>\n",
       "      <td>140.0</td>\n",
       "      <td>4.33</td>\n",
       "      <td>5.6</td>\n",
       "      <td>179.386</td>\n",
       "      <td>0.27</td>\n",
       "      <td>4.06</td>\n",
       "    </tr>\n",
       "    <tr>\n",
       "      <th>4</th>\n",
       "      <td>1960.0</td>\n",
       "      <td>1.0</td>\n",
       "      <td>2847.699</td>\n",
       "      <td>1770.5</td>\n",
       "      <td>331.722</td>\n",
       "      <td>462.199</td>\n",
       "      <td>1955.5</td>\n",
       "      <td>29.54</td>\n",
       "      <td>139.6</td>\n",
       "      <td>3.50</td>\n",
       "      <td>5.2</td>\n",
       "      <td>180.007</td>\n",
       "      <td>2.31</td>\n",
       "      <td>1.19</td>\n",
       "    </tr>\n",
       "  </tbody>\n",
       "</table>\n",
       "</div>"
      ],
      "text/plain": [
       "     year  quarter   realgdp  realcons  realinv  realgovt  realdpi    cpi  \\\n",
       "0  1959.0      1.0  2710.349    1707.4  286.898   470.045   1886.9  28.98   \n",
       "1  1959.0      2.0  2778.801    1733.7  310.859   481.301   1919.7  29.15   \n",
       "2  1959.0      3.0  2775.488    1751.8  289.226   491.260   1916.4  29.35   \n",
       "3  1959.0      4.0  2785.204    1753.7  299.356   484.052   1931.3  29.37   \n",
       "4  1960.0      1.0  2847.699    1770.5  331.722   462.199   1955.5  29.54   \n",
       "\n",
       "      m1  tbilrate  unemp      pop  infl  realint  \n",
       "0  139.7      2.82    5.8  177.146  0.00     0.00  \n",
       "1  141.7      3.08    5.1  177.830  2.34     0.74  \n",
       "2  140.5      3.82    5.3  178.657  2.74     1.09  \n",
       "3  140.0      4.33    5.6  179.386  0.27     4.06  \n",
       "4  139.6      3.50    5.2  180.007  2.31     1.19  "
      ]
     },
     "execution_count": 4,
     "metadata": {},
     "output_type": "execute_result"
    }
   ],
   "source": [
    "\n",
    "data.head()"
   ]
  },
  {
   "cell_type": "code",
   "execution_count": 5,
   "id": "7e2b0997-1d41-4e5a-a473-7628ce66fc63",
   "metadata": {
    "tags": []
   },
   "outputs": [],
   "source": [
    "data['growth_rate'] = data.realgdp.pct_change(4)"
   ]
  },
  {
   "cell_type": "code",
   "execution_count": 12,
   "id": "842c7cf6-e97f-4db4-be14-19944a404881",
   "metadata": {
    "tags": []
   },
   "outputs": [
    {
     "data": {
      "text/plain": [
       "0           NaN\n",
       "1           NaN\n",
       "2           NaN\n",
       "3           NaN\n",
       "4           NaN\n",
       "         ...   \n",
       "198    0.026648\n",
       "199    0.023803\n",
       "200    0.020083\n",
       "201    0.016144\n",
       "202    0.013348\n",
       "Name: growth_rate, Length: 203, dtype: float64"
      ]
     },
     "execution_count": 12,
     "metadata": {},
     "output_type": "execute_result"
    }
   ],
   "source": [
    "data.growth_rate.rolling(20).mean()"
   ]
  },
  {
   "cell_type": "code",
   "execution_count": 23,
   "id": "307f6afa-c06c-4599-8d5a-1c87ed29da46",
   "metadata": {
    "tags": []
   },
   "outputs": [],
   "source": [
    "data['target'] = (data.growth_rate > data.growth_rate.rolling(20).mean()).astype(int).shift(-1)\n",
    "data.quarter = data.quarter.astype(int)"
   ]
  },
  {
   "cell_type": "code",
   "execution_count": 18,
   "id": "43a43ee5-ee6f-46a1-9d4a-80ffe6d83e87",
   "metadata": {
    "tags": []
   },
   "outputs": [
    {
     "data": {
      "text/plain": [
       "0      0\n",
       "1      0\n",
       "2      0\n",
       "3      0\n",
       "4      0\n",
       "      ..\n",
       "198    0\n",
       "199    0\n",
       "200    0\n",
       "201    0\n",
       "202    0\n",
       "Name: target, Length: 203, dtype: int32"
      ]
     },
     "execution_count": 18,
     "metadata": {},
     "output_type": "execute_result"
    }
   ],
   "source": [
    "data.target"
   ]
  },
  {
   "cell_type": "code",
   "execution_count": 21,
   "id": "88c40938-148d-48c0-9029-18c8159dd87c",
   "metadata": {
    "tags": []
   },
   "outputs": [
    {
     "data": {
      "text/plain": [
       "0      0\n",
       "1      0\n",
       "2      0\n",
       "3      0\n",
       "4      0\n",
       "      ..\n",
       "198    0\n",
       "199    0\n",
       "200    0\n",
       "201    0\n",
       "202    0\n",
       "Name: growth_rate, Length: 203, dtype: int32"
      ]
     },
     "execution_count": 21,
     "metadata": {},
     "output_type": "execute_result"
    }
   ],
   "source": [
    "(data.growth_rate > data.growth_rate.rolling(20).mean()).astype(int)"
   ]
  },
  {
   "cell_type": "code",
   "execution_count": 24,
   "id": "9ce5c663-fe7c-45e0-9eb8-614a14868b04",
   "metadata": {
    "tags": []
   },
   "outputs": [
    {
     "data": {
      "text/plain": [
       "0.0    112\n",
       "1.0     90\n",
       "Name: target, dtype: int64"
      ]
     },
     "execution_count": 24,
     "metadata": {},
     "output_type": "execute_result"
    }
   ],
   "source": [
    "data.target.value_counts()"
   ]
  },
  {
   "cell_type": "code",
   "execution_count": 25,
   "id": "1d2131ce-89a8-4ff9-b218-b4d609c578b8",
   "metadata": {
    "tags": []
   },
   "outputs": [],
   "source": [
    "pct_cols = ['realcons', 'realinv', 'realgovt', 'realdpi', 'm1']\n",
    "drop_cols = ['year', 'realgdp', 'pop', 'cpi', 'growth_rate']\n",
    "data.loc[:, pct_cols] = data.loc[:, pct_cols].pct_change(4)"
   ]
  },
  {
   "cell_type": "code",
   "execution_count": 26,
   "id": "3f7e19a5-cf3c-42fd-8585-b2a53e360bf7",
   "metadata": {
    "tags": []
   },
   "outputs": [],
   "source": [
    "data = pd.get_dummies(data.drop(drop_cols, axis=1), columns=['quarter'], drop_first=True).dropna()"
   ]
  },
  {
   "cell_type": "code",
   "execution_count": 27,
   "id": "6433bda9-2e59-4691-8ca0-ca83d29b0348",
   "metadata": {
    "tags": []
   },
   "outputs": [
    {
     "data": {
      "text/html": [
       "<div>\n",
       "<style scoped>\n",
       "    .dataframe tbody tr th:only-of-type {\n",
       "        vertical-align: middle;\n",
       "    }\n",
       "\n",
       "    .dataframe tbody tr th {\n",
       "        vertical-align: top;\n",
       "    }\n",
       "\n",
       "    .dataframe thead th {\n",
       "        text-align: right;\n",
       "    }\n",
       "</style>\n",
       "<table border=\"1\" class=\"dataframe\">\n",
       "  <thead>\n",
       "    <tr style=\"text-align: right;\">\n",
       "      <th></th>\n",
       "      <th>realcons</th>\n",
       "      <th>realinv</th>\n",
       "      <th>realgovt</th>\n",
       "      <th>realdpi</th>\n",
       "      <th>m1</th>\n",
       "      <th>tbilrate</th>\n",
       "      <th>unemp</th>\n",
       "      <th>infl</th>\n",
       "      <th>realint</th>\n",
       "      <th>target</th>\n",
       "      <th>quarter_2</th>\n",
       "      <th>quarter_3</th>\n",
       "      <th>quarter_4</th>\n",
       "    </tr>\n",
       "  </thead>\n",
       "  <tbody>\n",
       "    <tr>\n",
       "      <th>4</th>\n",
       "      <td>0.036957</td>\n",
       "      <td>0.156237</td>\n",
       "      <td>-0.016692</td>\n",
       "      <td>0.036356</td>\n",
       "      <td>-0.000716</td>\n",
       "      <td>3.50</td>\n",
       "      <td>5.2</td>\n",
       "      <td>2.31</td>\n",
       "      <td>1.19</td>\n",
       "      <td>0.0</td>\n",
       "      <td>0</td>\n",
       "      <td>0</td>\n",
       "      <td>0</td>\n",
       "    </tr>\n",
       "    <tr>\n",
       "      <th>5</th>\n",
       "      <td>0.034147</td>\n",
       "      <td>-0.040877</td>\n",
       "      <td>-0.043426</td>\n",
       "      <td>0.024170</td>\n",
       "      <td>-0.010586</td>\n",
       "      <td>2.68</td>\n",
       "      <td>5.2</td>\n",
       "      <td>0.14</td>\n",
       "      <td>2.55</td>\n",
       "      <td>0.0</td>\n",
       "      <td>1</td>\n",
       "      <td>0</td>\n",
       "      <td>0</td>\n",
       "    </tr>\n",
       "    <tr>\n",
       "      <th>6</th>\n",
       "      <td>0.019409</td>\n",
       "      <td>0.024718</td>\n",
       "      <td>-0.033758</td>\n",
       "      <td>0.026821</td>\n",
       "      <td>0.002847</td>\n",
       "      <td>2.36</td>\n",
       "      <td>5.6</td>\n",
       "      <td>2.70</td>\n",
       "      <td>-0.34</td>\n",
       "      <td>0.0</td>\n",
       "      <td>0</td>\n",
       "      <td>1</td>\n",
       "      <td>0</td>\n",
       "    </tr>\n",
       "    <tr>\n",
       "      <th>7</th>\n",
       "      <td>0.019673</td>\n",
       "      <td>-0.132257</td>\n",
       "      <td>-0.015738</td>\n",
       "      <td>0.018278</td>\n",
       "      <td>0.007857</td>\n",
       "      <td>2.29</td>\n",
       "      <td>6.3</td>\n",
       "      <td>1.21</td>\n",
       "      <td>1.08</td>\n",
       "      <td>0.0</td>\n",
       "      <td>0</td>\n",
       "      <td>0</td>\n",
       "      <td>1</td>\n",
       "    </tr>\n",
       "    <tr>\n",
       "      <th>8</th>\n",
       "      <td>0.009715</td>\n",
       "      <td>-0.196903</td>\n",
       "      <td>0.029544</td>\n",
       "      <td>0.014830</td>\n",
       "      <td>0.017908</td>\n",
       "      <td>2.37</td>\n",
       "      <td>6.8</td>\n",
       "      <td>-0.40</td>\n",
       "      <td>2.77</td>\n",
       "      <td>0.0</td>\n",
       "      <td>0</td>\n",
       "      <td>0</td>\n",
       "      <td>0</td>\n",
       "    </tr>\n",
       "    <tr>\n",
       "      <th>...</th>\n",
       "      <td>...</td>\n",
       "      <td>...</td>\n",
       "      <td>...</td>\n",
       "      <td>...</td>\n",
       "      <td>...</td>\n",
       "      <td>...</td>\n",
       "      <td>...</td>\n",
       "      <td>...</td>\n",
       "      <td>...</td>\n",
       "      <td>...</td>\n",
       "      <td>...</td>\n",
       "      <td>...</td>\n",
       "      <td>...</td>\n",
       "    </tr>\n",
       "    <tr>\n",
       "      <th>197</th>\n",
       "      <td>0.006404</td>\n",
       "      <td>-0.062758</td>\n",
       "      <td>0.069618</td>\n",
       "      <td>0.021976</td>\n",
       "      <td>0.028686</td>\n",
       "      <td>1.74</td>\n",
       "      <td>5.4</td>\n",
       "      <td>8.53</td>\n",
       "      <td>-6.79</td>\n",
       "      <td>0.0</td>\n",
       "      <td>1</td>\n",
       "      <td>0</td>\n",
       "      <td>0</td>\n",
       "    </tr>\n",
       "    <tr>\n",
       "      <th>198</th>\n",
       "      <td>-0.007273</td>\n",
       "      <td>-0.081144</td>\n",
       "      <td>0.078966</td>\n",
       "      <td>-0.004614</td>\n",
       "      <td>0.069243</td>\n",
       "      <td>1.17</td>\n",
       "      <td>6.0</td>\n",
       "      <td>-3.16</td>\n",
       "      <td>4.33</td>\n",
       "      <td>0.0</td>\n",
       "      <td>0</td>\n",
       "      <td>1</td>\n",
       "      <td>0</td>\n",
       "    </tr>\n",
       "    <tr>\n",
       "      <th>199</th>\n",
       "      <td>-0.017974</td>\n",
       "      <td>-0.125159</td>\n",
       "      <td>0.088814</td>\n",
       "      <td>0.003459</td>\n",
       "      <td>0.144548</td>\n",
       "      <td>0.12</td>\n",
       "      <td>6.9</td>\n",
       "      <td>-8.79</td>\n",
       "      <td>8.91</td>\n",
       "      <td>0.0</td>\n",
       "      <td>0</td>\n",
       "      <td>0</td>\n",
       "      <td>1</td>\n",
       "    </tr>\n",
       "    <tr>\n",
       "      <th>200</th>\n",
       "      <td>-0.015017</td>\n",
       "      <td>-0.251762</td>\n",
       "      <td>0.056091</td>\n",
       "      <td>0.010136</td>\n",
       "      <td>0.150867</td>\n",
       "      <td>0.22</td>\n",
       "      <td>8.1</td>\n",
       "      <td>0.94</td>\n",
       "      <td>-0.71</td>\n",
       "      <td>0.0</td>\n",
       "      <td>0</td>\n",
       "      <td>0</td>\n",
       "      <td>0</td>\n",
       "    </tr>\n",
       "    <tr>\n",
       "      <th>201</th>\n",
       "      <td>-0.017324</td>\n",
       "      <td>-0.281192</td>\n",
       "      <td>0.064755</td>\n",
       "      <td>0.001839</td>\n",
       "      <td>0.173348</td>\n",
       "      <td>0.18</td>\n",
       "      <td>9.2</td>\n",
       "      <td>3.37</td>\n",
       "      <td>-3.19</td>\n",
       "      <td>0.0</td>\n",
       "      <td>1</td>\n",
       "      <td>0</td>\n",
       "      <td>0</td>\n",
       "    </tr>\n",
       "  </tbody>\n",
       "</table>\n",
       "<p>198 rows × 13 columns</p>\n",
       "</div>"
      ],
      "text/plain": [
       "     realcons   realinv  realgovt   realdpi        m1  tbilrate  unemp  infl  \\\n",
       "4    0.036957  0.156237 -0.016692  0.036356 -0.000716      3.50    5.2  2.31   \n",
       "5    0.034147 -0.040877 -0.043426  0.024170 -0.010586      2.68    5.2  0.14   \n",
       "6    0.019409  0.024718 -0.033758  0.026821  0.002847      2.36    5.6  2.70   \n",
       "7    0.019673 -0.132257 -0.015738  0.018278  0.007857      2.29    6.3  1.21   \n",
       "8    0.009715 -0.196903  0.029544  0.014830  0.017908      2.37    6.8 -0.40   \n",
       "..        ...       ...       ...       ...       ...       ...    ...   ...   \n",
       "197  0.006404 -0.062758  0.069618  0.021976  0.028686      1.74    5.4  8.53   \n",
       "198 -0.007273 -0.081144  0.078966 -0.004614  0.069243      1.17    6.0 -3.16   \n",
       "199 -0.017974 -0.125159  0.088814  0.003459  0.144548      0.12    6.9 -8.79   \n",
       "200 -0.015017 -0.251762  0.056091  0.010136  0.150867      0.22    8.1  0.94   \n",
       "201 -0.017324 -0.281192  0.064755  0.001839  0.173348      0.18    9.2  3.37   \n",
       "\n",
       "     realint  target  quarter_2  quarter_3  quarter_4  \n",
       "4       1.19     0.0          0          0          0  \n",
       "5       2.55     0.0          1          0          0  \n",
       "6      -0.34     0.0          0          1          0  \n",
       "7       1.08     0.0          0          0          1  \n",
       "8       2.77     0.0          0          0          0  \n",
       "..       ...     ...        ...        ...        ...  \n",
       "197    -6.79     0.0          1          0          0  \n",
       "198     4.33     0.0          0          1          0  \n",
       "199     8.91     0.0          0          0          1  \n",
       "200    -0.71     0.0          0          0          0  \n",
       "201    -3.19     0.0          1          0          0  \n",
       "\n",
       "[198 rows x 13 columns]"
      ]
     },
     "execution_count": 27,
     "metadata": {},
     "output_type": "execute_result"
    }
   ],
   "source": [
    "data"
   ]
  },
  {
   "cell_type": "code",
   "execution_count": 30,
   "id": "00c1cc73-b3f6-472e-8b46-3faf60d5f04f",
   "metadata": {
    "tags": []
   },
   "outputs": [],
   "source": [
    "model = sm.Logit(data.target, sm.add_constant(data.drop('target', axis=1)))"
   ]
  },
  {
   "cell_type": "code",
   "execution_count": 31,
   "id": "588b2009-0c38-48f9-b3c5-d83c35f113c7",
   "metadata": {
    "tags": []
   },
   "outputs": [
    {
     "name": "stdout",
     "output_type": "stream",
     "text": [
      "Optimization terminated successfully.\n",
      "         Current function value: 0.342965\n",
      "         Iterations 8\n"
     ]
    }
   ],
   "source": [
    "result = model.fit()"
   ]
  },
  {
   "cell_type": "code",
   "execution_count": 33,
   "id": "80d0b898-d013-47d2-b8ad-3223b06b63df",
   "metadata": {
    "tags": []
   },
   "outputs": [
    {
     "name": "stdout",
     "output_type": "stream",
     "text": [
      "                           Logit Regression Results                           \n",
      "==============================================================================\n",
      "Dep. Variable:                 target   No. Observations:                  198\n",
      "Model:                          Logit   Df Residuals:                      185\n",
      "Method:                           MLE   Df Model:                           12\n",
      "Date:                Thu, 16 Feb 2023   Pseudo R-squ.:                  0.5022\n",
      "Time:                        22:10:59   Log-Likelihood:                -67.907\n",
      "converged:                       True   LL-Null:                       -136.42\n",
      "Covariance Type:            nonrobust   LLR p-value:                 2.375e-23\n",
      "==============================================================================\n",
      "                 coef    std err          z      P>|z|      [0.025      0.975]\n",
      "------------------------------------------------------------------------------\n",
      "const         -8.5881      1.908     -4.502      0.000     -12.327      -4.849\n",
      "realcons     130.1446     26.633      4.887      0.000      77.945     182.344\n",
      "realinv       18.8414      4.053      4.648      0.000      10.897      26.786\n",
      "realgovt     -19.0318      6.010     -3.166      0.002     -30.812      -7.252\n",
      "realdpi      -52.2473     19.912     -2.624      0.009     -91.275     -13.220\n",
      "m1            -1.3462      6.177     -0.218      0.827     -13.453      10.761\n",
      "tbilrate      60.8607     44.350      1.372      0.170     -26.063     147.784\n",
      "unemp          0.9487      0.249      3.818      0.000       0.462       1.436\n",
      "infl         -60.9647     44.362     -1.374      0.169    -147.913      25.984\n",
      "realint      -61.0453     44.359     -1.376      0.169    -147.987      25.896\n",
      "quarter_2      0.1128      0.618      0.182      0.855      -1.099       1.325\n",
      "quarter_3     -0.1991      0.609     -0.327      0.744      -1.393       0.995\n",
      "quarter_4      0.0007      0.608      0.001      0.999      -1.191       1.192\n",
      "==============================================================================\n"
     ]
    }
   ],
   "source": [
    "print(result.summary())"
   ]
  },
  {
   "cell_type": "code",
   "execution_count": 34,
   "id": "d1b39963-5d96-4620-9fec-f3fba87858bf",
   "metadata": {
    "tags": []
   },
   "outputs": [
    {
     "data": {
      "text/plain": [
       "array([8.86735658e-01, 2.00319140e-01, 1.87935294e-01, 2.83758530e-02,\n",
       "       1.63660734e-03, 5.41483073e-02, 1.33917569e-01, 8.77443044e-01,\n",
       "       9.50171874e-01, 7.13794296e-01, 5.94180001e-01, 4.11253507e-01,\n",
       "       4.84696170e-01, 6.33572788e-01, 6.62811057e-01, 7.73213700e-01,\n",
       "       8.02949468e-01, 7.26036591e-01, 8.04854989e-01, 8.08236296e-01,\n",
       "       9.66547518e-01, 9.65853541e-01, 7.31067323e-01, 9.21749234e-01,\n",
       "       7.35701495e-01, 3.16192231e-01, 1.36692496e-01, 1.26885663e-02,\n",
       "       2.13540290e-04, 1.33683808e-03, 1.39750829e-03, 5.05143454e-03,\n",
       "       3.04151923e-01, 6.34109778e-01, 7.45883940e-01, 6.74632320e-01,\n",
       "       6.57604447e-01, 3.91816526e-01, 4.12899016e-02, 5.36175996e-02,\n",
       "       2.03244712e-02, 2.90429580e-02, 5.47001183e-02, 4.12616821e-02,\n",
       "       7.45840405e-01, 8.31946228e-01, 9.29786324e-01, 9.94689861e-01,\n",
       "       9.77139446e-01, 9.91804481e-01, 9.95712323e-01, 9.92843509e-01,\n",
       "       9.92585737e-01, 8.64692758e-01, 4.65877858e-01, 1.89391956e-01,\n",
       "       2.44475700e-03, 2.04360919e-03, 1.74665972e-03, 1.47882748e-03,\n",
       "       5.06272633e-03, 5.29138748e-03, 1.06700007e-01, 7.43297447e-01,\n",
       "       9.98285109e-01, 9.99915112e-01, 9.97851397e-01, 9.98478686e-01,\n",
       "       9.90458462e-01, 9.75474994e-01, 9.71637259e-01, 9.28045312e-01,\n",
       "       6.75751047e-01, 9.56434432e-01, 7.68476962e-01, 7.99519615e-01,\n",
       "       7.02003149e-01, 9.92965608e-02, 3.66737751e-02, 2.16208252e-02,\n",
       "       7.35494587e-03, 4.80032726e-04, 1.57809921e-04, 9.25559206e-04,\n",
       "       3.74155415e-02, 4.76259319e-01, 5.53154072e-01, 3.14839380e-02,\n",
       "       1.27496660e-03, 2.05300639e-02, 2.24625548e-02, 4.24854237e-01,\n",
       "       7.90681634e-01, 9.90967758e-01, 9.94263418e-01, 9.99941038e-01,\n",
       "       9.99948533e-01, 9.98308374e-01, 9.85043519e-01, 5.37976283e-01,\n",
       "       6.59308473e-01, 4.36853098e-01, 6.56171427e-01, 7.30171396e-01,\n",
       "       3.38398471e-01, 5.11877724e-01, 1.62090181e-01, 4.33311427e-01,\n",
       "       1.51633951e-01, 4.57905823e-01, 4.09617544e-01, 5.34037501e-01,\n",
       "       5.90764480e-01, 2.93239824e-01, 2.89220783e-01, 2.69141153e-01,\n",
       "       4.11468864e-01, 1.34648832e-01, 7.95064772e-02, 7.89295563e-02,\n",
       "       2.08023246e-02, 7.20722524e-02, 4.12540946e-02, 6.71416912e-03,\n",
       "       8.20742676e-04, 6.70581835e-03, 7.69089449e-03, 1.63980726e-01,\n",
       "       7.65602832e-01, 9.41998212e-01, 9.57589174e-01, 9.79381025e-01,\n",
       "       9.88896055e-01, 9.72140699e-01, 9.81829308e-01, 9.59339754e-01,\n",
       "       9.90145603e-01, 9.73675445e-01, 7.81837322e-01, 9.07620925e-01,\n",
       "       2.67480671e-01, 1.90606018e-01, 3.13262933e-01, 4.76117674e-01,\n",
       "       4.42579399e-01, 6.87942152e-01, 6.82275266e-01, 6.03650335e-01,\n",
       "       7.78810845e-01, 6.37826812e-01, 6.49200840e-01, 5.53044486e-01,\n",
       "       6.78316871e-01, 6.27256638e-01, 5.43696618e-01, 7.88936594e-01,\n",
       "       7.92519935e-01, 9.23419610e-01, 7.25887976e-01, 6.84164016e-01,\n",
       "       5.97526531e-01, 4.50008357e-01, 2.39987821e-01, 2.71713587e-01,\n",
       "       3.28908352e-02, 1.97184670e-02, 2.52883773e-03, 8.83630340e-03,\n",
       "       2.01329770e-02, 2.08439864e-02, 1.17123834e-01, 5.01595212e-02,\n",
       "       1.50814007e-01, 1.29925139e-01, 3.53029054e-01, 3.02110150e-01,\n",
       "       6.50951573e-01, 8.88891321e-01, 4.37978630e-01, 5.36772977e-01,\n",
       "       7.82400577e-01, 6.34011167e-01, 5.85078189e-01, 3.28291346e-01,\n",
       "       6.89394786e-02, 7.13726872e-02, 3.16231679e-02, 1.58769129e-02,\n",
       "       7.12613754e-02, 3.43302809e-02, 2.66323066e-02, 4.55558803e-02,\n",
       "       1.05070315e-02, 2.88168052e-03, 6.13186416e-04, 7.22536869e-05,\n",
       "       4.64612467e-05, 1.79852556e-04])"
      ]
     },
     "execution_count": 34,
     "metadata": {},
     "output_type": "execute_result"
    }
   ],
   "source": [
    "result.predict()"
   ]
  },
  {
   "cell_type": "code",
   "execution_count": null,
   "id": "43637e85-f0a1-4d18-a045-d499aacc49ed",
   "metadata": {},
   "outputs": [],
   "source": []
  }
 ],
 "metadata": {
  "kernelspec": {
   "display_name": "Python 3 (ipykernel)",
   "language": "python",
   "name": "python3"
  },
  "language_info": {
   "codemirror_mode": {
    "name": "ipython",
    "version": 3
   },
   "file_extension": ".py",
   "mimetype": "text/x-python",
   "name": "python",
   "nbconvert_exporter": "python",
   "pygments_lexer": "ipython3",
   "version": "3.8.10"
  }
 },
 "nbformat": 4,
 "nbformat_minor": 5
}

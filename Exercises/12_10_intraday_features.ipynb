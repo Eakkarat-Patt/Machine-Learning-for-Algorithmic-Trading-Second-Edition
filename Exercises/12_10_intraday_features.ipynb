{
 "cells": [
  {
   "cell_type": "code",
   "execution_count": 1,
   "id": "00b04885-834c-460f-834c-2ef7b7abd595",
   "metadata": {
    "tags": []
   },
   "outputs": [],
   "source": [
    "import warnings\n",
    "\n",
    "warnings.filterwarnings('ignore')"
   ]
  },
  {
   "cell_type": "code",
   "execution_count": 2,
   "id": "50fde62d-7575-4da3-813d-f6e676145f2f",
   "metadata": {
    "tags": []
   },
   "outputs": [],
   "source": [
    "%matplotlib inline\n",
    "\n",
    "from pathlib import Path\n",
    "from tqdm import tqdm\n",
    "\n",
    "import numpy as np\n",
    "import pandas as pd\n",
    "\n",
    "from scipy.stats import spearmanr\n",
    "import talib\n",
    "\n",
    "import matplotlib.pyplot as plt\n",
    "from matplotlib.ticker import FuncFormatter\n",
    "import seaborn as sns"
   ]
  },
  {
   "cell_type": "code",
   "execution_count": 3,
   "id": "330eb07e-ce51-46bb-9e31-6eb174417f4f",
   "metadata": {
    "tags": []
   },
   "outputs": [],
   "source": [
    "sns.set_style('whitegrid')\n",
    "idx = pd.IndexSlice\n",
    "deciles = np.arange(.1, 1, .1)"
   ]
  },
  {
   "cell_type": "code",
   "execution_count": 4,
   "id": "064b958d-8f5f-4113-9557-29fe56a6cb19",
   "metadata": {
    "tags": []
   },
   "outputs": [],
   "source": [
    "tcols = ['openbartime',\n",
    "         'firsttradetime',\n",
    "         'highbidtime',\n",
    "         'highasktime',\n",
    "         'hightradetime',\n",
    "         'lowbidtime',\n",
    "         'lowasktime',\n",
    "         'lowtradetime',\n",
    "         'closebartime',\n",
    "         'lasttradetime']"
   ]
  },
  {
   "cell_type": "code",
   "execution_count": 5,
   "id": "2b40567d-4f1e-4dd9-9dc5-a44f0f6ed72b",
   "metadata": {
    "tags": []
   },
   "outputs": [],
   "source": [
    "drop_cols = ['unknowntickvolume',\n",
    "             'cancelsize',\n",
    "             'tradeatcrossorlocked']"
   ]
  },
  {
   "cell_type": "code",
   "execution_count": 6,
   "id": "2a3d9b3c-5312-4fcd-90ee-fb2174d43be1",
   "metadata": {
    "tags": []
   },
   "outputs": [],
   "source": [
    "keep = ['firsttradeprice',\n",
    "        'hightradeprice',\n",
    "        'lowtradeprice',\n",
    "        'lasttradeprice',\n",
    "        'minspread',\n",
    "        'maxspread',\n",
    "        'volumeweightprice',\n",
    "        'nbboquotecount',\n",
    "        'tradeatbid',\n",
    "        'tradeatbidmid',\n",
    "        'tradeatmid',\n",
    "        'tradeatmidask',\n",
    "        'tradeatask',\n",
    "        'volume',\n",
    "        'totaltrades',\n",
    "        'finravolume',\n",
    "        'finravolumeweightprice',\n",
    "        'uptickvolume',\n",
    "        'downtickvolume',\n",
    "        'repeatuptickvolume',\n",
    "        'repeatdowntickvolume',\n",
    "        'tradetomidvolweight',\n",
    "        'tradetomidvolweightrelative']"
   ]
  },
  {
   "cell_type": "code",
   "execution_count": 7,
   "id": "6b75103f-68c2-4904-9e2e-6b3567a69c63",
   "metadata": {
    "tags": []
   },
   "outputs": [],
   "source": [
    "# shorten most of the field names to reduce typing\n",
    "\n",
    "columns = {'volumeweightprice': 'price',\n",
    "           'finravolume': 'fvolume',\n",
    "           'finravolumeweightprice': 'fprice',\n",
    "           'uptickvolume': 'up',\n",
    "           'downtickvolume': 'down',\n",
    "           'repeatuptickvolume': 'rup',\n",
    "           'repeatdowntickvolume': 'rdown',\n",
    "           'firsttradeprice': 'first',\n",
    "           'hightradeprice': 'high',\n",
    "           'lowtradeprice': 'low',\n",
    "           'lasttradeprice': 'last',\n",
    "           'nbboquotecount': 'nbbo',\n",
    "           'totaltrades': 'ntrades',\n",
    "           'openbidprice': 'obprice',\n",
    "           'openbidsize': 'obsize',\n",
    "           'openaskprice': 'oaprice',\n",
    "           'openasksize': 'oasize',\n",
    "           'highbidprice': 'hbprice',\n",
    "           'highbidsize': 'hbsize',\n",
    "           'highaskprice': 'haprice',\n",
    "           'highasksize': 'hasize',\n",
    "           'lowbidprice': 'lbprice',\n",
    "           'lowbidsize': 'lbsize',\n",
    "           'lowaskprice': 'laprice',\n",
    "           'lowasksize': 'lasize',\n",
    "           'closebidprice': 'cbprice',\n",
    "           'closebidsize': 'cbsize',\n",
    "           'closeaskprice': 'caprice',\n",
    "           'closeasksize': 'casize',\n",
    "           'firsttradesize': 'firstsize',\n",
    "           'hightradesize': 'highsize',\n",
    "           'lowtradesize': 'lowsize',\n",
    "           'lasttradesize': 'lastsize',\n",
    "           'tradetomidvolweight': 'volweight',\n",
    "           'tradetomidvolweightrelative': 'volweightrel'}"
   ]
  },
  {
   "cell_type": "code",
   "execution_count": 8,
   "id": "eb02be24-00da-4b33-8b76-62667f79c7d7",
   "metadata": {
    "tags": []
   },
   "outputs": [],
   "source": [
    "nasdaq_path = Path('../data/nasdaq100')"
   ]
  },
  {
   "cell_type": "code",
   "execution_count": 9,
   "id": "643f621f-b89a-4525-96a2-b4bb1fad6352",
   "metadata": {
    "tags": []
   },
   "outputs": [],
   "source": [
    "def extract_and_combine_data():\n",
    "    path = nasdaq_path / '1min_taq'\n",
    "\n",
    "    data = []\n",
    "    # ~80K files to process\n",
    "    for f in tqdm(list(path.glob('*/**/*.csv.gz'))):\n",
    "        data.append(pd.read_csv(f, parse_dates=[['Date', 'TimeBarStart']])\n",
    "                    .rename(columns=str.lower)\n",
    "                    .drop(tcols + drop_cols, axis=1)\n",
    "                    .rename(columns=columns)\n",
    "                    .set_index('date_timebarstart')\n",
    "                    .sort_index()\n",
    "                    .between_time('9:30', '16:00')\n",
    "                    .set_index('ticker', append=True)\n",
    "                    .swaplevel()\n",
    "                    .rename(columns=lambda x: x.replace('tradeat', 'at')))\n",
    "    data = pd.concat(data).apply(pd.to_numeric, downcast='integer')\n",
    "    data.index.rename(['ticker', 'date_time'])\n",
    "    print(data.info(show_counts=True))\n",
    "    data.to_hdf(nasdaq_path / 'algoseek.h5', 'min_taq')"
   ]
  },
  {
   "cell_type": "code",
   "execution_count": 10,
   "id": "10ddebbb-4228-405e-a567-a90c04daab72",
   "metadata": {
    "tags": []
   },
   "outputs": [
    {
     "name": "stderr",
     "output_type": "stream",
     "text": [
      "100%|████████████████████████████████████████████████████████████████████████████| 80194/80194 [39:16<00:00, 34.03it/s]\n"
     ]
    },
    {
     "name": "stdout",
     "output_type": "stream",
     "text": [
      "<class 'pandas.core.frame.DataFrame'>\n",
      "MultiIndex: 31355463 entries, ('AAL', Timestamp('2015-01-02 09:30:00')) to ('XRAY', Timestamp('2017-12-29 16:00:00'))\n",
      "Data columns (total 45 columns):\n",
      " #   Column         Non-Null Count     Dtype  \n",
      "---  ------         --------------     -----  \n",
      " 0   obprice        31355451 non-null  float64\n",
      " 1   obsize         31355451 non-null  float64\n",
      " 2   oaprice        31355457 non-null  float64\n",
      " 3   oasize         31355457 non-null  float64\n",
      " 4   first          30955838 non-null  float64\n",
      " 5   firstsize      30955838 non-null  float64\n",
      " 6   hbprice        31355463 non-null  float64\n",
      " 7   hbsize         31355463 non-null  int32  \n",
      " 8   haprice        31355463 non-null  float64\n",
      " 9   hasize         31355463 non-null  int32  \n",
      " 10  high           30955838 non-null  float64\n",
      " 11  highsize       30955838 non-null  float64\n",
      " 12  lbprice        31355463 non-null  float64\n",
      " 13  lbsize         31355463 non-null  int32  \n",
      " 14  laprice        31355463 non-null  float64\n",
      " 15  lasize         31355463 non-null  int32  \n",
      " 16  low            30955838 non-null  float64\n",
      " 17  lowsize        30955838 non-null  float64\n",
      " 18  cbprice        31355463 non-null  float64\n",
      " 19  cbsize         31355463 non-null  int32  \n",
      " 20  caprice        31355463 non-null  float64\n",
      " 21  casize         31355463 non-null  int32  \n",
      " 22  last           30955838 non-null  float64\n",
      " 23  lastsize       30955838 non-null  float64\n",
      " 24  minspread      31354810 non-null  float64\n",
      " 25  maxspread      31355327 non-null  float64\n",
      " 26  price          30386944 non-null  float64\n",
      " 27  nbbo           31355463 non-null  int32  \n",
      " 28  atbid          31355463 non-null  int32  \n",
      " 29  atbidmid       31355463 non-null  int32  \n",
      " 30  atmid          31355463 non-null  int32  \n",
      " 31  atmidask       31355463 non-null  int32  \n",
      " 32  atask          31355463 non-null  int32  \n",
      " 33  volume         31355463 non-null  int32  \n",
      " 34  ntrades        31355463 non-null  int16  \n",
      " 35  fvolume        31355463 non-null  int32  \n",
      " 36  fprice         29561289 non-null  float64\n",
      " 37  up             31355463 non-null  int32  \n",
      " 38  down           31355463 non-null  int32  \n",
      " 39  rup            31355463 non-null  int32  \n",
      " 40  rdown          31355463 non-null  int32  \n",
      " 41  volweight      30386944 non-null  float64\n",
      " 42  volweightrel   30386944 non-null  float64\n",
      " 43  timeweightbid  31355463 non-null  float64\n",
      " 44  timeweightask  31355463 non-null  float64\n",
      "dtypes: float64(26), int16(1), int32(18)\n",
      "memory usage: 8.4+ GB\n",
      "None\n"
     ]
    }
   ],
   "source": [
    "extract_and_combine_data()"
   ]
  },
  {
   "cell_type": "code",
   "execution_count": 11,
   "id": "1365027f-e3ef-4fd9-85b8-6c3079b18a1b",
   "metadata": {
    "tags": []
   },
   "outputs": [],
   "source": [
    "ohlcv_cols = ['first', 'high', 'low', 'last', 'price', 'volume']"
   ]
  },
  {
   "cell_type": "code",
   "execution_count": 12,
   "id": "0ea65d64-eb3a-4b5e-a986-bac115c24869",
   "metadata": {
    "tags": []
   },
   "outputs": [],
   "source": [
    "data_cols = ohlcv_cols + ['up', 'down', 'rup', 'rdown', 'atask', 'atbid']"
   ]
  },
  {
   "cell_type": "code",
   "execution_count": 14,
   "id": "b117b3fb-37b4-4e04-8ce3-579d371234ac",
   "metadata": {
    "tags": []
   },
   "outputs": [],
   "source": [
    "with pd.HDFStore(nasdaq_path / 'algoseek.h5') as store:\n",
    "    df = store['min_taq'].loc[:, data_cols].sort_index()"
   ]
  },
  {
   "cell_type": "code",
   "execution_count": 17,
   "id": "31f32bd9-7947-4482-a2c7-72018c9d5e66",
   "metadata": {},
   "outputs": [],
   "source": [
    "df['date'] = pd.to_datetime(df.index.get_level_values('date_timebarstart').date)"
   ]
  },
  {
   "cell_type": "code",
   "execution_count": 19,
   "id": "c6177fa9-15f3-4921-8c03-5da010bb6559",
   "metadata": {
    "tags": []
   },
   "outputs": [],
   "source": [
    "df.to_hdf('data/algoseek.h5', 'data')"
   ]
  },
  {
   "cell_type": "code",
   "execution_count": 33,
   "id": "3d299993-5b1b-411e-a3c4-9535e26c035a",
   "metadata": {
    "tags": []
   },
   "outputs": [],
   "source": [
    "df = pd.read_hdf('data/algoseek.h5', 'data')"
   ]
  },
  {
   "cell_type": "code",
   "execution_count": 34,
   "id": "d3381fec-42ee-4fc7-a39e-c433faa5ef95",
   "metadata": {
    "tags": []
   },
   "outputs": [
    {
     "name": "stdout",
     "output_type": "stream",
     "text": [
      "<class 'pandas.core.frame.DataFrame'>\n",
      "MultiIndex: 31355463 entries, ('AAL', Timestamp('2015-01-02 09:30:00')) to ('YHOO', Timestamp('2017-06-16 16:00:00'))\n",
      "Data columns (total 13 columns):\n",
      " #   Column  Non-Null Count     Dtype         \n",
      "---  ------  --------------     -----         \n",
      " 0   first   30955838 non-null  float64       \n",
      " 1   high    30955838 non-null  float64       \n",
      " 2   low     30955838 non-null  float64       \n",
      " 3   last    30955838 non-null  float64       \n",
      " 4   price   30386944 non-null  float64       \n",
      " 5   volume  31355463 non-null  int32         \n",
      " 6   up      31355463 non-null  int32         \n",
      " 7   down    31355463 non-null  int32         \n",
      " 8   rup     31355463 non-null  int32         \n",
      " 9   rdown   31355463 non-null  int32         \n",
      " 10  atask   31355463 non-null  int32         \n",
      " 11  atbid   31355463 non-null  int32         \n",
      " 12  date    31355463 non-null  datetime64[ns]\n",
      "dtypes: datetime64[ns](1), float64(5), int32(7)\n",
      "memory usage: 2.4+ GB\n"
     ]
    }
   ],
   "source": [
    "df.info(null_counts=True)"
   ]
  },
  {
   "cell_type": "markdown",
   "id": "9c75bc90-0a87-47b2-99a1-7aefb71d9f68",
   "metadata": {},
   "source": [
    "## Feature Engineering"
   ]
  },
  {
   "cell_type": "code",
   "execution_count": 35,
   "id": "ce5646f2-be75-4a77-994a-f9c91f782a85",
   "metadata": {
    "tags": []
   },
   "outputs": [],
   "source": [
    "by_ticker = df.sort_index().groupby('ticker', group_keys=False)\n",
    "by_ticker_date = df.sort_index().groupby(['ticker', 'date'])"
   ]
  },
  {
   "cell_type": "markdown",
   "id": "a492eb88-57e0-43e1-840e-e04be87bcc9f",
   "metadata": {},
   "source": [
    "Create empty DataFrame with original ticker/timestamp to hold the features"
   ]
  },
  {
   "cell_type": "code",
   "execution_count": 36,
   "id": "eb97ed3a-8dfb-4203-a885-64cd5ae500d2",
   "metadata": {
    "tags": []
   },
   "outputs": [],
   "source": [
    "data = pd.DataFrame(index=df.index)"
   ]
  },
  {
   "cell_type": "code",
   "execution_count": 37,
   "id": "dedff645-1df9-4b1d-ab0f-02adb93beaf5",
   "metadata": {
    "tags": []
   },
   "outputs": [],
   "source": [
    "data['date'] = pd.factorize(df['date'], sort=True)[0]"
   ]
  },
  {
   "cell_type": "code",
   "execution_count": 40,
   "id": "17524f61-d77e-4fe2-94db-14cd101727b2",
   "metadata": {
    "tags": []
   },
   "outputs": [],
   "source": [
    "data['minute'] = pd.to_timedelta(data.index.get_level_values('date_timebarstart').time.astype(str))\n",
    "data.minute = (data.minute.dt.seconds.sub(data.minute.dt.seconds.min()).div(60).astype(int))"
   ]
  },
  {
   "cell_type": "markdown",
   "id": "c654c2bb-b7fa-40d4-ba02-24f20841a0c0",
   "metadata": {},
   "source": [
    "## Lagged Returns"
   ]
  },
  {
   "cell_type": "code",
   "execution_count": 41,
   "id": "46c4bb4e-245a-4638-a6b9-69bd8894debe",
   "metadata": {
    "tags": []
   },
   "outputs": [],
   "source": [
    "data[f'ret1min'] = df['last'].div(df['first']).sub(1)"
   ]
  },
  {
   "cell_type": "code",
   "execution_count": 42,
   "id": "64c8d3f0-6d4f-494d-be32-36028a8750fc",
   "metadata": {
    "tags": []
   },
   "outputs": [
    {
     "data": {
      "text/html": [
       "<div>\n",
       "<style scoped>\n",
       "    .dataframe tbody tr th:only-of-type {\n",
       "        vertical-align: middle;\n",
       "    }\n",
       "\n",
       "    .dataframe tbody tr th {\n",
       "        vertical-align: top;\n",
       "    }\n",
       "\n",
       "    .dataframe thead th {\n",
       "        text-align: right;\n",
       "    }\n",
       "</style>\n",
       "<table border=\"1\" class=\"dataframe\">\n",
       "  <thead>\n",
       "    <tr style=\"text-align: right;\">\n",
       "      <th></th>\n",
       "      <th></th>\n",
       "      <th>date</th>\n",
       "      <th>minute</th>\n",
       "      <th>ret1min</th>\n",
       "    </tr>\n",
       "    <tr>\n",
       "      <th>ticker</th>\n",
       "      <th>date_timebarstart</th>\n",
       "      <th></th>\n",
       "      <th></th>\n",
       "      <th></th>\n",
       "    </tr>\n",
       "  </thead>\n",
       "  <tbody>\n",
       "    <tr>\n",
       "      <th rowspan=\"5\" valign=\"top\">AAL</th>\n",
       "      <th>2015-01-02 09:30:00</th>\n",
       "      <td>0</td>\n",
       "      <td>0</td>\n",
       "      <td>0.004241</td>\n",
       "    </tr>\n",
       "    <tr>\n",
       "      <th>2015-01-02 09:31:00</th>\n",
       "      <td>0</td>\n",
       "      <td>1</td>\n",
       "      <td>-0.007896</td>\n",
       "    </tr>\n",
       "    <tr>\n",
       "      <th>2015-01-02 09:32:00</th>\n",
       "      <td>0</td>\n",
       "      <td>2</td>\n",
       "      <td>0.005552</td>\n",
       "    </tr>\n",
       "    <tr>\n",
       "      <th>2015-01-02 09:33:00</th>\n",
       "      <td>0</td>\n",
       "      <td>3</td>\n",
       "      <td>-0.006072</td>\n",
       "    </tr>\n",
       "    <tr>\n",
       "      <th>2015-01-02 09:34:00</th>\n",
       "      <td>0</td>\n",
       "      <td>4</td>\n",
       "      <td>0.007773</td>\n",
       "    </tr>\n",
       "    <tr>\n",
       "      <th>...</th>\n",
       "      <th>...</th>\n",
       "      <td>...</td>\n",
       "      <td>...</td>\n",
       "      <td>...</td>\n",
       "    </tr>\n",
       "    <tr>\n",
       "      <th rowspan=\"5\" valign=\"top\">YHOO</th>\n",
       "      <th>2017-06-16 15:56:00</th>\n",
       "      <td>618</td>\n",
       "      <td>386</td>\n",
       "      <td>-0.000663</td>\n",
       "    </tr>\n",
       "    <tr>\n",
       "      <th>2017-06-16 15:57:00</th>\n",
       "      <td>618</td>\n",
       "      <td>387</td>\n",
       "      <td>0.001138</td>\n",
       "    </tr>\n",
       "    <tr>\n",
       "      <th>2017-06-16 15:58:00</th>\n",
       "      <td>618</td>\n",
       "      <td>388</td>\n",
       "      <td>0.001894</td>\n",
       "    </tr>\n",
       "    <tr>\n",
       "      <th>2017-06-16 15:59:00</th>\n",
       "      <td>618</td>\n",
       "      <td>389</td>\n",
       "      <td>-0.006051</td>\n",
       "    </tr>\n",
       "    <tr>\n",
       "      <th>2017-06-16 16:00:00</th>\n",
       "      <td>618</td>\n",
       "      <td>390</td>\n",
       "      <td>0.001519</td>\n",
       "    </tr>\n",
       "  </tbody>\n",
       "</table>\n",
       "<p>31355463 rows × 3 columns</p>\n",
       "</div>"
      ],
      "text/plain": [
       "                            date  minute   ret1min\n",
       "ticker date_timebarstart                          \n",
       "AAL    2015-01-02 09:30:00     0       0  0.004241\n",
       "       2015-01-02 09:31:00     0       1 -0.007896\n",
       "       2015-01-02 09:32:00     0       2  0.005552\n",
       "       2015-01-02 09:33:00     0       3 -0.006072\n",
       "       2015-01-02 09:34:00     0       4  0.007773\n",
       "...                          ...     ...       ...\n",
       "YHOO   2017-06-16 15:56:00   618     386 -0.000663\n",
       "       2017-06-16 15:57:00   618     387  0.001138\n",
       "       2017-06-16 15:58:00   618     388  0.001894\n",
       "       2017-06-16 15:59:00   618     389 -0.006051\n",
       "       2017-06-16 16:00:00   618     390  0.001519\n",
       "\n",
       "[31355463 rows x 3 columns]"
      ]
     },
     "execution_count": 42,
     "metadata": {},
     "output_type": "execute_result"
    }
   ],
   "source": [
    "data"
   ]
  },
  {
   "cell_type": "code",
   "execution_count": 44,
   "id": "67fbd93a-ea01-4d3b-8eb0-9be6e7bb1879",
   "metadata": {
    "tags": []
   },
   "outputs": [
    {
     "data": {
      "image/png": "[encoded data removed]",
      "text/plain": [
       "<Figure size 640x480 with 1 Axes>"
      ]
     },
     "metadata": {},
     "output_type": "display_data"
    }
   ],
   "source": [
    "sns.kdeplot(data.ret1min.sample(n=100000));"
   ]
  },
  {
   "cell_type": "code",
   "execution_count": 48,
   "id": "17d608e1-2429-4ee6-8a23-d414470c7f11",
   "metadata": {
    "tags": []
   },
   "outputs": [
    {
     "data": {
      "text/plain": [
       "mean     -0.000%\n",
       "std       0.086%\n",
       "min     -12.448%\n",
       "10%      -0.075%\n",
       "20%      -0.041%\n",
       "30%      -0.023%\n",
       "40%      -0.009%\n",
       "50%       0.000%\n",
       "60%       0.009%\n",
       "70%       0.022%\n",
       "80%       0.040%\n",
       "90%       0.074%\n",
       "max      13.392%\n",
       "Name: ret1min, dtype: object"
      ]
     },
     "execution_count": 48,
     "metadata": {},
     "output_type": "execute_result"
    }
   ],
   "source": [
    "data.ret1min.describe(percentiles=np.arange(.1, 1, .1)).iloc[1:].apply(lambda x: f'{x:.3%}')"
   ]
  },
  {
   "cell_type": "code",
   "execution_count": 49,
   "id": "3acc4ec3-15fa-483f-952c-61b8dd971b60",
   "metadata": {
    "tags": []
   },
   "outputs": [
    {
     "name": "stdout",
     "output_type": "stream",
     "text": [
      "Skew: 0.63 | Kurtosis: 399.53\n"
     ]
    }
   ],
   "source": [
    "print(f'Skew: {data.ret1min.skew():.2f} | Kurtosis: {data.ret1min.kurtosis():.2f}')"
   ]
  },
  {
   "cell_type": "markdown",
   "id": "e7d4379f-b932-4f1e-b920-09830ddb9163",
   "metadata": {},
   "source": [
    "intra-bar price moves with the highest returns:"
   ]
  },
  {
   "cell_type": "code",
   "execution_count": 50,
   "id": "c770233a-ed61-4c4d-b6c8-ab4142e78fea",
   "metadata": {
    "tags": []
   },
   "outputs": [
    {
     "data": {
      "text/html": [
       "<div>\n",
       "<style scoped>\n",
       "    .dataframe tbody tr th:only-of-type {\n",
       "        vertical-align: middle;\n",
       "    }\n",
       "\n",
       "    .dataframe tbody tr th {\n",
       "        vertical-align: top;\n",
       "    }\n",
       "\n",
       "    .dataframe thead th {\n",
       "        text-align: right;\n",
       "    }\n",
       "</style>\n",
       "<table border=\"1\" class=\"dataframe\">\n",
       "  <thead>\n",
       "    <tr style=\"text-align: right;\">\n",
       "      <th></th>\n",
       "      <th></th>\n",
       "      <th>date</th>\n",
       "      <th>minute</th>\n",
       "      <th>ret1min</th>\n",
       "      <th>first</th>\n",
       "      <th>last</th>\n",
       "    </tr>\n",
       "    <tr>\n",
       "      <th>ticker</th>\n",
       "      <th>date_timebarstart</th>\n",
       "      <th></th>\n",
       "      <th></th>\n",
       "      <th></th>\n",
       "      <th></th>\n",
       "      <th></th>\n",
       "    </tr>\n",
       "  </thead>\n",
       "  <tbody>\n",
       "    <tr>\n",
       "      <th>TSCO</th>\n",
       "      <th>2016-12-22 10:01:00</th>\n",
       "      <td>498</td>\n",
       "      <td>31</td>\n",
       "      <td>0.133921</td>\n",
       "      <td>68.1000</td>\n",
       "      <td>77.2200</td>\n",
       "    </tr>\n",
       "    <tr>\n",
       "      <th>AMGN</th>\n",
       "      <th>2017-03-06 15:46:00</th>\n",
       "      <td>546</td>\n",
       "      <td>376</td>\n",
       "      <td>0.132842</td>\n",
       "      <td>158.7600</td>\n",
       "      <td>179.8500</td>\n",
       "    </tr>\n",
       "    <tr>\n",
       "      <th>LILA</th>\n",
       "      <th>2015-07-02 09:39:00</th>\n",
       "      <td>125</td>\n",
       "      <td>9</td>\n",
       "      <td>0.121998</td>\n",
       "      <td>50.0001</td>\n",
       "      <td>56.1000</td>\n",
       "    </tr>\n",
       "    <tr>\n",
       "      <th>BIDU</th>\n",
       "      <th>2015-08-24 09:32:00</th>\n",
       "      <td>161</td>\n",
       "      <td>2</td>\n",
       "      <td>0.119729</td>\n",
       "      <td>111.2300</td>\n",
       "      <td>124.5475</td>\n",
       "    </tr>\n",
       "    <tr>\n",
       "      <th>NXPI</th>\n",
       "      <th>2016-09-29 13:10:00</th>\n",
       "      <td>439</td>\n",
       "      <td>220</td>\n",
       "      <td>0.119144</td>\n",
       "      <td>81.7500</td>\n",
       "      <td>91.4900</td>\n",
       "    </tr>\n",
       "    <tr>\n",
       "      <th>HSIC</th>\n",
       "      <th>2015-10-26 15:38:00</th>\n",
       "      <td>205</td>\n",
       "      <td>368</td>\n",
       "      <td>0.105501</td>\n",
       "      <td>135.0700</td>\n",
       "      <td>149.3200</td>\n",
       "    </tr>\n",
       "    <tr>\n",
       "      <th>CELG</th>\n",
       "      <th>2015-08-24 09:35:00</th>\n",
       "      <td>161</td>\n",
       "      <td>5</td>\n",
       "      <td>0.100645</td>\n",
       "      <td>93.0000</td>\n",
       "      <td>102.3600</td>\n",
       "    </tr>\n",
       "    <tr>\n",
       "      <th>LILAK</th>\n",
       "      <th>2015-07-02 09:38:00</th>\n",
       "      <td>125</td>\n",
       "      <td>8</td>\n",
       "      <td>0.098778</td>\n",
       "      <td>50.0101</td>\n",
       "      <td>54.9500</td>\n",
       "    </tr>\n",
       "    <tr>\n",
       "      <th>CTRP</th>\n",
       "      <th>2017-12-11 10:51:00</th>\n",
       "      <td>741</td>\n",
       "      <td>81</td>\n",
       "      <td>0.097899</td>\n",
       "      <td>43.3100</td>\n",
       "      <td>47.5500</td>\n",
       "    </tr>\n",
       "    <tr>\n",
       "      <th>LMCK</th>\n",
       "      <th>2016-02-23 09:30:00</th>\n",
       "      <td>286</td>\n",
       "      <td>0</td>\n",
       "      <td>0.095641</td>\n",
       "      <td>30.7400</td>\n",
       "      <td>33.6800</td>\n",
       "    </tr>\n",
       "  </tbody>\n",
       "</table>\n",
       "</div>"
      ],
      "text/plain": [
       "                            date  minute   ret1min     first      last\n",
       "ticker date_timebarstart                                              \n",
       "TSCO   2016-12-22 10:01:00   498      31  0.133921   68.1000   77.2200\n",
       "AMGN   2017-03-06 15:46:00   546     376  0.132842  158.7600  179.8500\n",
       "LILA   2015-07-02 09:39:00   125       9  0.121998   50.0001   56.1000\n",
       "BIDU   2015-08-24 09:32:00   161       2  0.119729  111.2300  124.5475\n",
       "NXPI   2016-09-29 13:10:00   439     220  0.119144   81.7500   91.4900\n",
       "HSIC   2015-10-26 15:38:00   205     368  0.105501  135.0700  149.3200\n",
       "CELG   2015-08-24 09:35:00   161       5  0.100645   93.0000  102.3600\n",
       "LILAK  2015-07-02 09:38:00   125       8  0.098778   50.0101   54.9500\n",
       "CTRP   2017-12-11 10:51:00   741      81  0.097899   43.3100   47.5500\n",
       "LMCK   2016-02-23 09:30:00   286       0  0.095641   30.7400   33.6800"
      ]
     },
     "execution_count": 50,
     "metadata": {},
     "output_type": "execute_result"
    }
   ],
   "source": [
    "data.join(df[['first', 'last']]).nlargest(10, columns=['ret1min'])"
   ]
  },
  {
   "cell_type": "code",
   "execution_count": 52,
   "id": "4f34f45a-c487-4710-a7a6-9a17a4a732e5",
   "metadata": {
    "tags": []
   },
   "outputs": [
    {
     "name": "stderr",
     "output_type": "stream",
     "text": [
      "100%|████████████████████████████████████████████████████████████████████████████████████| 9/9 [00:18<00:00,  2.03s/it]\n"
     ]
    }
   ],
   "source": [
    "for t in tqdm(range(2, 11)):\n",
    "    data[f'ret{t}min'] = df['last'].div(by_ticker_date['first'].shift(t-1)).sub(1)"
   ]
  },
  {
   "cell_type": "code",
   "execution_count": 53,
   "id": "b71e4db7-8137-4608-9cf8-60d2a27b3134",
   "metadata": {
    "tags": []
   },
   "outputs": [],
   "source": [
    "data['fwd1min'] = (data\n",
    "                   .sort_index()\n",
    "                   .groupby(['ticker', 'date'])\n",
    "                   .ret1min\n",
    "                   .shift(-1))"
   ]
  },
  {
   "cell_type": "code",
   "execution_count": 58,
   "id": "a810555b-f9e6-4221-965e-7d8c390b5e19",
   "metadata": {
    "tags": []
   },
   "outputs": [],
   "source": [
    "data = data.dropna(subset=['fwd1min'])"
   ]
  },
  {
   "cell_type": "code",
   "execution_count": 59,
   "id": "82f10c28-0440-4605-ae3c-b4c27ac35027",
   "metadata": {
    "tags": []
   },
   "outputs": [
    {
     "name": "stdout",
     "output_type": "stream",
     "text": [
      "<class 'pandas.core.frame.DataFrame'>\n",
      "MultiIndex: 30875649 entries, ('AAL', Timestamp('2015-01-02 09:30:00')) to ('YHOO', Timestamp('2017-06-16 15:59:00'))\n",
      "Data columns (total 13 columns):\n",
      " #   Column    Non-Null Count     Dtype  \n",
      "---  ------    --------------     -----  \n",
      " 0   date      30875649 non-null  int64  \n",
      " 1   minute    30875649 non-null  int32  \n",
      " 2   ret1min   30612848 non-null  float64\n",
      " 3   ret2min   30302846 non-null  float64\n",
      " 4   ret3min   30220887 non-null  float64\n",
      " 5   ret4min   30141503 non-null  float64\n",
      " 6   ret5min   30063236 non-null  float64\n",
      " 7   ret6min   29983969 non-null  float64\n",
      " 8   ret7min   29903822 non-null  float64\n",
      " 9   ret8min   29824607 non-null  float64\n",
      " 10  ret9min   29745431 non-null  float64\n",
      " 11  ret10min  29666821 non-null  float64\n",
      " 12  fwd1min   30875649 non-null  float64\n",
      "dtypes: float64(11), int32(1), int64(1)\n",
      "memory usage: 3.1+ GB\n"
     ]
    }
   ],
   "source": [
    "data.info(null_counts=True)"
   ]
  },
  {
   "cell_type": "markdown",
   "id": "21fbe743-d86a-45c8-a971-724f1186b48a",
   "metadata": {},
   "source": [
    "## Normalized up/downtick volume"
   ]
  },
  {
   "cell_type": "code",
   "execution_count": 60,
   "id": "4757fc41-09fd-4ec4-9a1c-d8b02ffad30a",
   "metadata": {
    "tags": []
   },
   "outputs": [],
   "source": [
    "for f in ['up', 'down', 'rup', 'rdown']:\n",
    "    data[f] = df.loc[:, f].div(df.volume).replace(np.inf, np.nan)"
   ]
  },
  {
   "cell_type": "code",
   "execution_count": 67,
   "id": "6067aa01-2252-4cca-ab72-d3334ad391ee",
   "metadata": {
    "tags": []
   },
   "outputs": [
    {
     "ename": "MemoryError",
     "evalue": "Unable to allocate 1.17 GiB for an array with shape (5, 31355463) and data type float64",
     "output_type": "error",
     "traceback": [
      "\u001b[1;31m---------------------------------------------------------------------------\u001b[0m",
      "\u001b[1;31mMemoryError\u001b[0m                               Traceback (most recent call last)",
      "Cell \u001b[1;32mIn[67], line 1\u001b[0m\n\u001b[1;32m----> 1\u001b[0m data[\u001b[38;5;124m'\u001b[39m\u001b[38;5;124mBOP\u001b[39m\u001b[38;5;124m'\u001b[39m] \u001b[38;5;241m=\u001b[39m (\u001b[43mby_ticker\u001b[49m\u001b[38;5;241;43m.\u001b[39;49m\u001b[43mapply\u001b[49m\u001b[43m(\u001b[49m\u001b[38;5;28;43;01mlambda\u001b[39;49;00m\u001b[43m \u001b[49m\u001b[43mx\u001b[49m\u001b[43m:\u001b[49m\u001b[43m \u001b[49m\u001b[43malib\u001b[49m\u001b[38;5;241;43m.\u001b[39;49m\u001b[43mBOP\u001b[49m\u001b[43m(\u001b[49m\u001b[43mx\u001b[49m\u001b[43m[\u001b[49m\u001b[38;5;124;43m'\u001b[39;49m\u001b[38;5;124;43mfirst\u001b[39;49m\u001b[38;5;124;43m'\u001b[39;49m\u001b[43m]\u001b[49m\u001b[43m,\u001b[49m\n\u001b[0;32m      2\u001b[0m \u001b[43m                                                 \u001b[49m\u001b[43mx\u001b[49m\u001b[38;5;241;43m.\u001b[39;49m\u001b[43mhigh\u001b[49m\u001b[43m,\u001b[49m\n\u001b[0;32m      3\u001b[0m \u001b[43m                                                 \u001b[49m\u001b[43mx\u001b[49m\u001b[38;5;241;43m.\u001b[39;49m\u001b[43mlow\u001b[49m\u001b[43m,\u001b[49m\n\u001b[0;32m      4\u001b[0m \u001b[43m                                                 \u001b[49m\u001b[43mx\u001b[49m\u001b[43m[\u001b[49m\u001b[38;5;124;43m'\u001b[39;49m\u001b[38;5;124;43mlast\u001b[39;49m\u001b[38;5;124;43m'\u001b[39;49m\u001b[43m]\u001b[49m\u001b[43m)\u001b[49m\u001b[43m)\u001b[49m)\n",
      "File \u001b[1;32m~\\anaconda3\\envs\\ml4f\\lib\\site-packages\\pandas\\core\\groupby\\groupby.py:894\u001b[0m, in \u001b[0;36mBaseGroupBy.apply\u001b[1;34m(self, func, *args, **kwargs)\u001b[0m\n\u001b[0;32m    892\u001b[0m \u001b[38;5;28;01mwith\u001b[39;00m option_context(\u001b[38;5;124m\"\u001b[39m\u001b[38;5;124mmode.chained_assignment\u001b[39m\u001b[38;5;124m\"\u001b[39m, \u001b[38;5;28;01mNone\u001b[39;00m):\n\u001b[0;32m    893\u001b[0m     \u001b[38;5;28;01mtry\u001b[39;00m:\n\u001b[1;32m--> 894\u001b[0m         result \u001b[38;5;241m=\u001b[39m \u001b[38;5;28;43mself\u001b[39;49m\u001b[38;5;241;43m.\u001b[39;49m\u001b[43m_python_apply_general\u001b[49m\u001b[43m(\u001b[49m\u001b[43mf\u001b[49m\u001b[43m,\u001b[49m\u001b[43m \u001b[49m\u001b[38;5;28;43mself\u001b[39;49m\u001b[38;5;241;43m.\u001b[39;49m\u001b[43m_selected_obj\u001b[49m\u001b[43m)\u001b[49m\n\u001b[0;32m    895\u001b[0m     \u001b[38;5;28;01mexcept\u001b[39;00m \u001b[38;5;167;01mTypeError\u001b[39;00m:\n\u001b[0;32m    896\u001b[0m         \u001b[38;5;66;03m# gh-20949\u001b[39;00m\n\u001b[0;32m    897\u001b[0m         \u001b[38;5;66;03m# try again, with .apply acting as a filtering\u001b[39;00m\n\u001b[1;32m   (...)\u001b[0m\n\u001b[0;32m    901\u001b[0m         \u001b[38;5;66;03m# fails on *some* columns, e.g. a numeric operation\u001b[39;00m\n\u001b[0;32m    902\u001b[0m         \u001b[38;5;66;03m# on a string grouper column\u001b[39;00m\n\u001b[0;32m    904\u001b[0m         \u001b[38;5;28;01mwith\u001b[39;00m group_selection_context(\u001b[38;5;28mself\u001b[39m):\n",
      "File \u001b[1;32m~\\anaconda3\\envs\\ml4f\\lib\\site-packages\\pandas\\core\\groupby\\groupby.py:928\u001b[0m, in \u001b[0;36mBaseGroupBy._python_apply_general\u001b[1;34m(self, f, data)\u001b[0m\n\u001b[0;32m    909\u001b[0m \u001b[38;5;129m@final\u001b[39m\n\u001b[0;32m    910\u001b[0m \u001b[38;5;28;01mdef\u001b[39;00m \u001b[38;5;21m_python_apply_general\u001b[39m(\n\u001b[0;32m    911\u001b[0m     \u001b[38;5;28mself\u001b[39m, f: F, data: FrameOrSeriesUnion\n\u001b[0;32m    912\u001b[0m ) \u001b[38;5;241m-\u001b[39m\u001b[38;5;241m>\u001b[39m FrameOrSeriesUnion:\n\u001b[0;32m    913\u001b[0m \u001b[38;5;250m    \u001b[39m\u001b[38;5;124;03m\"\"\"\u001b[39;00m\n\u001b[0;32m    914\u001b[0m \u001b[38;5;124;03m    Apply function f in python space\u001b[39;00m\n\u001b[0;32m    915\u001b[0m \n\u001b[1;32m   (...)\u001b[0m\n\u001b[0;32m    926\u001b[0m \u001b[38;5;124;03m        data after applying f\u001b[39;00m\n\u001b[0;32m    927\u001b[0m \u001b[38;5;124;03m    \"\"\"\u001b[39;00m\n\u001b[1;32m--> 928\u001b[0m     keys, values, mutated \u001b[38;5;241m=\u001b[39m \u001b[38;5;28;43mself\u001b[39;49m\u001b[38;5;241;43m.\u001b[39;49m\u001b[43mgrouper\u001b[49m\u001b[38;5;241;43m.\u001b[39;49m\u001b[43mapply\u001b[49m\u001b[43m(\u001b[49m\u001b[43mf\u001b[49m\u001b[43m,\u001b[49m\u001b[43m \u001b[49m\u001b[43mdata\u001b[49m\u001b[43m,\u001b[49m\u001b[43m \u001b[49m\u001b[38;5;28;43mself\u001b[39;49m\u001b[38;5;241;43m.\u001b[39;49m\u001b[43maxis\u001b[49m\u001b[43m)\u001b[49m\n\u001b[0;32m    930\u001b[0m     \u001b[38;5;28;01mreturn\u001b[39;00m \u001b[38;5;28mself\u001b[39m\u001b[38;5;241m.\u001b[39m_wrap_applied_output(\n\u001b[0;32m    931\u001b[0m         keys, values, not_indexed_same\u001b[38;5;241m=\u001b[39mmutated \u001b[38;5;129;01mor\u001b[39;00m \u001b[38;5;28mself\u001b[39m\u001b[38;5;241m.\u001b[39mmutated\n\u001b[0;32m    932\u001b[0m     )\n",
      "File \u001b[1;32m~\\anaconda3\\envs\\ml4f\\lib\\site-packages\\pandas\\core\\groupby\\ops.py:189\u001b[0m, in \u001b[0;36mBaseGrouper.apply\u001b[1;34m(self, f, data, axis)\u001b[0m\n\u001b[0;32m    186\u001b[0m group_keys \u001b[38;5;241m=\u001b[39m \u001b[38;5;28mself\u001b[39m\u001b[38;5;241m.\u001b[39m_get_group_keys()\n\u001b[0;32m    187\u001b[0m result_values \u001b[38;5;241m=\u001b[39m \u001b[38;5;28;01mNone\u001b[39;00m\n\u001b[1;32m--> 189\u001b[0m sdata: FrameOrSeries \u001b[38;5;241m=\u001b[39m \u001b[43msplitter\u001b[49m\u001b[38;5;241;43m.\u001b[39;49m\u001b[43m_get_sorted_data\u001b[49m\u001b[43m(\u001b[49m\u001b[43m)\u001b[49m\n\u001b[0;32m    190\u001b[0m \u001b[38;5;28;01mif\u001b[39;00m sdata\u001b[38;5;241m.\u001b[39mndim \u001b[38;5;241m==\u001b[39m \u001b[38;5;241m2\u001b[39m \u001b[38;5;129;01mand\u001b[39;00m np\u001b[38;5;241m.\u001b[39many(sdata\u001b[38;5;241m.\u001b[39mdtypes\u001b[38;5;241m.\u001b[39mapply(is_extension_array_dtype)):\n\u001b[0;32m    191\u001b[0m     \u001b[38;5;66;03m# calling splitter.fast_apply will raise TypeError via apply_frame_axis0\u001b[39;00m\n\u001b[0;32m    192\u001b[0m     \u001b[38;5;66;03m#  if we pass EA instead of ndarray\u001b[39;00m\n\u001b[0;32m    193\u001b[0m     \u001b[38;5;66;03m#  TODO: can we have a workaround for EAs backed by ndarray?\u001b[39;00m\n\u001b[0;32m    194\u001b[0m     \u001b[38;5;28;01mpass\u001b[39;00m\n",
      "File \u001b[1;32m~\\anaconda3\\envs\\ml4f\\lib\\site-packages\\pandas\\core\\groupby\\ops.py:983\u001b[0m, in \u001b[0;36mDataSplitter._get_sorted_data\u001b[1;34m(self)\u001b[0m\n\u001b[0;32m    982\u001b[0m \u001b[38;5;28;01mdef\u001b[39;00m \u001b[38;5;21m_get_sorted_data\u001b[39m(\u001b[38;5;28mself\u001b[39m) \u001b[38;5;241m-\u001b[39m\u001b[38;5;241m>\u001b[39m FrameOrSeries:\n\u001b[1;32m--> 983\u001b[0m     \u001b[38;5;28;01mreturn\u001b[39;00m \u001b[38;5;28;43mself\u001b[39;49m\u001b[38;5;241;43m.\u001b[39;49m\u001b[43mdata\u001b[49m\u001b[38;5;241;43m.\u001b[39;49m\u001b[43mtake\u001b[49m\u001b[43m(\u001b[49m\u001b[38;5;28;43mself\u001b[39;49m\u001b[38;5;241;43m.\u001b[39;49m\u001b[43msort_idx\u001b[49m\u001b[43m,\u001b[49m\u001b[43m \u001b[49m\u001b[43maxis\u001b[49m\u001b[38;5;241;43m=\u001b[39;49m\u001b[38;5;28;43mself\u001b[39;49m\u001b[38;5;241;43m.\u001b[39;49m\u001b[43maxis\u001b[49m\u001b[43m)\u001b[49m\n",
      "File \u001b[1;32m~\\anaconda3\\envs\\ml4f\\lib\\site-packages\\pandas\\core\\generic.py:3586\u001b[0m, in \u001b[0;36mNDFrame.take\u001b[1;34m(self, indices, axis, is_copy, **kwargs)\u001b[0m\n\u001b[0;32m   3582\u001b[0m nv\u001b[38;5;241m.\u001b[39mvalidate_take((), kwargs)\n\u001b[0;32m   3584\u001b[0m \u001b[38;5;28mself\u001b[39m\u001b[38;5;241m.\u001b[39m_consolidate_inplace()\n\u001b[1;32m-> 3586\u001b[0m new_data \u001b[38;5;241m=\u001b[39m \u001b[38;5;28;43mself\u001b[39;49m\u001b[38;5;241;43m.\u001b[39;49m\u001b[43m_mgr\u001b[49m\u001b[38;5;241;43m.\u001b[39;49m\u001b[43mtake\u001b[49m\u001b[43m(\u001b[49m\n\u001b[0;32m   3587\u001b[0m \u001b[43m    \u001b[49m\u001b[43mindices\u001b[49m\u001b[43m,\u001b[49m\u001b[43m \u001b[49m\u001b[43maxis\u001b[49m\u001b[38;5;241;43m=\u001b[39;49m\u001b[38;5;28;43mself\u001b[39;49m\u001b[38;5;241;43m.\u001b[39;49m\u001b[43m_get_block_manager_axis\u001b[49m\u001b[43m(\u001b[49m\u001b[43maxis\u001b[49m\u001b[43m)\u001b[49m\u001b[43m,\u001b[49m\u001b[43m \u001b[49m\u001b[43mverify\u001b[49m\u001b[38;5;241;43m=\u001b[39;49m\u001b[38;5;28;43;01mTrue\u001b[39;49;00m\n\u001b[0;32m   3588\u001b[0m \u001b[43m\u001b[49m\u001b[43m)\u001b[49m\n\u001b[0;32m   3589\u001b[0m \u001b[38;5;28;01mreturn\u001b[39;00m \u001b[38;5;28mself\u001b[39m\u001b[38;5;241m.\u001b[39m_constructor(new_data)\u001b[38;5;241m.\u001b[39m__finalize__(\u001b[38;5;28mself\u001b[39m, method\u001b[38;5;241m=\u001b[39m\u001b[38;5;124m\"\u001b[39m\u001b[38;5;124mtake\u001b[39m\u001b[38;5;124m\"\u001b[39m)\n",
      "File \u001b[1;32m~\\anaconda3\\envs\\ml4f\\lib\\site-packages\\pandas\\core\\internals\\managers.py:1474\u001b[0m, in \u001b[0;36mBlockManager.take\u001b[1;34m(self, indexer, axis, verify, convert)\u001b[0m\n\u001b[0;32m   1471\u001b[0m         \u001b[38;5;28;01mraise\u001b[39;00m \u001b[38;5;167;01mException\u001b[39;00m(\u001b[38;5;124m\"\u001b[39m\u001b[38;5;124mIndices must be nonzero and less than the axis length\u001b[39m\u001b[38;5;124m\"\u001b[39m)\n\u001b[0;32m   1473\u001b[0m new_labels \u001b[38;5;241m=\u001b[39m \u001b[38;5;28mself\u001b[39m\u001b[38;5;241m.\u001b[39maxes[axis]\u001b[38;5;241m.\u001b[39mtake(indexer)\n\u001b[1;32m-> 1474\u001b[0m \u001b[38;5;28;01mreturn\u001b[39;00m \u001b[38;5;28;43mself\u001b[39;49m\u001b[38;5;241;43m.\u001b[39;49m\u001b[43mreindex_indexer\u001b[49m\u001b[43m(\u001b[49m\n\u001b[0;32m   1475\u001b[0m \u001b[43m    \u001b[49m\u001b[43mnew_axis\u001b[49m\u001b[38;5;241;43m=\u001b[39;49m\u001b[43mnew_labels\u001b[49m\u001b[43m,\u001b[49m\u001b[43m \u001b[49m\u001b[43mindexer\u001b[49m\u001b[38;5;241;43m=\u001b[39;49m\u001b[43mindexer\u001b[49m\u001b[43m,\u001b[49m\u001b[43m \u001b[49m\u001b[43maxis\u001b[49m\u001b[38;5;241;43m=\u001b[39;49m\u001b[43maxis\u001b[49m\u001b[43m,\u001b[49m\u001b[43m \u001b[49m\u001b[43mallow_dups\u001b[49m\u001b[38;5;241;43m=\u001b[39;49m\u001b[38;5;28;43;01mTrue\u001b[39;49;00m\n\u001b[0;32m   1476\u001b[0m \u001b[43m\u001b[49m\u001b[43m)\u001b[49m\n",
      "File \u001b[1;32m~\\anaconda3\\envs\\ml4f\\lib\\site-packages\\pandas\\core\\internals\\managers.py:1311\u001b[0m, in \u001b[0;36mBlockManager.reindex_indexer\u001b[1;34m(self, new_axis, indexer, axis, fill_value, allow_dups, copy, consolidate, only_slice)\u001b[0m\n\u001b[0;32m   1307\u001b[0m     new_blocks \u001b[38;5;241m=\u001b[39m \u001b[38;5;28mself\u001b[39m\u001b[38;5;241m.\u001b[39m_slice_take_blocks_ax0(\n\u001b[0;32m   1308\u001b[0m         indexer, fill_value\u001b[38;5;241m=\u001b[39mfill_value, only_slice\u001b[38;5;241m=\u001b[39monly_slice\n\u001b[0;32m   1309\u001b[0m     )\n\u001b[0;32m   1310\u001b[0m \u001b[38;5;28;01melse\u001b[39;00m:\n\u001b[1;32m-> 1311\u001b[0m     new_blocks \u001b[38;5;241m=\u001b[39m [\n\u001b[0;32m   1312\u001b[0m         blk\u001b[38;5;241m.\u001b[39mtake_nd(\n\u001b[0;32m   1313\u001b[0m             indexer,\n\u001b[0;32m   1314\u001b[0m             axis\u001b[38;5;241m=\u001b[39maxis,\n\u001b[0;32m   1315\u001b[0m             fill_value\u001b[38;5;241m=\u001b[39m(\n\u001b[0;32m   1316\u001b[0m                 fill_value \u001b[38;5;28;01mif\u001b[39;00m fill_value \u001b[38;5;129;01mis\u001b[39;00m \u001b[38;5;129;01mnot\u001b[39;00m \u001b[38;5;28;01mNone\u001b[39;00m \u001b[38;5;28;01melse\u001b[39;00m blk\u001b[38;5;241m.\u001b[39mfill_value\n\u001b[0;32m   1317\u001b[0m             ),\n\u001b[0;32m   1318\u001b[0m         )\n\u001b[0;32m   1319\u001b[0m         \u001b[38;5;28;01mfor\u001b[39;00m blk \u001b[38;5;129;01min\u001b[39;00m \u001b[38;5;28mself\u001b[39m\u001b[38;5;241m.\u001b[39mblocks\n\u001b[0;32m   1320\u001b[0m     ]\n\u001b[0;32m   1322\u001b[0m new_axes \u001b[38;5;241m=\u001b[39m \u001b[38;5;28mlist\u001b[39m(\u001b[38;5;28mself\u001b[39m\u001b[38;5;241m.\u001b[39maxes)\n\u001b[0;32m   1323\u001b[0m new_axes[axis] \u001b[38;5;241m=\u001b[39m new_axis\n",
      "File \u001b[1;32m~\\anaconda3\\envs\\ml4f\\lib\\site-packages\\pandas\\core\\internals\\managers.py:1312\u001b[0m, in \u001b[0;36m<listcomp>\u001b[1;34m(.0)\u001b[0m\n\u001b[0;32m   1307\u001b[0m     new_blocks \u001b[38;5;241m=\u001b[39m \u001b[38;5;28mself\u001b[39m\u001b[38;5;241m.\u001b[39m_slice_take_blocks_ax0(\n\u001b[0;32m   1308\u001b[0m         indexer, fill_value\u001b[38;5;241m=\u001b[39mfill_value, only_slice\u001b[38;5;241m=\u001b[39monly_slice\n\u001b[0;32m   1309\u001b[0m     )\n\u001b[0;32m   1310\u001b[0m \u001b[38;5;28;01melse\u001b[39;00m:\n\u001b[0;32m   1311\u001b[0m     new_blocks \u001b[38;5;241m=\u001b[39m [\n\u001b[1;32m-> 1312\u001b[0m         \u001b[43mblk\u001b[49m\u001b[38;5;241;43m.\u001b[39;49m\u001b[43mtake_nd\u001b[49m\u001b[43m(\u001b[49m\n\u001b[0;32m   1313\u001b[0m \u001b[43m            \u001b[49m\u001b[43mindexer\u001b[49m\u001b[43m,\u001b[49m\n\u001b[0;32m   1314\u001b[0m \u001b[43m            \u001b[49m\u001b[43maxis\u001b[49m\u001b[38;5;241;43m=\u001b[39;49m\u001b[43maxis\u001b[49m\u001b[43m,\u001b[49m\n\u001b[0;32m   1315\u001b[0m \u001b[43m            \u001b[49m\u001b[43mfill_value\u001b[49m\u001b[38;5;241;43m=\u001b[39;49m\u001b[43m(\u001b[49m\n\u001b[0;32m   1316\u001b[0m \u001b[43m                \u001b[49m\u001b[43mfill_value\u001b[49m\u001b[43m \u001b[49m\u001b[38;5;28;43;01mif\u001b[39;49;00m\u001b[43m \u001b[49m\u001b[43mfill_value\u001b[49m\u001b[43m \u001b[49m\u001b[38;5;129;43;01mis\u001b[39;49;00m\u001b[43m \u001b[49m\u001b[38;5;129;43;01mnot\u001b[39;49;00m\u001b[43m \u001b[49m\u001b[38;5;28;43;01mNone\u001b[39;49;00m\u001b[43m \u001b[49m\u001b[38;5;28;43;01melse\u001b[39;49;00m\u001b[43m \u001b[49m\u001b[43mblk\u001b[49m\u001b[38;5;241;43m.\u001b[39;49m\u001b[43mfill_value\u001b[49m\n\u001b[0;32m   1317\u001b[0m \u001b[43m            \u001b[49m\u001b[43m)\u001b[49m\u001b[43m,\u001b[49m\n\u001b[0;32m   1318\u001b[0m \u001b[43m        \u001b[49m\u001b[43m)\u001b[49m\n\u001b[0;32m   1319\u001b[0m         \u001b[38;5;28;01mfor\u001b[39;00m blk \u001b[38;5;129;01min\u001b[39;00m \u001b[38;5;28mself\u001b[39m\u001b[38;5;241m.\u001b[39mblocks\n\u001b[0;32m   1320\u001b[0m     ]\n\u001b[0;32m   1322\u001b[0m new_axes \u001b[38;5;241m=\u001b[39m \u001b[38;5;28mlist\u001b[39m(\u001b[38;5;28mself\u001b[39m\u001b[38;5;241m.\u001b[39maxes)\n\u001b[0;32m   1323\u001b[0m new_axes[axis] \u001b[38;5;241m=\u001b[39m new_axis\n",
      "File \u001b[1;32m~\\anaconda3\\envs\\ml4f\\lib\\site-packages\\pandas\\core\\internals\\blocks.py:1404\u001b[0m, in \u001b[0;36mBlock.take_nd\u001b[1;34m(self, indexer, axis, new_mgr_locs, fill_value)\u001b[0m\n\u001b[0;32m   1401\u001b[0m \u001b[38;5;28;01melse\u001b[39;00m:\n\u001b[0;32m   1402\u001b[0m     allow_fill \u001b[38;5;241m=\u001b[39m \u001b[38;5;28;01mTrue\u001b[39;00m\n\u001b[1;32m-> 1404\u001b[0m new_values \u001b[38;5;241m=\u001b[39m \u001b[43malgos\u001b[49m\u001b[38;5;241;43m.\u001b[39;49m\u001b[43mtake_nd\u001b[49m\u001b[43m(\u001b[49m\n\u001b[0;32m   1405\u001b[0m \u001b[43m    \u001b[49m\u001b[43mvalues\u001b[49m\u001b[43m,\u001b[49m\u001b[43m \u001b[49m\u001b[43mindexer\u001b[49m\u001b[43m,\u001b[49m\u001b[43m \u001b[49m\u001b[43maxis\u001b[49m\u001b[38;5;241;43m=\u001b[39;49m\u001b[43maxis\u001b[49m\u001b[43m,\u001b[49m\u001b[43m \u001b[49m\u001b[43mallow_fill\u001b[49m\u001b[38;5;241;43m=\u001b[39;49m\u001b[43mallow_fill\u001b[49m\u001b[43m,\u001b[49m\u001b[43m \u001b[49m\u001b[43mfill_value\u001b[49m\u001b[38;5;241;43m=\u001b[39;49m\u001b[43mfill_value\u001b[49m\n\u001b[0;32m   1406\u001b[0m \u001b[43m\u001b[49m\u001b[43m)\u001b[49m\n\u001b[0;32m   1408\u001b[0m \u001b[38;5;66;03m# Called from three places in managers, all of which satisfy\u001b[39;00m\n\u001b[0;32m   1409\u001b[0m \u001b[38;5;66;03m#  this assertion\u001b[39;00m\n\u001b[0;32m   1410\u001b[0m \u001b[38;5;28;01massert\u001b[39;00m \u001b[38;5;129;01mnot\u001b[39;00m (axis \u001b[38;5;241m==\u001b[39m \u001b[38;5;241m0\u001b[39m \u001b[38;5;129;01mand\u001b[39;00m new_mgr_locs \u001b[38;5;129;01mis\u001b[39;00m \u001b[38;5;28;01mNone\u001b[39;00m)\n",
      "File \u001b[1;32m~\\anaconda3\\envs\\ml4f\\lib\\site-packages\\pandas\\core\\algorithms.py:1754\u001b[0m, in \u001b[0;36mtake_nd\u001b[1;34m(arr, indexer, axis, out, fill_value, allow_fill)\u001b[0m\n\u001b[0;32m   1752\u001b[0m         out \u001b[38;5;241m=\u001b[39m np\u001b[38;5;241m.\u001b[39mempty(out_shape, dtype\u001b[38;5;241m=\u001b[39mdtype, order\u001b[38;5;241m=\u001b[39m\u001b[38;5;124m\"\u001b[39m\u001b[38;5;124mF\u001b[39m\u001b[38;5;124m\"\u001b[39m)\n\u001b[0;32m   1753\u001b[0m     \u001b[38;5;28;01melse\u001b[39;00m:\n\u001b[1;32m-> 1754\u001b[0m         out \u001b[38;5;241m=\u001b[39m \u001b[43mnp\u001b[49m\u001b[38;5;241;43m.\u001b[39;49m\u001b[43mempty\u001b[49m\u001b[43m(\u001b[49m\u001b[43mout_shape\u001b[49m\u001b[43m,\u001b[49m\u001b[43m \u001b[49m\u001b[43mdtype\u001b[49m\u001b[38;5;241;43m=\u001b[39;49m\u001b[43mdtype\u001b[49m\u001b[43m)\u001b[49m\n\u001b[0;32m   1756\u001b[0m func \u001b[38;5;241m=\u001b[39m _get_take_nd_function(\n\u001b[0;32m   1757\u001b[0m     arr\u001b[38;5;241m.\u001b[39mndim, arr\u001b[38;5;241m.\u001b[39mdtype, out\u001b[38;5;241m.\u001b[39mdtype, axis\u001b[38;5;241m=\u001b[39maxis, mask_info\u001b[38;5;241m=\u001b[39mmask_info\n\u001b[0;32m   1758\u001b[0m )\n\u001b[0;32m   1759\u001b[0m func(arr, indexer, out, fill_value)\n",
      "\u001b[1;31mMemoryError\u001b[0m: Unable to allocate 1.17 GiB for an array with shape (5, 31355463) and data type float64"
     ]
    }
   ],
   "source": [
    "data['BOP'] = (by_ticker.apply(lambda x: alib.BOP(x['first'],\n",
    "                                                 x.high,\n",
    "                                                 x.low,\n",
    "                                                 x['last'])))"
   ]
  },
  {
   "cell_type": "code",
   "execution_count": 62,
   "id": "d9f47463-b3e7-413c-b434-252e6b24001d",
   "metadata": {
    "tags": []
   },
   "outputs": [
    {
     "data": {
      "text/html": [
       "<div>\n",
       "<style scoped>\n",
       "    .dataframe tbody tr th:only-of-type {\n",
       "        vertical-align: middle;\n",
       "    }\n",
       "\n",
       "    .dataframe tbody tr th {\n",
       "        vertical-align: top;\n",
       "    }\n",
       "\n",
       "    .dataframe thead th {\n",
       "        text-align: right;\n",
       "    }\n",
       "</style>\n",
       "<table border=\"1\" class=\"dataframe\">\n",
       "  <thead>\n",
       "    <tr style=\"text-align: right;\">\n",
       "      <th></th>\n",
       "      <th></th>\n",
       "      <th>date</th>\n",
       "      <th>minute</th>\n",
       "      <th>ret1min</th>\n",
       "      <th>ret2min</th>\n",
       "      <th>ret3min</th>\n",
       "      <th>ret4min</th>\n",
       "      <th>ret5min</th>\n",
       "      <th>ret6min</th>\n",
       "      <th>ret7min</th>\n",
       "      <th>ret8min</th>\n",
       "      <th>ret9min</th>\n",
       "      <th>ret10min</th>\n",
       "      <th>fwd1min</th>\n",
       "      <th>up</th>\n",
       "      <th>down</th>\n",
       "      <th>rup</th>\n",
       "      <th>rdown</th>\n",
       "    </tr>\n",
       "    <tr>\n",
       "      <th>ticker</th>\n",
       "      <th>date_timebarstart</th>\n",
       "      <th></th>\n",
       "      <th></th>\n",
       "      <th></th>\n",
       "      <th></th>\n",
       "      <th></th>\n",
       "      <th></th>\n",
       "      <th></th>\n",
       "      <th></th>\n",
       "      <th></th>\n",
       "      <th></th>\n",
       "      <th></th>\n",
       "      <th></th>\n",
       "      <th></th>\n",
       "      <th></th>\n",
       "      <th></th>\n",
       "      <th></th>\n",
       "      <th></th>\n",
       "    </tr>\n",
       "  </thead>\n",
       "  <tbody>\n",
       "    <tr>\n",
       "      <th rowspan=\"5\" valign=\"top\">AAL</th>\n",
       "      <th>2015-01-02 09:30:00</th>\n",
       "      <td>0</td>\n",
       "      <td>0</td>\n",
       "      <td>0.004241</td>\n",
       "      <td>NaN</td>\n",
       "      <td>NaN</td>\n",
       "      <td>NaN</td>\n",
       "      <td>NaN</td>\n",
       "      <td>NaN</td>\n",
       "      <td>NaN</td>\n",
       "      <td>NaN</td>\n",
       "      <td>NaN</td>\n",
       "      <td>NaN</td>\n",
       "      <td>-0.007896</td>\n",
       "      <td>0.120742</td>\n",
       "      <td>0.658482</td>\n",
       "      <td>0.321658</td>\n",
       "      <td>0.088409</td>\n",
       "    </tr>\n",
       "    <tr>\n",
       "      <th>2015-01-02 09:31:00</th>\n",
       "      <td>0</td>\n",
       "      <td>1</td>\n",
       "      <td>-0.007896</td>\n",
       "      <td>-0.003688</td>\n",
       "      <td>NaN</td>\n",
       "      <td>NaN</td>\n",
       "      <td>NaN</td>\n",
       "      <td>NaN</td>\n",
       "      <td>NaN</td>\n",
       "      <td>NaN</td>\n",
       "      <td>NaN</td>\n",
       "      <td>NaN</td>\n",
       "      <td>0.005552</td>\n",
       "      <td>0.530679</td>\n",
       "      <td>0.648497</td>\n",
       "      <td>0.276688</td>\n",
       "      <td>0.605885</td>\n",
       "    </tr>\n",
       "    <tr>\n",
       "      <th>2015-01-02 09:32:00</th>\n",
       "      <td>0</td>\n",
       "      <td>2</td>\n",
       "      <td>0.005552</td>\n",
       "      <td>-0.002387</td>\n",
       "      <td>0.001844</td>\n",
       "      <td>NaN</td>\n",
       "      <td>NaN</td>\n",
       "      <td>NaN</td>\n",
       "      <td>NaN</td>\n",
       "      <td>NaN</td>\n",
       "      <td>NaN</td>\n",
       "      <td>NaN</td>\n",
       "      <td>-0.006072</td>\n",
       "      <td>0.617411</td>\n",
       "      <td>0.480509</td>\n",
       "      <td>0.688707</td>\n",
       "      <td>0.248803</td>\n",
       "    </tr>\n",
       "    <tr>\n",
       "      <th>2015-01-02 09:33:00</th>\n",
       "      <td>0</td>\n",
       "      <td>3</td>\n",
       "      <td>-0.006072</td>\n",
       "      <td>-0.000185</td>\n",
       "      <td>-0.008079</td>\n",
       "      <td>-0.003872</td>\n",
       "      <td>NaN</td>\n",
       "      <td>NaN</td>\n",
       "      <td>NaN</td>\n",
       "      <td>NaN</td>\n",
       "      <td>NaN</td>\n",
       "      <td>NaN</td>\n",
       "      <td>0.007773</td>\n",
       "      <td>0.523530</td>\n",
       "      <td>0.705808</td>\n",
       "      <td>0.250676</td>\n",
       "      <td>0.515424</td>\n",
       "    </tr>\n",
       "    <tr>\n",
       "      <th>2015-01-02 09:34:00</th>\n",
       "      <td>0</td>\n",
       "      <td>4</td>\n",
       "      <td>0.007773</td>\n",
       "      <td>0.001840</td>\n",
       "      <td>0.007773</td>\n",
       "      <td>-0.000184</td>\n",
       "      <td>0.004057</td>\n",
       "      <td>NaN</td>\n",
       "      <td>NaN</td>\n",
       "      <td>NaN</td>\n",
       "      <td>NaN</td>\n",
       "      <td>NaN</td>\n",
       "      <td>-0.001470</td>\n",
       "      <td>0.391644</td>\n",
       "      <td>0.219128</td>\n",
       "      <td>0.875777</td>\n",
       "      <td>0.107958</td>\n",
       "    </tr>\n",
       "    <tr>\n",
       "      <th>...</th>\n",
       "      <th>...</th>\n",
       "      <td>...</td>\n",
       "      <td>...</td>\n",
       "      <td>...</td>\n",
       "      <td>...</td>\n",
       "      <td>...</td>\n",
       "      <td>...</td>\n",
       "      <td>...</td>\n",
       "      <td>...</td>\n",
       "      <td>...</td>\n",
       "      <td>...</td>\n",
       "      <td>...</td>\n",
       "      <td>...</td>\n",
       "      <td>...</td>\n",
       "      <td>...</td>\n",
       "      <td>...</td>\n",
       "      <td>...</td>\n",
       "      <td>...</td>\n",
       "    </tr>\n",
       "    <tr>\n",
       "      <th rowspan=\"5\" valign=\"top\">YHOO</th>\n",
       "      <th>2017-06-16 15:55:00</th>\n",
       "      <td>618</td>\n",
       "      <td>385</td>\n",
       "      <td>-0.000642</td>\n",
       "      <td>0.000854</td>\n",
       "      <td>0.000000</td>\n",
       "      <td>-0.000568</td>\n",
       "      <td>0.000190</td>\n",
       "      <td>0.006102</td>\n",
       "      <td>0.008024</td>\n",
       "      <td>0.005527</td>\n",
       "      <td>0.003996</td>\n",
       "      <td>0.000000</td>\n",
       "      <td>-0.000663</td>\n",
       "      <td>0.124171</td>\n",
       "      <td>0.128599</td>\n",
       "      <td>0.366377</td>\n",
       "      <td>0.631529</td>\n",
       "    </tr>\n",
       "    <tr>\n",
       "      <th>2017-06-16 15:56:00</th>\n",
       "      <td>618</td>\n",
       "      <td>386</td>\n",
       "      <td>-0.000663</td>\n",
       "      <td>-0.001210</td>\n",
       "      <td>0.000285</td>\n",
       "      <td>-0.000569</td>\n",
       "      <td>-0.001137</td>\n",
       "      <td>-0.000379</td>\n",
       "      <td>0.005530</td>\n",
       "      <td>0.007451</td>\n",
       "      <td>0.004955</td>\n",
       "      <td>0.003425</td>\n",
       "      <td>0.001138</td>\n",
       "      <td>0.096142</td>\n",
       "      <td>0.099631</td>\n",
       "      <td>0.414266</td>\n",
       "      <td>0.596307</td>\n",
       "    </tr>\n",
       "    <tr>\n",
       "      <th>2017-06-16 15:57:00</th>\n",
       "      <td>618</td>\n",
       "      <td>387</td>\n",
       "      <td>0.001138</td>\n",
       "      <td>0.000474</td>\n",
       "      <td>-0.000074</td>\n",
       "      <td>0.001423</td>\n",
       "      <td>0.000569</td>\n",
       "      <td>0.000000</td>\n",
       "      <td>0.000758</td>\n",
       "      <td>0.006674</td>\n",
       "      <td>0.008598</td>\n",
       "      <td>0.006099</td>\n",
       "      <td>0.001894</td>\n",
       "      <td>0.059758</td>\n",
       "      <td>0.069981</td>\n",
       "      <td>0.623827</td>\n",
       "      <td>0.365528</td>\n",
       "    </tr>\n",
       "    <tr>\n",
       "      <th>2017-06-16 15:58:00</th>\n",
       "      <td>618</td>\n",
       "      <td>388</td>\n",
       "      <td>0.001894</td>\n",
       "      <td>0.003034</td>\n",
       "      <td>0.002369</td>\n",
       "      <td>0.001820</td>\n",
       "      <td>0.003320</td>\n",
       "      <td>0.002464</td>\n",
       "      <td>0.001894</td>\n",
       "      <td>0.002654</td>\n",
       "      <td>0.008581</td>\n",
       "      <td>0.010508</td>\n",
       "      <td>-0.006051</td>\n",
       "      <td>0.161912</td>\n",
       "      <td>0.225752</td>\n",
       "      <td>0.494843</td>\n",
       "      <td>0.444248</td>\n",
       "    </tr>\n",
       "    <tr>\n",
       "      <th>2017-06-16 15:59:00</th>\n",
       "      <td>618</td>\n",
       "      <td>389</td>\n",
       "      <td>-0.006051</td>\n",
       "      <td>-0.004357</td>\n",
       "      <td>-0.003224</td>\n",
       "      <td>-0.003885</td>\n",
       "      <td>-0.004430</td>\n",
       "      <td>-0.002940</td>\n",
       "      <td>-0.003791</td>\n",
       "      <td>-0.004357</td>\n",
       "      <td>-0.003602</td>\n",
       "      <td>0.002288</td>\n",
       "      <td>0.001519</td>\n",
       "      <td>0.073455</td>\n",
       "      <td>0.105046</td>\n",
       "      <td>0.412795</td>\n",
       "      <td>0.477597</td>\n",
       "    </tr>\n",
       "  </tbody>\n",
       "</table>\n",
       "<p>30875649 rows × 17 columns</p>\n",
       "</div>"
      ],
      "text/plain": [
       "                            date  minute   ret1min   ret2min   ret3min  \\\n",
       "ticker date_timebarstart                                                 \n",
       "AAL    2015-01-02 09:30:00     0       0  0.004241       NaN       NaN   \n",
       "       2015-01-02 09:31:00     0       1 -0.007896 -0.003688       NaN   \n",
       "       2015-01-02 09:32:00     0       2  0.005552 -0.002387  0.001844   \n",
       "       2015-01-02 09:33:00     0       3 -0.006072 -0.000185 -0.008079   \n",
       "       2015-01-02 09:34:00     0       4  0.007773  0.001840  0.007773   \n",
       "...                          ...     ...       ...       ...       ...   \n",
       "YHOO   2017-06-16 15:55:00   618     385 -0.000642  0.000854  0.000000   \n",
       "       2017-06-16 15:56:00   618     386 -0.000663 -0.001210  0.000285   \n",
       "       2017-06-16 15:57:00   618     387  0.001138  0.000474 -0.000074   \n",
       "       2017-06-16 15:58:00   618     388  0.001894  0.003034  0.002369   \n",
       "       2017-06-16 15:59:00   618     389 -0.006051 -0.004357 -0.003224   \n",
       "\n",
       "                             ret4min   ret5min   ret6min   ret7min   ret8min  \\\n",
       "ticker date_timebarstart                                                       \n",
       "AAL    2015-01-02 09:30:00       NaN       NaN       NaN       NaN       NaN   \n",
       "       2015-01-02 09:31:00       NaN       NaN       NaN       NaN       NaN   \n",
       "       2015-01-02 09:32:00       NaN       NaN       NaN       NaN       NaN   \n",
       "       2015-01-02 09:33:00 -0.003872       NaN       NaN       NaN       NaN   \n",
       "       2015-01-02 09:34:00 -0.000184  0.004057       NaN       NaN       NaN   \n",
       "...                              ...       ...       ...       ...       ...   \n",
       "YHOO   2017-06-16 15:55:00 -0.000568  0.000190  0.006102  0.008024  0.005527   \n",
       "       2017-06-16 15:56:00 -0.000569 -0.001137 -0.000379  0.005530  0.007451   \n",
       "       2017-06-16 15:57:00  0.001423  0.000569  0.000000  0.000758  0.006674   \n",
       "       2017-06-16 15:58:00  0.001820  0.003320  0.002464  0.001894  0.002654   \n",
       "       2017-06-16 15:59:00 -0.003885 -0.004430 -0.002940 -0.003791 -0.004357   \n",
       "\n",
       "                             ret9min  ret10min   fwd1min        up      down  \\\n",
       "ticker date_timebarstart                                                       \n",
       "AAL    2015-01-02 09:30:00       NaN       NaN -0.007896  0.120742  0.658482   \n",
       "       2015-01-02 09:31:00       NaN       NaN  0.005552  0.530679  0.648497   \n",
       "       2015-01-02 09:32:00       NaN       NaN -0.006072  0.617411  0.480509   \n",
       "       2015-01-02 09:33:00       NaN       NaN  0.007773  0.523530  0.705808   \n",
       "       2015-01-02 09:34:00       NaN       NaN -0.001470  0.391644  0.219128   \n",
       "...                              ...       ...       ...       ...       ...   \n",
       "YHOO   2017-06-16 15:55:00  0.003996  0.000000 -0.000663  0.124171  0.128599   \n",
       "       2017-06-16 15:56:00  0.004955  0.003425  0.001138  0.096142  0.099631   \n",
       "       2017-06-16 15:57:00  0.008598  0.006099  0.001894  0.059758  0.069981   \n",
       "       2017-06-16 15:58:00  0.008581  0.010508 -0.006051  0.161912  0.225752   \n",
       "       2017-06-16 15:59:00 -0.003602  0.002288  0.001519  0.073455  0.105046   \n",
       "\n",
       "                                 rup     rdown  \n",
       "ticker date_timebarstart                        \n",
       "AAL    2015-01-02 09:30:00  0.321658  0.088409  \n",
       "       2015-01-02 09:31:00  0.276688  0.605885  \n",
       "       2015-01-02 09:32:00  0.688707  0.248803  \n",
       "       2015-01-02 09:33:00  0.250676  0.515424  \n",
       "       2015-01-02 09:34:00  0.875777  0.107958  \n",
       "...                              ...       ...  \n",
       "YHOO   2017-06-16 15:55:00  0.366377  0.631529  \n",
       "       2017-06-16 15:56:00  0.414266  0.596307  \n",
       "       2017-06-16 15:57:00  0.623827  0.365528  \n",
       "       2017-06-16 15:58:00  0.494843  0.444248  \n",
       "       2017-06-16 15:59:00  0.412795  0.477597  \n",
       "\n",
       "[30875649 rows x 17 columns]"
      ]
     },
     "execution_count": 62,
     "metadata": {},
     "output_type": "execute_result"
    }
   ],
   "source": [
    "data"
   ]
  },
  {
   "cell_type": "code",
   "execution_count": null,
   "id": "c94a5690-8219-4a04-b9f2-1de15a56dfc3",
   "metadata": {},
   "outputs": [],
   "source": []
  }
 ],
 "metadata": {
  "kernelspec": {
   "display_name": "Python 3 (ipykernel)",
   "language": "python",
   "name": "python3"
  },
  "language_info": {
   "codemirror_mode": {
    "name": "ipython",
    "version": 3
   },
   "file_extension": ".py",
   "mimetype": "text/x-python",
   "name": "python",
   "nbconvert_exporter": "python",
   "pygments_lexer": "ipython3",
   "version": "3.8.10"
  }
 },
 "nbformat": 4,
 "nbformat_minor": 5
}

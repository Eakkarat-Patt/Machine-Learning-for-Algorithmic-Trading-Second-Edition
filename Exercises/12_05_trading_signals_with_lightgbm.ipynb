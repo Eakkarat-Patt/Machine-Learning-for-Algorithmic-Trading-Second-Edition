{
 "cells": [
  {
   "cell_type": "code",
   "execution_count": 1,
   "id": "ccfec244-467e-4419-9023-73947a51d1e3",
   "metadata": {
    "tags": []
   },
   "outputs": [],
   "source": [
    "import warnings\n",
    "warnings.filterwarnings('ignore')"
   ]
  },
  {
   "cell_type": "code",
   "execution_count": 2,
   "id": "5233e140-cfdc-4bff-9c1c-f373b9e0c815",
   "metadata": {
    "tags": []
   },
   "outputs": [],
   "source": [
    "%matplotlib inline\n",
    "\n",
    "from pathlib import Path\n",
    "import sys, os\n",
    "from time import time\n",
    "from tqdm import tqdm\n",
    "\n",
    "from collections import defaultdict\n",
    "from itertools import product\n",
    "\n",
    "import numpy as np\n",
    "import pandas as pd\n",
    "\n",
    "import lightgbm as lgb\n",
    "from catboost import Pool, CatBoostRegressor\n",
    "\n",
    "from sklearn.linear_model import LinearRegression\n",
    "from scipy.stats import spearmanr\n",
    "\n",
    "# from alphalens.tears import (create_summary_tear_sheet,\n",
    "#                              create_full_tear_sheet)\n",
    "\n",
    "# from alphalens.utils import get_clean_factor_and_forward_returns\n",
    "\n",
    "import matplotlib.pyplot as plt\n",
    "import seaborn as sns"
   ]
  },
  {
   "cell_type": "code",
   "execution_count": 3,
   "id": "316276d6-7583-4b38-bd6a-0d89a4d07841",
   "metadata": {
    "tags": []
   },
   "outputs": [],
   "source": [
    "sys.path.insert(1, os.path.join(sys.path[0], '..'))\n",
    "from utils import MultipleTimeSeriesCV, format_time"
   ]
  },
  {
   "cell_type": "code",
   "execution_count": 4,
   "id": "e8709ebc-006b-4989-ac25-7e580042d822",
   "metadata": {
    "tags": []
   },
   "outputs": [],
   "source": [
    "sns.set_style('whitegrid')"
   ]
  },
  {
   "cell_type": "code",
   "execution_count": 5,
   "id": "5d8b68af-6103-4a48-8379-cf9c10523b21",
   "metadata": {
    "tags": []
   },
   "outputs": [],
   "source": [
    "YEAR = 252\n",
    "idx = pd.IndexSlice"
   ]
  },
  {
   "cell_type": "code",
   "execution_count": 6,
   "id": "fd7dbeef-50b1-47a6-9f38-c7a18faf432c",
   "metadata": {
    "tags": []
   },
   "outputs": [
    {
     "name": "stdout",
     "output_type": "stream",
     "text": [
      "<class 'pandas.core.frame.DataFrame'>\n",
      "MultiIndex: 1749266 entries, ('A', Timestamp('2010-01-04 00:00:00')) to ('ZION', Timestamp('2016-12-30 00:00:00'))\n",
      "Data columns (total 34 columns):\n",
      " #   Column           Non-Null Count    Dtype  \n",
      "---  ------           --------------    -----  \n",
      " 0   dollar_vol       1749266 non-null  float64\n",
      " 1   dollar_vol_rank  1749266 non-null  float64\n",
      " 2   rsi              1735336 non-null  float64\n",
      " 3   bb_high          1730361 non-null  float64\n",
      " 4   bb_low           1730359 non-null  float64\n",
      " 5   natr             1735336 non-null  float64\n",
      " 6   atr              1735336 non-null  float64\n",
      " 7   PPO              1724391 non-null  float64\n",
      " 8   MACD             1716431 non-null  float64\n",
      " 9   sector           1749266 non-null  int32  \n",
      " 10  r01              1748271 non-null  float64\n",
      " 11  r05              1744291 non-null  float64\n",
      " 12  r10              1739316 non-null  float64\n",
      " 13  r21              1728371 non-null  float64\n",
      " 14  r42              1707476 non-null  float64\n",
      " 15  r63              1686581 non-null  float64\n",
      " 16  r01dec           1748271 non-null  float64\n",
      " 17  r05dec           1744291 non-null  float64\n",
      " 18  r10dec           1739316 non-null  float64\n",
      " 19  r21dec           1728371 non-null  float64\n",
      " 20  r42dec           1707476 non-null  float64\n",
      " 21  r63dec           1686581 non-null  float64\n",
      " 22  r01q_sector      1748271 non-null  float64\n",
      " 23  r05q_sector      1744291 non-null  float64\n",
      " 24  r10q_sector      1739316 non-null  float64\n",
      " 25  r21q_sector      1728371 non-null  float64\n",
      " 26  r42q_sector      1707476 non-null  float64\n",
      " 27  r63q_sector      1686581 non-null  float64\n",
      " 28  r01_fwd          1749266 non-null  float64\n",
      " 29  r05_fwd          1749266 non-null  float64\n",
      " 30  r21_fwd          1749251 non-null  float64\n",
      " 31  year             1749266 non-null  int64  \n",
      " 32  month            1749266 non-null  int64  \n",
      " 33  weekday          1749266 non-null  int64  \n",
      "dtypes: float64(30), int32(1), int64(3)\n",
      "memory usage: 454.5+ MB\n"
     ]
    }
   ],
   "source": [
    "data = (pd.read_hdf('data.h5', 'model_data')\n",
    "            .sort_index()\n",
    "            .loc[idx[:, :'2016'], :]) # train & validation period\n",
    "data.info(null_counts=True)"
   ]
  },
  {
   "cell_type": "code",
   "execution_count": 7,
   "id": "17bfaee1-d827-4432-be2c-dde82d6ee0c2",
   "metadata": {
    "tags": []
   },
   "outputs": [],
   "source": [
    "labels = sorted(data.filter(like='_fwd').columns)\n",
    "features = data.columns.difference(labels).tolist()"
   ]
  },
  {
   "cell_type": "code",
   "execution_count": 8,
   "id": "989fc1d2-a666-4c22-9f59-c0581f7957a5",
   "metadata": {
    "tags": []
   },
   "outputs": [],
   "source": [
    "tickers = data.index.get_level_values('symbol').unique()"
   ]
  },
  {
   "cell_type": "code",
   "execution_count": 9,
   "id": "e433db38-5040-4694-8b7c-c6734b765e6e",
   "metadata": {
    "tags": []
   },
   "outputs": [],
   "source": [
    "lookaheads = [1, 5, 21]"
   ]
  },
  {
   "cell_type": "code",
   "execution_count": 10,
   "id": "7ba1afe4-aa48-4e1d-850c-e6657f5b65e7",
   "metadata": {
    "tags": []
   },
   "outputs": [],
   "source": [
    "categoricals = ['year', 'month', 'sector', 'weekday']"
   ]
  },
  {
   "cell_type": "code",
   "execution_count": 11,
   "id": "7a0a6a95-8057-458b-a954-58cc50ac554b",
   "metadata": {
    "tags": []
   },
   "outputs": [],
   "source": [
    "train_lengths = [int(4.5 * 252), 252]\n",
    "test_lengths = [63, 21]"
   ]
  },
  {
   "cell_type": "code",
   "execution_count": 12,
   "id": "3690e593-82a2-4bf4-8a20-1ce8b2c93e93",
   "metadata": {
    "tags": []
   },
   "outputs": [],
   "source": [
    "test_params = list(product(lookaheads, train_lengths, test_lengths))"
   ]
  },
  {
   "cell_type": "code",
   "execution_count": 13,
   "id": "c87e8edc-9f19-49c3-97fa-0fca88a62b87",
   "metadata": {
    "tags": []
   },
   "outputs": [],
   "source": [
    "results_path = Path('results', 'us_stocks')\n",
    "if not results_path.exists():\n",
    "    results_path.mkdir(parents=True)"
   ]
  },
  {
   "cell_type": "markdown",
   "id": "6aa00146-7907-455a-9383-37d8f8590b12",
   "metadata": {},
   "source": [
    "## Baseline: Linear Regression"
   ]
  },
  {
   "cell_type": "code",
   "execution_count": 14,
   "id": "53fe9f6d-61de-490e-a409-33c1e50c5c38",
   "metadata": {
    "tags": []
   },
   "outputs": [],
   "source": [
    "lr = LinearRegression()"
   ]
  },
  {
   "cell_type": "code",
   "execution_count": 15,
   "id": "08975951-180e-44dc-b567-df787b94962d",
   "metadata": {
    "tags": []
   },
   "outputs": [
    {
     "name": "stderr",
     "output_type": "stream",
     "text": [
      "100%|██████████████████████████████████████████████████████████████████████████████████| 12/12 [05:56<00:00, 29.67s/it]\n"
     ]
    }
   ],
   "source": [
    "lr_metrics = []\n",
    "\n",
    "# iterate over our three CV configuration parameters\n",
    "for lookahead, train_length, test_length in tqdm(test_params):\n",
    "    label = f'r{lookahead:02}_fwd'\n",
    "    df = pd.get_dummies(data.loc[:, features + [label]].dropna(), \n",
    "                        columns=categoricals, \n",
    "                        drop_first=True)\n",
    "    X, y = df.drop(label, axis=1), df[label]\n",
    "\n",
    "    n_splits = int(2 * YEAR / test_length)\n",
    "    cv = MultipleTimeSeriesCV(n_splits=n_splits,\n",
    "                              test_period_length=test_length,\n",
    "                              lookahead=lookahead,\n",
    "                              train_period_length=train_length)\n",
    "\n",
    "    ic, preds = [], []\n",
    "    for i, (train_idx, test_idx) in enumerate(cv.split(X=X)):\n",
    "        X_train, y_train = X.iloc[train_idx], y.iloc[train_idx]\n",
    "        X_test, y_test = X.iloc[test_idx], y.iloc[test_idx]\n",
    "        lr.fit(X_train, y_train)\n",
    "        y_pred = lr.predict(X_test)\n",
    "        preds.append(y_test.to_frame('y_true').assign(y_pred=y_pred))\n",
    "        ic.append(spearmanr(y_test, y_pred)[0])\n",
    "    preds = pd.concat(preds)\n",
    "    lr_metrics.append([lookahead, \n",
    "                       train_length, \n",
    "                       test_length,\n",
    "                       np.mean(ic),\n",
    "                       spearmanr(preds.y_true, preds.y_pred)[0]\n",
    "                      ])\n",
    "\n",
    "columns = ['lookahead', 'train_length', 'test_length', 'ic_by_day', 'ic']\n",
    "lr_metrics = pd.DataFrame(lr_metrics, columns=columns)"
   ]
  },
  {
   "cell_type": "code",
   "execution_count": 16,
   "id": "0b7ed87d-1689-4f71-ae08-3d261ceec423",
   "metadata": {
    "tags": []
   },
   "outputs": [
    {
     "data": {
      "image/png": "[encoded data removed]",
      "text/plain": [
       "<Figure size 1400x500 with 2 Axes>"
      ]
     },
     "metadata": {},
     "output_type": "display_data"
    }
   ],
   "source": [
    "fig, axes = plt.subplots(ncols=2, figsize=(14,5), sharey=True)\n",
    "\n",
    "# plot average of daily IC values\n",
    "sns.boxplot(x='lookahead', y='ic_by_day',data=lr_metrics, ax=axes[0])\n",
    "axes[0].set_title('IC by Day')\n",
    "\n",
    "# plot IC across all predictions\n",
    "sns.boxplot(x='lookahead', y='ic',data=lr_metrics, ax=axes[1])\n",
    "axes[1].set_title('IC Overall')\n",
    "axes[0].set_ylabel('Information Coefficient')\n",
    "axes[1].set_ylabel('')\n",
    "fig.tight_layout()"
   ]
  },
  {
   "cell_type": "markdown",
   "id": "cb4161ca-9855-4e4d-a6b9-f97a2a0b7d09",
   "metadata": {},
   "source": [
    "## Best Train/Test Period Lengths"
   ]
  },
  {
   "cell_type": "code",
   "execution_count": 17,
   "id": "6d52e892-17e3-4743-81f3-e2bae6cd0e91",
   "metadata": {
    "tags": []
   },
   "outputs": [
    {
     "data": {
      "text/html": [
       "<div>\n",
       "<style scoped>\n",
       "    .dataframe tbody tr th:only-of-type {\n",
       "        vertical-align: middle;\n",
       "    }\n",
       "\n",
       "    .dataframe tbody tr th {\n",
       "        vertical-align: top;\n",
       "    }\n",
       "\n",
       "    .dataframe thead th {\n",
       "        text-align: right;\n",
       "    }\n",
       "</style>\n",
       "<table border=\"1\" class=\"dataframe\">\n",
       "  <thead>\n",
       "    <tr style=\"text-align: right;\">\n",
       "      <th></th>\n",
       "      <th>lookahead</th>\n",
       "      <th>train_length</th>\n",
       "      <th>test_length</th>\n",
       "      <th>ic_by_day</th>\n",
       "      <th>ic</th>\n",
       "    </tr>\n",
       "  </thead>\n",
       "  <tbody>\n",
       "    <tr>\n",
       "      <th>3</th>\n",
       "      <td>1</td>\n",
       "      <td>252</td>\n",
       "      <td>21</td>\n",
       "      <td>0.072379</td>\n",
       "      <td>-0.008872</td>\n",
       "    </tr>\n",
       "    <tr>\n",
       "      <th>1</th>\n",
       "      <td>1</td>\n",
       "      <td>1134</td>\n",
       "      <td>21</td>\n",
       "      <td>0.054177</td>\n",
       "      <td>-0.004539</td>\n",
       "    </tr>\n",
       "    <tr>\n",
       "      <th>2</th>\n",
       "      <td>1</td>\n",
       "      <td>252</td>\n",
       "      <td>63</td>\n",
       "      <td>0.036155</td>\n",
       "      <td>-0.016102</td>\n",
       "    </tr>\n",
       "    <tr>\n",
       "      <th>7</th>\n",
       "      <td>5</td>\n",
       "      <td>252</td>\n",
       "      <td>21</td>\n",
       "      <td>0.188063</td>\n",
       "      <td>-0.023761</td>\n",
       "    </tr>\n",
       "    <tr>\n",
       "      <th>5</th>\n",
       "      <td>5</td>\n",
       "      <td>1134</td>\n",
       "      <td>21</td>\n",
       "      <td>0.154049</td>\n",
       "      <td>-0.016191</td>\n",
       "    </tr>\n",
       "    <tr>\n",
       "      <th>4</th>\n",
       "      <td>5</td>\n",
       "      <td>1134</td>\n",
       "      <td>63</td>\n",
       "      <td>0.076586</td>\n",
       "      <td>0.055433</td>\n",
       "    </tr>\n",
       "    <tr>\n",
       "      <th>9</th>\n",
       "      <td>21</td>\n",
       "      <td>1134</td>\n",
       "      <td>21</td>\n",
       "      <td>0.144815</td>\n",
       "      <td>-0.012465</td>\n",
       "    </tr>\n",
       "    <tr>\n",
       "      <th>11</th>\n",
       "      <td>21</td>\n",
       "      <td>252</td>\n",
       "      <td>21</td>\n",
       "      <td>0.127005</td>\n",
       "      <td>-0.078900</td>\n",
       "    </tr>\n",
       "    <tr>\n",
       "      <th>8</th>\n",
       "      <td>21</td>\n",
       "      <td>1134</td>\n",
       "      <td>63</td>\n",
       "      <td>0.108506</td>\n",
       "      <td>0.096060</td>\n",
       "    </tr>\n",
       "  </tbody>\n",
       "</table>\n",
       "</div>"
      ],
      "text/plain": [
       "    lookahead  train_length  test_length  ic_by_day        ic\n",
       "3           1           252           21   0.072379 -0.008872\n",
       "1           1          1134           21   0.054177 -0.004539\n",
       "2           1           252           63   0.036155 -0.016102\n",
       "7           5           252           21   0.188063 -0.023761\n",
       "5           5          1134           21   0.154049 -0.016191\n",
       "4           5          1134           63   0.076586  0.055433\n",
       "9          21          1134           21   0.144815 -0.012465\n",
       "11         21           252           21   0.127005 -0.078900\n",
       "8          21          1134           63   0.108506  0.096060"
      ]
     },
     "execution_count": 17,
     "metadata": {},
     "output_type": "execute_result"
    }
   ],
   "source": [
    "(lr_metrics.groupby('lookahead', group_keys=False)).apply(lambda x: x.nlargest(3, 'ic_by_day'))"
   ]
  },
  {
   "cell_type": "code",
   "execution_count": 18,
   "id": "8b1a97d8-fc06-4dbe-af28-5f7a9321f787",
   "metadata": {
    "tags": []
   },
   "outputs": [],
   "source": [
    "lr_metrics.to_csv(results_path / 'lin_reg_metrics.csv', index=False)"
   ]
  },
  {
   "cell_type": "code",
   "execution_count": 19,
   "id": "95f366a9-5ec1-4ff6-9a7c-9c90d081bb77",
   "metadata": {
    "tags": []
   },
   "outputs": [],
   "source": [
    "def get_fi(model):\n",
    "    \"\"\"Return normalized feature importance as pd.Series\"\"\"\n",
    "    fi = model.feature_importance(importance_type='gain')\n",
    "    return (pd.Series(fi / fi.sum(),\n",
    "                     index=model.feature_name()))"
   ]
  },
  {
   "cell_type": "code",
   "execution_count": 20,
   "id": "7991cd42-81c5-4008-b25e-4362ebdc5412",
   "metadata": {
    "tags": []
   },
   "outputs": [],
   "source": [
    "base_params = dict(boosting='gbdt',\n",
    "                  objective='regression',\n",
    "                  verbose=-1)"
   ]
  },
  {
   "cell_type": "code",
   "execution_count": 21,
   "id": "4d097bc1-f23e-46ce-9e10-d3d50775d5fb",
   "metadata": {
    "tags": []
   },
   "outputs": [],
   "source": [
    "# constraints on structure (depth) of each tree\n",
    "max_depths = [2, 3, 5, 7]\n",
    "num_leaves_opts = [2 ** i for i in max_depths]\n",
    "min_data_in_leaf_opts = [250, 500, 1000]\n",
    "\n",
    "# weight of each new tree in the ensemble\n",
    "learning_rate_ops = [.01, .1, .3]\n",
    "\n",
    "# random feature selection\n",
    "feature_fraction_opts = [.3, .6, .95]"
   ]
  },
  {
   "cell_type": "code",
   "execution_count": 22,
   "id": "7e28b231-73c3-4c99-aa96-4f17b2555b53",
   "metadata": {
    "tags": []
   },
   "outputs": [],
   "source": [
    "param_names = ['learning_rate', 'num_leaves', 'feature_fraction', 'min_data_in_leaf']"
   ]
  },
  {
   "cell_type": "code",
   "execution_count": 23,
   "id": "32161fd8-7546-4951-8ce2-e8547885782a",
   "metadata": {
    "tags": []
   },
   "outputs": [
    {
     "name": "stdout",
     "output_type": "stream",
     "text": [
      "# Parameters: 108\n"
     ]
    }
   ],
   "source": [
    "cv_params = list(product(learning_rate_ops,\n",
    "                        num_leaves_opts,\n",
    "                        feature_fraction_opts,\n",
    "                        min_data_in_leaf_opts))\n",
    "n_params = len(cv_params)\n",
    "print(f'# Parameters: {n_params}')"
   ]
  },
  {
   "cell_type": "markdown",
   "id": "0fb0bd4d-fa41-4d87-b780-16a01cffe92d",
   "metadata": {
    "tags": []
   },
   "source": [
    "## Train/Test Period Lengths"
   ]
  },
  {
   "cell_type": "code",
   "execution_count": 24,
   "id": "cd5fe7b4-f2cc-406c-8ab9-7e6b204d77d6",
   "metadata": {
    "tags": []
   },
   "outputs": [],
   "source": [
    "lookaheads = [1, 5, 21]\n",
    "label_dict = dict(zip(lookaheads, labels))"
   ]
  },
  {
   "cell_type": "code",
   "execution_count": 25,
   "id": "b85f11fb-2cc6-4b4d-9620-bea607175c13",
   "metadata": {
    "tags": []
   },
   "outputs": [],
   "source": [
    "train_lengths = [int(4.5 * 252), 252]\n",
    "test_lengths = [63]"
   ]
  },
  {
   "cell_type": "code",
   "execution_count": 26,
   "id": "ec57bb8b-2377-4198-be3d-8060273b02c9",
   "metadata": {
    "tags": []
   },
   "outputs": [
    {
     "name": "stdout",
     "output_type": "stream",
     "text": [
      "Train configs: 6\n"
     ]
    }
   ],
   "source": [
    "test_params = list(product(lookaheads, train_lengths, test_lengths))\n",
    "n = len(test_params)\n",
    "test_param_sample = np.random.choice(list(range(n)), size=int(n), replace=False)\n",
    "test_params = [test_params[i] for i in test_param_sample]\n",
    "print('Train configs:', len(test_params))"
   ]
  },
  {
   "cell_type": "code",
   "execution_count": 27,
   "id": "fd5393c2-a566-49b8-b6e6-32721cc6e3fd",
   "metadata": {
    "tags": []
   },
   "outputs": [],
   "source": [
    "categoricals = ['year', 'weekday', 'month']\n",
    "for feature in categoricals:\n",
    "    data[feature] = pd.factorize(data[feature], sort=True)[0]"
   ]
  },
  {
   "cell_type": "code",
   "execution_count": 28,
   "id": "eaa3af3e-f34d-4f1a-a0e4-34f1f7e40dd4",
   "metadata": {
    "tags": []
   },
   "outputs": [],
   "source": [
    "def ic_lgbm(preds, train_data):\n",
    "    \"\"\"Custom IC eval metric for lightgbm\"\"\"\n",
    "    is_higher_better = True\n",
    "    return 'ic', spearmanr(preds, train_data.get_label())[0], is_higher_better"
   ]
  },
  {
   "cell_type": "code",
   "execution_count": 29,
   "id": "b8f4e713-9dea-4d22-acca-0ff87c84a7d0",
   "metadata": {
    "tags": []
   },
   "outputs": [],
   "source": [
    "lgb_store = Path(results_path / 'tuning_lgb.h5')"
   ]
  },
  {
   "cell_type": "code",
   "execution_count": 30,
   "id": "a063bdb7-a9df-4216-b908-2f20207e694e",
   "metadata": {
    "tags": []
   },
   "outputs": [],
   "source": [
    "labels = sorted(data.filter(like='fwd').columns)\n",
    "features = data.columns.difference(labels).tolist()"
   ]
  },
  {
   "cell_type": "code",
   "execution_count": 31,
   "id": "c4a3d67a-4745-420a-a8a4-9be027d03c6c",
   "metadata": {
    "tags": []
   },
   "outputs": [],
   "source": [
    "label_dict = dict(zip(lookaheads, labels))"
   ]
  },
  {
   "cell_type": "code",
   "execution_count": 32,
   "id": "b3c9b1f8-4006-4075-831e-bd5dcaa21978",
   "metadata": {
    "tags": []
   },
   "outputs": [],
   "source": [
    "num_iterations = [10, 25, 50, 75] + list(range(100, 501, 50))\n",
    "num_boost_round = num_iterations[-1]"
   ]
  },
  {
   "cell_type": "code",
   "execution_count": 33,
   "id": "f11d99b1-d616-46e7-8b45-9896991689ba",
   "metadata": {
    "tags": []
   },
   "outputs": [],
   "source": [
    "metric_cols = (param_names + ['t', 'daily_ic_mean', 'daily_ic_mean_n',\n",
    "                              'daily_ic_median', 'daily_ic_median_n'] +\n",
    "               [str(n) for n in num_iterations])"
   ]
  },
  {
   "cell_type": "code",
   "execution_count": 34,
   "id": "0b652a73-4e3d-4e71-be13-355f34ad493f",
   "metadata": {
    "tags": []
   },
   "outputs": [
    {
     "name": "stdout",
     "output_type": "stream",
     "text": [
      "Lookahead:  1 | Train: 1134 | Test: 63 | Params:  54 | Train configs: 6\n",
      "\t  0 | 00:01:22 ( 82) |  0.30 |   4 | 95% | 1000 |   2.77% |  1.53% |  350 |  1.61% |  200\n",
      "\t  1 | 00:02:32 ( 70) |  0.01 |   4 | 60% |  500 |   1.55% |  0.64% |   75 |  0.75% |  150\n",
      "\t  2 | 00:03:43 ( 70) |  0.10 |   4 | 60% |  500 |   2.88% |  1.87% |  500 |  1.88% |  300\n",
      "\t  3 | 00:06:08 (145) |  0.10 | 128 | 95% |  250 |   3.36% |  1.98% |  350 |  2.27% |  350\n",
      "\t  4 | 00:07:09 ( 60) |  0.01 |   8 | 30% |  500 |   1.13% |  1.17% |  500 |  1.30% |  450\n",
      "\t  5 | 00:08:07 ( 58) |  0.10 |   8 | 30% |  250 |   2.73% |  1.91% |  500 |  1.87% |  450\n",
      "\t  6 | 00:10:40 (153) |  0.10 | 128 | 95% |  500 |   3.45% |  1.97% |  150 |  1.82% |  100\n",
      "\t  7 | 00:12:44 (124) |  0.10 | 128 | 60% |  250 |   3.44% |  1.80% |  300 |  1.65% |  150\n",
      "\t  8 | 00:13:42 ( 58) |  0.10 |   8 | 30% | 1000 |   2.39% |  1.51% |  200 |  1.23% |  450\n",
      "\t  9 | 00:14:45 ( 63) |  0.01 |   8 | 30% | 1000 |   1.47% |  1.19% |  500 |  1.39% |  450\n",
      "\t 10 | 00:16:29 (105) |  0.30 |  32 | 95% | 1000 |   3.83% |  1.78% |   10 |  2.05% |   10\n",
      "\t 11 | 00:17:22 ( 52) |  0.10 |   4 | 30% |  250 |   2.16% |  1.46% |  250 |  1.37% |  300\n",
      "\t 12 | 00:18:19 ( 57) |  0.30 |   8 | 30% | 1000 |   2.03% |  1.30% |  500 |  1.90% |   10\n",
      "\t 13 | 00:19:45 ( 86) |  0.10 |   8 | 95% |  250 |   3.53% |  1.70% |  300 |  1.47% |  250\n",
      "\t 14 | 00:21:05 ( 80) |  0.01 |  32 | 30% |  250 |   1.60% |  1.26% |  150 |  1.53% |   50\n",
      "\t 15 | 00:21:58 ( 53) |  0.01 |   4 | 30% |  250 |   0.79% |  0.83% |  500 |  1.28% |   50\n",
      "\t 16 | 00:22:49 ( 51) |  0.30 |   4 | 30% |  250 |   2.81% |  1.58% |  450 |  1.46% |   50\n",
      "\t 17 | 00:25:03 (133) |  0.01 |  32 | 95% | 1000 |   3.51% |  1.74% |  500 |  1.78% |  450\n",
      "\t 18 | 00:25:58 ( 55) |  0.30 |   8 | 30% |  250 |   2.45% |  1.62% |  450 |  1.36% |  450\n",
      "\t 19 | 00:27:24 ( 86) |  0.10 |   8 | 95% | 1000 |   4.11% |  2.39% |  450 |  2.11% |  400\n",
      "\t 20 | 00:29:27 (123) |  0.30 | 128 | 60% |  500 |   2.88% |  1.31% |  150 |  1.04% |  450\n",
      "\t 21 | 00:30:39 ( 72) |  0.30 |  32 | 30% |  500 |   2.90% |  1.71% |  100 |  1.62% |  100\n",
      "\t 22 | 00:32:08 ( 89) |  0.01 |   8 | 60% |  250 |   1.98% |  1.23% |  350 |  1.48% |  200\n",
      "\t 23 | 00:35:09 (181) |  0.01 | 128 | 60% |  500 |   1.94% |  1.71% |  400 |  1.84% |  500\n",
      "\t 24 | 00:37:28 (139) |  0.10 | 128 | 60% |  500 |   2.13% |  1.49% |  450 |  1.66% |   25\n",
      "\t 25 | 00:38:47 ( 79) |  0.30 |  32 | 30% | 1000 |   3.08% |  1.53% |  200 |  1.54% |  500\n",
      "\t 26 | 00:41:39 (172) |  0.10 | 128 | 95% | 1000 |   3.55% |  1.48% |   50 |  1.59% |  100\n",
      "\t 27 | 00:43:41 (122) |  0.01 |  32 | 60% |  500 |   2.50% |  1.35% |  500 |  1.39% |  250\n",
      "\t 28 | 00:45:03 ( 82) |  0.10 |   4 | 95% | 1000 |   2.80% |  1.66% |  500 |  1.54% |  450\n",
      "\t 29 | 00:47:51 (168) |  0.30 | 128 | 95% | 1000 |   4.07% |  1.92% |  100 |  2.11% |   75\n",
      "\t 30 | 00:49:15 ( 83) |  0.30 |   4 | 95% |  250 |   3.35% |  1.64% |  150 |  1.73% |  450\n",
      "\t 31 | 00:50:52 ( 97) |  0.01 |   8 | 95% |  250 |   2.79% |  1.81% |  450 |  1.70% |  350\n",
      "\t 32 | 00:53:42 (170) |  0.01 | 128 | 60% |  250 |   2.52% |  1.40% |  500 |  1.34% |  350\n",
      "\t 33 | 00:56:08 (146) |  0.30 | 128 | 60% | 1000 |   3.55% |  1.57% |  400 |  1.60% |  500\n",
      "\t 34 | 00:57:08 ( 60) |  0.01 |   8 | 30% |  250 |   1.09% |  0.98% |  500 |  1.33% |  450\n",
      "\t 35 | 01:00:28 (200) |  0.01 | 128 | 95% |  250 |   2.95% |  1.86% |  500 |  1.66% |  500\n",
      "\t 36 | 01:02:20 (112) |  0.10 |  32 | 95% | 1000 |   3.76% |  2.19% |   50 |  2.59% |  150\n",
      "\t 37 | 01:04:19 (119) |  0.10 | 128 | 30% | 1000 |   4.11% |  1.75% |  250 |  1.81% |  400\n",
      "\t 38 | 01:06:28 (129) |  0.01 | 128 | 30% |  500 |   2.35% |  1.40% |  150 |  1.34% |  100\n",
      "\t 39 | 01:07:49 ( 81) |  0.10 |   4 | 95% |  250 |   2.89% |  1.53% |  300 |  1.60% |  450\n",
      "\t 40 | 01:09:01 ( 72) |  0.01 |   4 | 60% | 1000 |   1.58% |  0.73% |   10 |  0.68% |  150\n",
      "\t 41 | 01:10:29 ( 88) |  0.10 |  32 | 30% |  500 |   2.55% |  1.52% |  250 |  1.62% |  400\n",
      "\t 42 | 01:12:33 (124) |  0.10 | 128 | 30% |  500 |   4.37% |  1.53% |   50 |  1.66% |   75\n",
      "\t 43 | 01:13:46 ( 73) |  0.10 |   4 | 60% |  250 |   2.33% |  1.75% |  400 |  2.04% |  350\n",
      "\t 44 | 01:17:33 (226) |  0.01 | 128 | 95% | 1000 |   3.43% |  1.94% |  500 |  1.83% |  500\n",
      "\t 45 | 01:19:10 ( 98) |  0.01 |   8 | 95% |  500 |   2.82% |  1.62% |  450 |  1.48% |  450\n",
      "\t 46 | 01:21:04 (114) |  0.30 | 128 | 30% | 1000 |   4.10% |  1.35% |   25 |  1.98% |   25\n",
      "\t 47 | 01:24:47 (223) |  0.01 | 128 | 95% |  500 |   3.84% |  1.82% |  450 |  1.98% |  500\n",
      "\t 48 | 01:26:09 ( 82) |  0.10 |  32 | 30% | 1000 |   3.22% |  1.55% |  350 |  1.77% |  400\n",
      "\t 49 | 01:27:41 ( 92) |  0.01 |   4 | 95% |  500 |   2.10% |  0.91% |  200 |  1.10% |  200\n",
      "\t 50 | 01:29:02 ( 81) |  0.10 |   4 | 95% |  500 |   2.45% |  1.58% |  400 |  1.34% |   25\n",
      "\t 51 | 01:31:36 (154) |  0.10 | 128 | 60% | 1000 |   2.86% |  1.54% |  500 |  1.62% |  450\n",
      "\t 52 | 01:32:55 ( 78) |  0.30 |   8 | 60% |  500 |   3.62% |  1.95% |  250 |  1.79% |  350\n",
      "\t 53 | 01:35:11 (136) |  0.01 | 128 | 30% |  250 |   2.13% |  1.01% |   10 |  1.51% |   10\n",
      "Lookahead:  1 | Train: 252 | Test: 63 | Params:  54 | Train configs: 6\n",
      "\t  0 | 00:00:35 ( 35) |  0.01 |   8 | 95% |  250 |  -0.19% |  0.57% |  350 |  0.89% |  250\n",
      "\t  1 | 00:01:02 ( 27) |  0.01 |   8 | 30% |  250 |  -0.20% |  0.37% |  500 |  0.84% |  500\n",
      "\t  2 | 00:02:11 ( 69) |  0.30 | 128 | 30% |  500 |   0.54% |  1.15% |  400 |  0.91% |  500\n",
      "\t  3 | 00:02:35 ( 25) |  0.30 |   8 | 30% |  250 |   0.98% |  0.64% |   75 |  1.02% |  450\n",
      "\t  4 | 00:04:09 ( 93) |  0.10 | 128 | 60% | 1000 |   0.82% |  1.36% |  200 |  1.94% |   10\n",
      "\t  5 | 00:04:54 ( 45) |  0.30 |  32 | 60% | 1000 |   0.89% |  1.55% |  250 |  1.97% |   75\n",
      "\t  6 | 00:05:40 ( 46) |  0.10 |  32 | 60% | 1000 |   1.29% |  1.59% |  500 |  1.90% |  450\n",
      "\t  7 | 00:06:17 ( 37) |  0.01 |   8 | 95% | 1000 |   0.00% |  0.67% |  300 |  0.99% |   10\n",
      "\t  8 | 00:06:47 ( 30) |  0.10 |   8 | 60% |  500 |   0.35% |  0.88% |   75 |  1.41% |  250\n",
      "\t  9 | 00:07:10 ( 23) |  0.10 |   4 | 30% |  500 |   0.65% |  0.96% |  200 |  1.29% |  200\n",
      "\t 10 | 00:08:12 ( 61) |  0.30 | 128 | 30% |  250 |   1.13% |  0.89% |  400 |  0.76% |  100\n",
      "\t 11 | 00:08:53 ( 42) |  0.01 |  32 | 30% | 1000 |   0.40% |  0.79% |  400 |  1.23% |  500\n",
      "\t 12 | 00:10:14 ( 80) |  0.10 | 128 | 30% | 1000 |   1.01% |  1.03% |  350 |  1.35% |  200\n",
      "\t 13 | 00:10:44 ( 30) |  0.10 |   8 | 60% |  250 |   1.06% |  1.20% |  500 |  1.43% |  350\n",
      "\t 14 | 00:11:06 ( 22) |  0.30 |   4 | 30% |  500 |   0.42% |  0.92% |  150 |  1.28% |   75\n",
      "\t 15 | 00:11:43 ( 37) |  0.30 |  32 | 30% |  500 |   0.92% |  0.91% |   75 |  1.25% |  250\n",
      "\t 16 | 00:12:23 ( 40) |  0.01 |  32 | 30% |  250 |   0.24% |  0.53% |  300 |  0.89% |  250\n",
      "\t 17 | 00:12:49 ( 25) |  0.30 |   8 | 30% |  500 |   0.68% |  0.82% |  500 |  1.05% |  200\n",
      "\t 18 | 00:13:18 ( 29) |  0.30 |   8 | 60% | 1000 |   0.16% |  0.89% |  400 |  1.04% |  500\n",
      "\t 19 | 00:13:44 ( 26) |  0.10 |   4 | 60% |  250 |   0.80% |  0.94% |  350 |  1.30% |  300\n",
      "\t 20 | 00:14:30 ( 45) |  0.10 |  32 | 95% |  250 |  -0.01% |  1.27% |  500 |  1.37% |  450\n",
      "\t 21 | 00:15:47 ( 78) |  0.30 | 128 | 30% | 1000 |   0.65% |  1.18% |  400 |  0.98% |   75\n",
      "\t 22 | 00:16:40 ( 53) |  0.30 |  32 | 95% | 1000 |   0.54% |  1.66% |  400 |  2.06% |  300\n",
      "\t 23 | 00:17:54 ( 75) |  0.01 | 128 | 60% |  250 |   0.25% |  1.08% |  500 |  1.29% |  500\n",
      "\t 24 | 00:18:49 ( 54) |  0.01 |  32 | 95% |  500 |   0.27% |  0.93% |   50 |  0.87% |   25\n",
      "\t 25 | 00:19:25 ( 37) |  0.01 |   8 | 95% |  500 |  -0.15% |  0.73% |  250 |  1.21% |  200\n",
      "\t 26 | 00:20:31 ( 65) |  0.10 | 128 | 30% |  250 |   1.17% |  0.76% |  300 |  1.00% |  100\n",
      "\t 27 | 00:21:04 ( 34) |  0.30 |   8 | 95% |  500 |   0.55% |  1.07% |  450 |  1.52% |  150\n",
      "\t 28 | 00:21:51 ( 47) |  0.30 |  32 | 95% |  500 |   0.52% |  1.78% |  500 |  1.90% |  250\n",
      "\t 29 | 00:22:15 ( 24) |  0.30 |   4 | 30% | 1000 |   0.25% |  1.03% |   75 |  1.09% |   50\n",
      "\t 30 | 00:23:38 ( 83) |  0.10 | 128 | 60% |  500 |   0.61% |  1.44% |  250 |  1.38% |   75\n",
      "\t 31 | 00:25:19 (101) |  0.10 | 128 | 95% |  500 |   0.29% |  1.48% |  250 |  1.32% |  150\n",
      "\t 32 | 00:26:09 ( 50) |  0.01 |  32 | 60% | 1000 |   1.32% |  0.92% |  300 |  1.88% |  200\n",
      "\t 33 | 00:26:50 ( 40) |  0.30 |  32 | 30% | 1000 |   1.31% |  1.00% |  500 |  1.01% |  450\n",
      "\t 34 | 00:27:20 ( 31) |  0.30 |   4 | 95% |  500 |   1.14% |  0.89% |  450 |  1.13% |  500\n",
      "\t 35 | 00:28:44 ( 84) |  0.10 | 128 | 95% |  250 |  -0.27% |  1.57% |  400 |  1.41% |   25\n",
      "\t 36 | 00:29:15 ( 30) |  0.01 |   4 | 95% |  500 |  -0.49% |  2.18% |   10 |  1.82% |  350\n",
      "\t 37 | 00:29:53 ( 38) |  0.10 |  32 | 30% |  500 |   1.57% |  1.33% |   75 |  1.51% |   75\n",
      "\t 38 | 00:30:19 ( 26) |  0.10 |   8 | 30% |  250 |   1.39% |  0.84% |  100 |  0.80% |   75\n",
      "\t 39 | 00:30:48 ( 29) |  0.30 |   8 | 60% |  250 |   0.72% |  0.80% |  400 |  0.60% |  200\n",
      "\t 40 | 00:32:07 ( 79) |  0.30 | 128 | 60% |  500 |   0.32% |  1.31% |   75 |  1.62% |   25\n",
      "\t 41 | 00:33:17 ( 69) |  0.10 | 128 | 60% |  250 |   0.10% |  1.05% |  250 |  1.18% |   10\n",
      "\t 42 | 00:33:48 ( 31) |  0.30 |   4 | 95% | 1000 |   1.58% |  1.27% |  450 |  1.54% |  450\n",
      "\t 43 | 00:34:14 ( 26) |  0.30 |   8 | 30% | 1000 |   1.21% |  0.71% |   25 |  1.02% |  100\n",
      "\t 44 | 00:34:55 ( 41) |  0.30 |  32 | 95% |  250 |   0.29% |  1.15% |  400 |  1.15% |  500\n",
      "\t 45 | 00:35:18 ( 23) |  0.10 |   4 | 30% | 1000 |   0.91% |  0.85% |  250 |  1.34% |  300\n",
      "\t 46 | 00:36:11 ( 54) |  0.01 |  32 | 95% |  250 |   0.54% |  0.77% |   25 |  1.25% |   10\n",
      "\t 47 | 00:36:47 ( 36) |  0.10 |   8 | 95% | 1000 |   0.74% |  1.12% |  250 |  1.76% |  200\n",
      "\t 48 | 00:37:16 ( 29) |  0.01 |   8 | 30% |  500 |  -0.15% |  0.37% |  500 |  0.69% |  350\n",
      "\t 49 | 00:38:27 ( 70) |  0.01 | 128 | 30% | 1000 |   0.73% |  0.93% |  400 |  1.29% |  450\n",
      "\t 50 | 00:39:07 ( 41) |  0.01 |  32 | 30% |  500 |   0.34% |  0.65% |  500 |  1.06% |  200\n",
      "\t 51 | 00:39:47 ( 40) |  0.10 |  32 | 60% |  250 |  -0.15% |  1.04% |  350 |  1.18% |   25\n",
      "\t 52 | 00:40:22 ( 35) |  0.30 |  32 | 30% |  250 |   1.41% |  0.74% |  500 |  1.05% |   75\n",
      "\t 53 | 00:40:58 ( 36) |  0.10 |  32 | 30% |  250 |   1.46% |  0.87% |  500 |  0.75% |   50\n",
      "Lookahead: 21 | Train: 252 | Test: 63 | Params:  54 | Train configs: 6\n",
      "\t  0 | 00:01:09 ( 69) |  0.30 | 128 | 30% |  500 |   4.58% |  4.14% |  250 |  4.37% |  100\n",
      "\t  1 | 00:02:18 ( 69) |  0.01 | 128 | 30% |  250 |   1.64% |  3.49% |  500 |  3.10% |  450\n",
      "\t  2 | 00:03:51 ( 93) |  0.01 | 128 | 95% |  250 |   4.74% |  4.77% |  500 |  4.54% |  500\n",
      "\t  3 | 00:04:24 ( 33) |  0.01 |   8 | 60% |  250 |   5.02% |  4.22% |  250 |  4.14% |  400\n",
      "\t  4 | 00:04:52 ( 29) |  0.30 |   8 | 60% |  250 |   7.00% |  4.39% |  500 |  5.03% |  500\n",
      "\t  5 | 00:05:53 ( 60) |  0.30 | 128 | 60% |  250 |   7.08% |  5.53% |   75 |  5.20% |   75\n",
      "\t  6 | 00:06:59 ( 67) |  0.01 | 128 | 30% | 1000 |   2.28% |  4.26% |  500 |  4.33% |  500\n",
      "\t  7 | 00:07:27 ( 27) |  0.01 |   8 | 30% |  250 |   3.75% |  2.97% |  500 |  2.49% |  500\n",
      "\t  8 | 00:08:22 ( 55) |  0.30 |  32 | 95% | 1000 |   5.47% |  4.65% |  400 |  5.03% |  350\n",
      "\t  9 | 00:08:49 ( 27) |  0.01 |   4 | 60% | 1000 |   4.91% |  4.73% |  500 |  3.96% |  500\n",
      "\t 10 | 00:09:16 ( 26) |  0.30 |   4 | 60% | 1000 |   8.22% |  4.97% |  450 |  5.89% |  500\n",
      "\t 11 | 00:10:58 (102) |  0.30 | 128 | 95% | 1000 |   4.88% |  5.38% |   75 |  4.95% |   75\n",
      "\t 12 | 00:12:05 ( 68) |  0.10 | 128 | 30% |  500 |   4.81% |  5.06% |  450 |  6.00% |  350\n",
      "\t 13 | 00:12:38 ( 33) |  0.01 |   8 | 60% | 1000 |   5.21% |  4.26% |  500 |  3.94% |  350\n",
      "\t 14 | 00:13:18 ( 40) |  0.01 |  32 | 30% | 1000 |   2.77% |  4.00% |  500 |  4.53% |  500\n",
      "\t 15 | 00:14:16 ( 57) |  0.01 |  32 | 95% | 1000 |   4.30% |  4.57% |  500 |  4.61% |  400\n",
      "\t 16 | 00:14:40 ( 25) |  0.30 |   8 | 30% |  250 |   7.97% |  4.54% |  500 |  4.61% |  450\n",
      "\t 17 | 00:15:12 ( 32) |  0.10 |   4 | 95% |  250 |   4.31% |  3.75% |   75 |  4.61% |   10\n",
      "\t 18 | 00:16:08 ( 56) |  0.01 |  32 | 95% |  500 |   3.90% |  3.77% |  500 |  4.01% |  500\n",
      "\t 19 | 00:16:51 ( 43) |  0.30 |  32 | 60% | 1000 |   4.89% |  5.56% |  400 |  5.91% |  450\n",
      "\t 20 | 00:17:24 ( 33) |  0.30 |   8 | 95% |  500 |   5.24% |  3.86% |  500 |  4.15% |  500\n",
      "\t 21 | 00:17:55 ( 31) |  0.10 |   4 | 95% | 1000 |   4.68% |  4.03% |  500 |  4.61% |   10\n",
      "\t 22 | 00:18:43 ( 48) |  0.10 |  32 | 95% |  500 |   5.26% |  4.79% |  500 |  4.96% |   75\n",
      "\t 23 | 00:19:10 ( 27) |  0.01 |   4 | 60% |  250 |   4.72% |  4.37% |  450 |  4.30% |  200\n",
      "\t 24 | 00:20:07 ( 57) |  0.30 | 128 | 30% |  250 |   4.14% |  3.71% |  150 |  4.01% |  300\n",
      "\t 25 | 00:20:37 ( 30) |  0.30 |   4 | 95% |  250 |   5.85% |  4.08% |   10 |  4.90% |  450\n",
      "\t 26 | 00:21:38 ( 62) |  0.10 | 128 | 30% |  250 |   5.50% |  5.06% |  400 |  5.53% |  250\n",
      "\t 27 | 00:22:28 ( 50) |  0.01 |  32 | 60% |  250 |   3.75% |  3.61% |  500 |  4.13% |  400\n",
      "\t 28 | 00:23:20 ( 52) |  0.10 |  32 | 95% | 1000 |   5.53% |  5.38% |  450 |  5.65% |  400\n",
      "\t 29 | 00:23:46 ( 26) |  0.10 |   8 | 30% |  250 |   7.66% |  3.51% |  500 |  3.31% |  100\n",
      "\t 30 | 00:24:19 ( 33) |  0.01 |   8 | 60% |  500 |   5.23% |  4.33% |  250 |  4.21% |  350\n",
      "\t 31 | 00:26:00 (101) |  0.10 | 128 | 95% | 1000 |   5.18% |  6.08% |  350 |  6.03% |  200\n",
      "\t 32 | 00:26:38 ( 38) |  0.01 |   8 | 95% | 1000 |   3.81% |  4.25% |  200 |  5.12% |  200\n",
      "\t 33 | 00:27:45 ( 66) |  0.01 | 128 | 30% |  500 |   2.08% |  3.85% |  500 |  3.60% |  450\n",
      "\t 34 | 00:28:25 ( 40) |  0.10 |  32 | 60% |  250 |   5.85% |  4.86% |  500 |  5.75% |  400\n",
      "\t 35 | 00:28:59 ( 35) |  0.10 |   8 | 95% | 1000 |   5.42% |  4.52% |  350 |  5.17% |  350\n",
      "\t 36 | 00:29:55 ( 56) |  0.01 |  32 | 95% |  250 |   3.66% |  3.64% |  500 |  4.32% |  450\n",
      "\t 37 | 00:30:30 ( 35) |  0.10 |   8 | 95% |  500 |   4.61% |  4.04% |  400 |  4.92% |   25\n",
      "\t 38 | 00:31:02 ( 32) |  0.10 |   8 | 60% | 1000 |   6.74% |  4.67% |  100 |  4.89% |  100\n",
      "\t 39 | 00:31:28 ( 26) |  0.30 |   4 | 60% |  250 |   7.77% |  5.47% |  500 |  5.15% |  500\n",
      "\t 40 | 00:32:14 ( 46) |  0.30 |  32 | 95% |  500 |   6.10% |  4.61% |  500 |  5.50% |  500\n",
      "\t 41 | 00:32:40 ( 26) |  0.30 |   8 | 30% | 1000 |   8.19% |  5.21% |  400 |  5.08% |  200\n",
      "\t 42 | 00:33:11 ( 31) |  0.01 |   4 | 95% |  500 |   2.31% |  3.59% |  350 |  3.62% |  100\n",
      "\t 43 | 00:33:48 ( 37) |  0.30 |  32 | 30% |  250 |   5.00% |  4.74% |  450 |  4.83% |  450\n",
      "\t 44 | 00:34:14 ( 27) |  0.10 |   8 | 30% |  500 |   7.81% |  3.75% |  100 |  3.81% |  200\n",
      "\t 45 | 00:34:41 ( 27) |  0.30 |   4 | 60% |  500 |   8.46% |  4.66% |  500 |  4.44% |  500\n",
      "\t 46 | 00:35:25 ( 44) |  0.30 |  32 | 95% |  250 |   6.22% |  4.71% |  400 |  4.30% |  400\n",
      "\t 47 | 00:36:02 ( 37) |  0.30 |   8 | 95% |  250 |   4.90% |  3.79% |  350 |  3.35% |  500\n",
      "\t 48 | 00:36:33 ( 31) |  0.30 |   8 | 60% | 1000 |   8.70% |  5.39% |  500 |  5.17% |  500\n",
      "\t 49 | 00:37:48 ( 75) |  0.10 | 128 | 30% | 1000 |   5.02% |  5.16% |  150 |  5.43% |  150\n",
      "\t 50 | 00:38:35 ( 47) |  0.10 |  32 | 95% |  250 |   5.03% |  4.51% |  250 |  4.57% |   75\n",
      "\t 51 | 00:39:06 ( 31) |  0.30 |   4 | 95% | 1000 |   6.68% |  4.88% |  500 |  5.91% |  250\n",
      "\t 52 | 00:40:43 ( 97) |  0.01 | 128 | 95% |  500 |   4.29% |  4.77% |  500 |  4.65% |  500\n",
      "\t 53 | 00:41:11 ( 28) |  0.10 |   4 | 60% |  500 |   6.20% |  4.64% |   75 |  4.46% |   75\n",
      "Lookahead:  5 | Train: 1134 | Test: 63 | Params:  54 | Train configs: 6\n",
      "\t  0 | 00:01:14 ( 74) |  0.10 |   4 | 60% |  500 |   7.54% |  3.70% |  450 |  3.81% |  250\n",
      "\t  1 | 00:02:47 ( 93) |  0.10 |   8 | 95% |  250 |   9.24% |  3.66% |  350 |  3.01% |  350\n"
     ]
    },
    {
     "ename": "KeyboardInterrupt",
     "evalue": "",
     "output_type": "error",
     "traceback": [
      "\u001b[1;31m---------------------------------------------------------------------------\u001b[0m",
      "\u001b[1;31mKeyboardInterrupt\u001b[0m                         Traceback (most recent call last)",
      "Cell \u001b[1;32mIn[34], line 47\u001b[0m\n\u001b[0;32m     43\u001b[0m \u001b[38;5;66;03m# iterate over folds\u001b[39;00m\n\u001b[0;32m     44\u001b[0m \u001b[38;5;28;01mfor\u001b[39;00m i, (train_idx, test_idx) \u001b[38;5;129;01min\u001b[39;00m \u001b[38;5;28menumerate\u001b[39m(cv\u001b[38;5;241m.\u001b[39msplit(X\u001b[38;5;241m=\u001b[39moutcome_data)):\n\u001b[0;32m     45\u001b[0m     \n\u001b[0;32m     46\u001b[0m     \u001b[38;5;66;03m# select train subset\u001b[39;00m\n\u001b[1;32m---> 47\u001b[0m     lgb_train \u001b[38;5;241m=\u001b[39m \u001b[43mlgb_data\u001b[49m\u001b[38;5;241;43m.\u001b[39;49m\u001b[43msubset\u001b[49m\u001b[43m(\u001b[49m\u001b[43mused_indices\u001b[49m\u001b[38;5;241;43m=\u001b[39;49m\u001b[43mtrain_idx\u001b[49m\u001b[38;5;241;43m.\u001b[39;49m\u001b[43mtolist\u001b[49m\u001b[43m(\u001b[49m\u001b[43m)\u001b[49m\u001b[43m,\u001b[49m\n\u001b[0;32m     48\u001b[0m \u001b[43m                               \u001b[49m\u001b[43mparams\u001b[49m\u001b[38;5;241;43m=\u001b[39;49m\u001b[43mparams\u001b[49m\u001b[43m)\u001b[49m\u001b[38;5;241;43m.\u001b[39;49m\u001b[43mconstruct\u001b[49m\u001b[43m(\u001b[49m\u001b[43m)\u001b[49m\n\u001b[0;32m     50\u001b[0m     \u001b[38;5;66;03m# train model for num_boost_round\u001b[39;00m\n\u001b[0;32m     51\u001b[0m     model \u001b[38;5;241m=\u001b[39m lgb\u001b[38;5;241m.\u001b[39mtrain(params\u001b[38;5;241m=\u001b[39mparams,\n\u001b[0;32m     52\u001b[0m                       train_set\u001b[38;5;241m=\u001b[39mlgb_train,\n\u001b[0;32m     53\u001b[0m                       num_boost_round\u001b[38;5;241m=\u001b[39mnum_boost_round,\n\u001b[0;32m     54\u001b[0m                       verbose_eval\u001b[38;5;241m=\u001b[39m\u001b[38;5;28;01mFalse\u001b[39;00m)\n",
      "File \u001b[1;32m~\\anaconda3\\envs\\ml4f\\lib\\site-packages\\lightgbm\\basic.py:1458\u001b[0m, in \u001b[0;36mDataset.construct\u001b[1;34m(self)\u001b[0m\n\u001b[0;32m   1451\u001b[0m _safe_call(_LIB\u001b[38;5;241m.\u001b[39mLGBM_DatasetGetSubset(\n\u001b[0;32m   1452\u001b[0m     \u001b[38;5;28mself\u001b[39m\u001b[38;5;241m.\u001b[39mreference\u001b[38;5;241m.\u001b[39mconstruct()\u001b[38;5;241m.\u001b[39mhandle,\n\u001b[0;32m   1453\u001b[0m     used_indices\u001b[38;5;241m.\u001b[39mctypes\u001b[38;5;241m.\u001b[39mdata_as(ctypes\u001b[38;5;241m.\u001b[39mPOINTER(ctypes\u001b[38;5;241m.\u001b[39mc_int32)),\n\u001b[0;32m   1454\u001b[0m     ctypes\u001b[38;5;241m.\u001b[39mc_int(used_indices\u001b[38;5;241m.\u001b[39mshape[\u001b[38;5;241m0\u001b[39m]),\n\u001b[0;32m   1455\u001b[0m     c_str(params_str),\n\u001b[0;32m   1456\u001b[0m     ctypes\u001b[38;5;241m.\u001b[39mbyref(\u001b[38;5;28mself\u001b[39m\u001b[38;5;241m.\u001b[39mhandle)))\n\u001b[0;32m   1457\u001b[0m \u001b[38;5;28;01mif\u001b[39;00m \u001b[38;5;129;01mnot\u001b[39;00m \u001b[38;5;28mself\u001b[39m\u001b[38;5;241m.\u001b[39mfree_raw_data:\n\u001b[1;32m-> 1458\u001b[0m     \u001b[38;5;28;43mself\u001b[39;49m\u001b[38;5;241;43m.\u001b[39;49m\u001b[43mget_data\u001b[49m\u001b[43m(\u001b[49m\u001b[43m)\u001b[49m\n\u001b[0;32m   1459\u001b[0m \u001b[38;5;28;01mif\u001b[39;00m \u001b[38;5;28mself\u001b[39m\u001b[38;5;241m.\u001b[39mgroup \u001b[38;5;129;01mis\u001b[39;00m \u001b[38;5;129;01mnot\u001b[39;00m \u001b[38;5;28;01mNone\u001b[39;00m:\n\u001b[0;32m   1460\u001b[0m     \u001b[38;5;28mself\u001b[39m\u001b[38;5;241m.\u001b[39mset_group(\u001b[38;5;28mself\u001b[39m\u001b[38;5;241m.\u001b[39mgroup)\n",
      "File \u001b[1;32m~\\anaconda3\\envs\\ml4f\\lib\\site-packages\\lightgbm\\basic.py:1955\u001b[0m, in \u001b[0;36mDataset.get_data\u001b[1;34m(self)\u001b[0m\n\u001b[0;32m   1953\u001b[0m     \u001b[38;5;28mself\u001b[39m\u001b[38;5;241m.\u001b[39mdata \u001b[38;5;241m=\u001b[39m \u001b[38;5;28mself\u001b[39m\u001b[38;5;241m.\u001b[39mdata[\u001b[38;5;28mself\u001b[39m\u001b[38;5;241m.\u001b[39mused_indices, :]\n\u001b[0;32m   1954\u001b[0m \u001b[38;5;28;01melif\u001b[39;00m \u001b[38;5;28misinstance\u001b[39m(\u001b[38;5;28mself\u001b[39m\u001b[38;5;241m.\u001b[39mdata, pd_DataFrame):\n\u001b[1;32m-> 1955\u001b[0m     \u001b[38;5;28mself\u001b[39m\u001b[38;5;241m.\u001b[39mdata \u001b[38;5;241m=\u001b[39m \u001b[38;5;28;43mself\u001b[39;49m\u001b[38;5;241;43m.\u001b[39;49m\u001b[43mdata\u001b[49m\u001b[38;5;241;43m.\u001b[39;49m\u001b[43miloc\u001b[49m\u001b[43m[\u001b[49m\u001b[38;5;28;43mself\u001b[39;49m\u001b[38;5;241;43m.\u001b[39;49m\u001b[43mused_indices\u001b[49m\u001b[43m]\u001b[49m\u001b[38;5;241m.\u001b[39mcopy()\n\u001b[0;32m   1956\u001b[0m \u001b[38;5;28;01melif\u001b[39;00m \u001b[38;5;28misinstance\u001b[39m(\u001b[38;5;28mself\u001b[39m\u001b[38;5;241m.\u001b[39mdata, dt_DataTable):\n\u001b[0;32m   1957\u001b[0m     \u001b[38;5;28mself\u001b[39m\u001b[38;5;241m.\u001b[39mdata \u001b[38;5;241m=\u001b[39m \u001b[38;5;28mself\u001b[39m\u001b[38;5;241m.\u001b[39mdata[\u001b[38;5;28mself\u001b[39m\u001b[38;5;241m.\u001b[39mused_indices, :]\n",
      "File \u001b[1;32m~\\anaconda3\\envs\\ml4f\\lib\\site-packages\\pandas\\core\\indexing.py:895\u001b[0m, in \u001b[0;36m_LocationIndexer.__getitem__\u001b[1;34m(self, key)\u001b[0m\n\u001b[0;32m    892\u001b[0m axis \u001b[38;5;241m=\u001b[39m \u001b[38;5;28mself\u001b[39m\u001b[38;5;241m.\u001b[39maxis \u001b[38;5;129;01mor\u001b[39;00m \u001b[38;5;241m0\u001b[39m\n\u001b[0;32m    894\u001b[0m maybe_callable \u001b[38;5;241m=\u001b[39m com\u001b[38;5;241m.\u001b[39mapply_if_callable(key, \u001b[38;5;28mself\u001b[39m\u001b[38;5;241m.\u001b[39mobj)\n\u001b[1;32m--> 895\u001b[0m \u001b[38;5;28;01mreturn\u001b[39;00m \u001b[38;5;28;43mself\u001b[39;49m\u001b[38;5;241;43m.\u001b[39;49m\u001b[43m_getitem_axis\u001b[49m\u001b[43m(\u001b[49m\u001b[43mmaybe_callable\u001b[49m\u001b[43m,\u001b[49m\u001b[43m \u001b[49m\u001b[43maxis\u001b[49m\u001b[38;5;241;43m=\u001b[39;49m\u001b[43maxis\u001b[49m\u001b[43m)\u001b[49m\n",
      "File \u001b[1;32m~\\anaconda3\\envs\\ml4f\\lib\\site-packages\\pandas\\core\\indexing.py:1492\u001b[0m, in \u001b[0;36m_iLocIndexer._getitem_axis\u001b[1;34m(self, key, axis)\u001b[0m\n\u001b[0;32m   1490\u001b[0m \u001b[38;5;66;03m# a list of integers\u001b[39;00m\n\u001b[0;32m   1491\u001b[0m \u001b[38;5;28;01melif\u001b[39;00m is_list_like_indexer(key):\n\u001b[1;32m-> 1492\u001b[0m     \u001b[38;5;28;01mreturn\u001b[39;00m \u001b[38;5;28;43mself\u001b[39;49m\u001b[38;5;241;43m.\u001b[39;49m\u001b[43m_get_list_axis\u001b[49m\u001b[43m(\u001b[49m\u001b[43mkey\u001b[49m\u001b[43m,\u001b[49m\u001b[43m \u001b[49m\u001b[43maxis\u001b[49m\u001b[38;5;241;43m=\u001b[39;49m\u001b[43maxis\u001b[49m\u001b[43m)\u001b[49m\n\u001b[0;32m   1494\u001b[0m \u001b[38;5;66;03m# a single integer\u001b[39;00m\n\u001b[0;32m   1495\u001b[0m \u001b[38;5;28;01melse\u001b[39;00m:\n\u001b[0;32m   1496\u001b[0m     key \u001b[38;5;241m=\u001b[39m item_from_zerodim(key)\n",
      "File \u001b[1;32m~\\anaconda3\\envs\\ml4f\\lib\\site-packages\\pandas\\core\\indexing.py:1474\u001b[0m, in \u001b[0;36m_iLocIndexer._get_list_axis\u001b[1;34m(self, key, axis)\u001b[0m\n\u001b[0;32m   1457\u001b[0m \u001b[38;5;250m\u001b[39m\u001b[38;5;124;03m\"\"\"\u001b[39;00m\n\u001b[0;32m   1458\u001b[0m \u001b[38;5;124;03mReturn Series values by list or array of integers.\u001b[39;00m\n\u001b[0;32m   1459\u001b[0m \n\u001b[1;32m   (...)\u001b[0m\n\u001b[0;32m   1471\u001b[0m \u001b[38;5;124;03m`axis` can only be zero.\u001b[39;00m\n\u001b[0;32m   1472\u001b[0m \u001b[38;5;124;03m\"\"\"\u001b[39;00m\n\u001b[0;32m   1473\u001b[0m \u001b[38;5;28;01mtry\u001b[39;00m:\n\u001b[1;32m-> 1474\u001b[0m     \u001b[38;5;28;01mreturn\u001b[39;00m \u001b[38;5;28;43mself\u001b[39;49m\u001b[38;5;241;43m.\u001b[39;49m\u001b[43mobj\u001b[49m\u001b[38;5;241;43m.\u001b[39;49m\u001b[43m_take_with_is_copy\u001b[49m\u001b[43m(\u001b[49m\u001b[43mkey\u001b[49m\u001b[43m,\u001b[49m\u001b[43m \u001b[49m\u001b[43maxis\u001b[49m\u001b[38;5;241;43m=\u001b[39;49m\u001b[43maxis\u001b[49m\u001b[43m)\u001b[49m\n\u001b[0;32m   1475\u001b[0m \u001b[38;5;28;01mexcept\u001b[39;00m \u001b[38;5;167;01mIndexError\u001b[39;00m \u001b[38;5;28;01mas\u001b[39;00m err:\n\u001b[0;32m   1476\u001b[0m     \u001b[38;5;66;03m# re-raise with different error message\u001b[39;00m\n\u001b[0;32m   1477\u001b[0m     \u001b[38;5;28;01mraise\u001b[39;00m \u001b[38;5;167;01mIndexError\u001b[39;00m(\u001b[38;5;124m\"\u001b[39m\u001b[38;5;124mpositional indexers are out-of-bounds\u001b[39m\u001b[38;5;124m\"\u001b[39m) \u001b[38;5;28;01mfrom\u001b[39;00m \u001b[38;5;21;01merr\u001b[39;00m\n",
      "File \u001b[1;32m~\\anaconda3\\envs\\ml4f\\lib\\site-packages\\pandas\\core\\generic.py:3600\u001b[0m, in \u001b[0;36mNDFrame._take_with_is_copy\u001b[1;34m(self, indices, axis)\u001b[0m\n\u001b[0;32m   3591\u001b[0m \u001b[38;5;129m@final\u001b[39m\n\u001b[0;32m   3592\u001b[0m \u001b[38;5;28;01mdef\u001b[39;00m \u001b[38;5;21m_take_with_is_copy\u001b[39m(\u001b[38;5;28mself\u001b[39m: FrameOrSeries, indices, axis\u001b[38;5;241m=\u001b[39m\u001b[38;5;241m0\u001b[39m) \u001b[38;5;241m-\u001b[39m\u001b[38;5;241m>\u001b[39m FrameOrSeries:\n\u001b[0;32m   3593\u001b[0m \u001b[38;5;250m    \u001b[39m\u001b[38;5;124;03m\"\"\"\u001b[39;00m\n\u001b[0;32m   3594\u001b[0m \u001b[38;5;124;03m    Internal version of the `take` method that sets the `_is_copy`\u001b[39;00m\n\u001b[0;32m   3595\u001b[0m \u001b[38;5;124;03m    attribute to keep track of the parent dataframe (using in indexing\u001b[39;00m\n\u001b[1;32m   (...)\u001b[0m\n\u001b[0;32m   3598\u001b[0m \u001b[38;5;124;03m    See the docstring of `take` for full explanation of the parameters.\u001b[39;00m\n\u001b[0;32m   3599\u001b[0m \u001b[38;5;124;03m    \"\"\"\u001b[39;00m\n\u001b[1;32m-> 3600\u001b[0m     result \u001b[38;5;241m=\u001b[39m \u001b[38;5;28;43mself\u001b[39;49m\u001b[38;5;241;43m.\u001b[39;49m\u001b[43mtake\u001b[49m\u001b[43m(\u001b[49m\u001b[43mindices\u001b[49m\u001b[38;5;241;43m=\u001b[39;49m\u001b[43mindices\u001b[49m\u001b[43m,\u001b[49m\u001b[43m \u001b[49m\u001b[43maxis\u001b[49m\u001b[38;5;241;43m=\u001b[39;49m\u001b[43maxis\u001b[49m\u001b[43m)\u001b[49m\n\u001b[0;32m   3601\u001b[0m     \u001b[38;5;66;03m# Maybe set copy if we didn't actually change the index.\u001b[39;00m\n\u001b[0;32m   3602\u001b[0m     \u001b[38;5;28;01mif\u001b[39;00m \u001b[38;5;129;01mnot\u001b[39;00m result\u001b[38;5;241m.\u001b[39m_get_axis(axis)\u001b[38;5;241m.\u001b[39mequals(\u001b[38;5;28mself\u001b[39m\u001b[38;5;241m.\u001b[39m_get_axis(axis)):\n",
      "File \u001b[1;32m~\\anaconda3\\envs\\ml4f\\lib\\site-packages\\pandas\\core\\generic.py:3586\u001b[0m, in \u001b[0;36mNDFrame.take\u001b[1;34m(self, indices, axis, is_copy, **kwargs)\u001b[0m\n\u001b[0;32m   3582\u001b[0m nv\u001b[38;5;241m.\u001b[39mvalidate_take((), kwargs)\n\u001b[0;32m   3584\u001b[0m \u001b[38;5;28mself\u001b[39m\u001b[38;5;241m.\u001b[39m_consolidate_inplace()\n\u001b[1;32m-> 3586\u001b[0m new_data \u001b[38;5;241m=\u001b[39m \u001b[38;5;28;43mself\u001b[39;49m\u001b[38;5;241;43m.\u001b[39;49m\u001b[43m_mgr\u001b[49m\u001b[38;5;241;43m.\u001b[39;49m\u001b[43mtake\u001b[49m\u001b[43m(\u001b[49m\n\u001b[0;32m   3587\u001b[0m \u001b[43m    \u001b[49m\u001b[43mindices\u001b[49m\u001b[43m,\u001b[49m\u001b[43m \u001b[49m\u001b[43maxis\u001b[49m\u001b[38;5;241;43m=\u001b[39;49m\u001b[38;5;28;43mself\u001b[39;49m\u001b[38;5;241;43m.\u001b[39;49m\u001b[43m_get_block_manager_axis\u001b[49m\u001b[43m(\u001b[49m\u001b[43maxis\u001b[49m\u001b[43m)\u001b[49m\u001b[43m,\u001b[49m\u001b[43m \u001b[49m\u001b[43mverify\u001b[49m\u001b[38;5;241;43m=\u001b[39;49m\u001b[38;5;28;43;01mTrue\u001b[39;49;00m\n\u001b[0;32m   3588\u001b[0m \u001b[43m\u001b[49m\u001b[43m)\u001b[49m\n\u001b[0;32m   3589\u001b[0m \u001b[38;5;28;01mreturn\u001b[39;00m \u001b[38;5;28mself\u001b[39m\u001b[38;5;241m.\u001b[39m_constructor(new_data)\u001b[38;5;241m.\u001b[39m__finalize__(\u001b[38;5;28mself\u001b[39m, method\u001b[38;5;241m=\u001b[39m\u001b[38;5;124m\"\u001b[39m\u001b[38;5;124mtake\u001b[39m\u001b[38;5;124m\"\u001b[39m)\n",
      "File \u001b[1;32m~\\anaconda3\\envs\\ml4f\\lib\\site-packages\\pandas\\core\\internals\\managers.py:1462\u001b[0m, in \u001b[0;36mBlockManager.take\u001b[1;34m(self, indexer, axis, verify, convert)\u001b[0m\n\u001b[0;32m   1455\u001b[0m \u001b[38;5;250m\u001b[39m\u001b[38;5;124;03m\"\"\"\u001b[39;00m\n\u001b[0;32m   1456\u001b[0m \u001b[38;5;124;03mTake items along any axis.\u001b[39;00m\n\u001b[0;32m   1457\u001b[0m \u001b[38;5;124;03m\"\"\"\u001b[39;00m\n\u001b[0;32m   1458\u001b[0m \u001b[38;5;28mself\u001b[39m\u001b[38;5;241m.\u001b[39m_consolidate_inplace()\n\u001b[0;32m   1459\u001b[0m indexer \u001b[38;5;241m=\u001b[39m (\n\u001b[0;32m   1460\u001b[0m     np\u001b[38;5;241m.\u001b[39marange(indexer\u001b[38;5;241m.\u001b[39mstart, indexer\u001b[38;5;241m.\u001b[39mstop, indexer\u001b[38;5;241m.\u001b[39mstep, dtype\u001b[38;5;241m=\u001b[39m\u001b[38;5;124m\"\u001b[39m\u001b[38;5;124mint64\u001b[39m\u001b[38;5;124m\"\u001b[39m)\n\u001b[0;32m   1461\u001b[0m     \u001b[38;5;28;01mif\u001b[39;00m \u001b[38;5;28misinstance\u001b[39m(indexer, \u001b[38;5;28mslice\u001b[39m)\n\u001b[1;32m-> 1462\u001b[0m     \u001b[38;5;28;01melse\u001b[39;00m \u001b[43mnp\u001b[49m\u001b[38;5;241;43m.\u001b[39;49m\u001b[43masanyarray\u001b[49m\u001b[43m(\u001b[49m\u001b[43mindexer\u001b[49m\u001b[43m,\u001b[49m\u001b[43m \u001b[49m\u001b[43mdtype\u001b[49m\u001b[38;5;241;43m=\u001b[39;49m\u001b[38;5;124;43m\"\u001b[39;49m\u001b[38;5;124;43mint64\u001b[39;49m\u001b[38;5;124;43m\"\u001b[39;49m\u001b[43m)\u001b[49m\n\u001b[0;32m   1463\u001b[0m )\n\u001b[0;32m   1465\u001b[0m n \u001b[38;5;241m=\u001b[39m \u001b[38;5;28mself\u001b[39m\u001b[38;5;241m.\u001b[39mshape[axis]\n\u001b[0;32m   1466\u001b[0m \u001b[38;5;28;01mif\u001b[39;00m convert:\n",
      "\u001b[1;31mKeyboardInterrupt\u001b[0m: "
     ]
    }
   ],
   "source": [
    "for lookahead, train_length, test_length in test_params:\n",
    "    # randomized grid search\n",
    "    cvp = np.random.choice(list(range(n_params)),\n",
    "                           size=int(n_params / 2),\n",
    "                           replace=False)\n",
    "    cv_params_ = [cv_params[i] for i in cvp]\n",
    "\n",
    "    # set up cross-validation\n",
    "    n_splits = int(2 * YEAR / test_length)\n",
    "    print(f'Lookahead: {lookahead:2.0f} | '\n",
    "          f'Train: {train_length:3.0f} | '\n",
    "          f'Test: {test_length:2.0f} | '\n",
    "          f'Params: {len(cv_params_):3.0f} | '\n",
    "          f'Train configs: {len(test_params)}')\n",
    "\n",
    "    # time-series cross-validation\n",
    "    cv = MultipleTimeSeriesCV(n_splits=n_splits,\n",
    "                              lookahead=lookahead,\n",
    "                              test_period_length=test_length,\n",
    "                              train_period_length=train_length)\n",
    "\n",
    "    label = label_dict[lookahead]\n",
    "    outcome_data = data.loc[:, features + [label]].dropna()\n",
    "    \n",
    "    # binary dataset\n",
    "    lgb_data = lgb.Dataset(data=outcome_data.drop(label, axis=1),\n",
    "                           label=outcome_data[label],\n",
    "                           categorical_feature=categoricals,\n",
    "                           free_raw_data=False)\n",
    "    T = 0\n",
    "    predictions, metrics, feature_importance, daily_ic = [], [], [], []\n",
    "    \n",
    "    # iterate over (shuffled) hyperparameter combinations\n",
    "    for p, param_vals in enumerate(cv_params_):\n",
    "        key = f'{lookahead}/{train_length}/{test_length}/' + '/'.join([str(p) for p in param_vals])\n",
    "        params = dict(zip(param_names, param_vals))\n",
    "        params.update(base_params)\n",
    "\n",
    "        start = time()\n",
    "        cv_preds, nrounds = [], []\n",
    "        ic_cv = defaultdict(list)\n",
    "        \n",
    "        # iterate over folds\n",
    "        for i, (train_idx, test_idx) in enumerate(cv.split(X=outcome_data)):\n",
    "            \n",
    "            # select train subset\n",
    "            lgb_train = lgb_data.subset(used_indices=train_idx.tolist(),\n",
    "                                       params=params).construct()\n",
    "            \n",
    "            # train model for num_boost_round\n",
    "            model = lgb.train(params=params,\n",
    "                              train_set=lgb_train,\n",
    "                              num_boost_round=num_boost_round,\n",
    "                              verbose_eval=False)\n",
    "            # log feature importance\n",
    "            if i == 0:\n",
    "                fi = get_fi(model).to_frame()\n",
    "            else:\n",
    "                fi[i] = get_fi(model)\n",
    "\n",
    "            # capture predictions\n",
    "            test_set = outcome_data.iloc[test_idx, :]\n",
    "            X_test = test_set.loc[:, model.feature_name()]\n",
    "            y_test = test_set.loc[:, label]\n",
    "            y_pred = {str(n): model.predict(X_test, num_iteration=n) for n in num_iterations}\n",
    "            \n",
    "            # record predictions for each fold\n",
    "            cv_preds.append(y_test.to_frame('y_test').assign(**y_pred).assign(i=i))\n",
    "        \n",
    "        # combine fold results\n",
    "        cv_preds = pd.concat(cv_preds).assign(**params)\n",
    "        predictions.append(cv_preds)\n",
    "        \n",
    "        # compute IC per day\n",
    "        by_day = cv_preds.groupby(level='date')\n",
    "        ic_by_day = pd.concat([by_day.apply(lambda x: spearmanr(x.y_test, x[str(n)])[0]).to_frame(n)\n",
    "                               for n in num_iterations], axis=1)\n",
    "        daily_ic_mean = ic_by_day.mean()\n",
    "        daily_ic_mean_n = daily_ic_mean.idxmax()\n",
    "        daily_ic_median = ic_by_day.median()\n",
    "        daily_ic_median_n = daily_ic_median.idxmax()\n",
    "        \n",
    "        # compute IC across all predictions\n",
    "        ic = [spearmanr(cv_preds.y_test, cv_preds[str(n)])[0] for n in num_iterations]\n",
    "        t = time() - start\n",
    "        T += t\n",
    "        \n",
    "        # collect metrics\n",
    "        metrics = pd.Series(list(param_vals) +\n",
    "                            [t, daily_ic_mean.max(), daily_ic_mean_n, daily_ic_median.max(), daily_ic_median_n] + ic,\n",
    "                            index=metric_cols)\n",
    "        msg = f'\\t{p:3.0f} | {format_time(T)} ({t:3.0f}) | {params[\"learning_rate\"]:5.2f} | '\n",
    "        msg += f'{params[\"num_leaves\"]:3.0f} | {params[\"feature_fraction\"]:3.0%} | {params[\"min_data_in_leaf\"]:4.0f} | '\n",
    "        msg += f' {max(ic):6.2%} | {ic_by_day.mean().max(): 6.2%} | {daily_ic_mean_n: 4.0f} | {ic_by_day.median().max(): 6.2%} | {daily_ic_median_n: 4.0f}'\n",
    "        print(msg)\n",
    "\n",
    "        # persist results for given CV run and hyperparameter combination\n",
    "        metrics.to_hdf(lgb_store, 'metrics/' + key)\n",
    "        ic_by_day.assign(**params).to_hdf(lgb_store, 'daily_ic/' + key)\n",
    "        fi.T.describe().T.assign(**params).to_hdf(lgb_store, 'fi/' + key)\n",
    "        cv_preds.to_hdf(lgb_store, 'predictions/' + key)"
   ]
  },
  {
   "cell_type": "code",
   "execution_count": null,
   "id": "0cf45ded-0bba-4e92-a2d9-1b720cc39a89",
   "metadata": {},
   "outputs": [],
   "source": []
  }
 ],
 "metadata": {
  "kernelspec": {
   "display_name": "Python 3 (ipykernel)",
   "language": "python",
   "name": "python3"
  },
  "language_info": {
   "codemirror_mode": {
    "name": "ipython",
    "version": 3
   },
   "file_extension": ".py",
   "mimetype": "text/x-python",
   "name": "python",
   "nbconvert_exporter": "python",
   "pygments_lexer": "ipython3",
   "version": "3.8.10"
  }
 },
 "nbformat": 4,
 "nbformat_minor": 5
}

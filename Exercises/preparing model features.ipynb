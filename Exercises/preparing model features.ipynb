{
 "cells": [
  {
   "cell_type": "code",
   "execution_count": 1,
   "id": "f0b9260a-a7fc-423f-89c6-3679646144af",
   "metadata": {
    "tags": []
   },
   "outputs": [],
   "source": [
    "import warnings\n",
    "warnings.filterwarnings('ignore')"
   ]
  },
  {
   "cell_type": "code",
   "execution_count": 2,
   "id": "7b02e8fd-a033-45ea-9ddf-ef7fc2010f4c",
   "metadata": {
    "tags": []
   },
   "outputs": [],
   "source": [
    "%matplotlib inline\n",
    "\n",
    "import numpy as np\n",
    "import pandas as pd\n",
    "\n",
    "import matplotlib.pyplot as plt\n",
    "import seaborn as sns\n",
    "\n",
    "from scipy.stats import pearsonr, spearmanr\n",
    "from talib import RSI, BBANDS, MACD, ATR"
   ]
  },
  {
   "cell_type": "code",
   "execution_count": 3,
   "id": "4164a092-69bc-4935-a079-62e93216bf5d",
   "metadata": {
    "tags": []
   },
   "outputs": [],
   "source": [
    "MONTH = 21 # trading day in a month\n",
    "YEAR = 12 * MONTH\n",
    "START = '2013-01-01'\n",
    "END = '2017-12-31'\n",
    "sns.set_style('whitegrid')\n",
    "idx = pd.IndexSlice"
   ]
  },
  {
   "cell_type": "code",
   "execution_count": 4,
   "id": "29522ab7-8f0b-4f5e-b182-c80c9a9a695f",
   "metadata": {
    "tags": []
   },
   "outputs": [],
   "source": [
    "ohlcv = ['adj_open', 'adj_close', 'adj_low', 'adj_high', 'adj_volume']"
   ]
  },
  {
   "cell_type": "code",
   "execution_count": 5,
   "id": "9319307f-eb8a-46c4-9bbd-032b45c40d72",
   "metadata": {
    "tags": []
   },
   "outputs": [],
   "source": [
    "DATA_STORE = '../data/assets.h5'"
   ]
  },
  {
   "cell_type": "code",
   "execution_count": 6,
   "id": "2b158ce1-f8c2-4083-86a0-a882ea928878",
   "metadata": {
    "tags": []
   },
   "outputs": [],
   "source": [
    "with pd.HDFStore(DATA_STORE) as store:\n",
    "    prices = (store['quandl/wiki/prices']\n",
    "              .loc[idx[START:END, :], ohlcv]\n",
    "              .rename(columns=lambda x: x.replace('adj_', ''))\n",
    "              .assign(volume=lambda x: x.volume.div(1000))\n",
    "              .swaplevel()\n",
    "              .sort_index())\n",
    "\n",
    "    stocks = (store['us_equities/stocks']\n",
    "              .loc[:, ['marketcap', 'ipoyear', 'sector']])"
   ]
  },
  {
   "cell_type": "code",
   "execution_count": 7,
   "id": "6b3b70e6-2cdd-4919-8269-37e7c8735a7d",
   "metadata": {
    "tags": []
   },
   "outputs": [],
   "source": [
    "# want at least 2 years of data\n",
    "min_obs = 2 * YEAR"
   ]
  },
  {
   "cell_type": "code",
   "execution_count": 8,
   "id": "eb73f289-a9ea-4756-a3d8-551bfbdab314",
   "metadata": {
    "tags": []
   },
   "outputs": [],
   "source": [
    "# number of daily price per ticker\n",
    "nobs = prices.groupby(level='ticker').size()"
   ]
  },
  {
   "cell_type": "code",
   "execution_count": 9,
   "id": "3271dbcc-c5a9-4c5a-b81e-28ec06140332",
   "metadata": {
    "tags": []
   },
   "outputs": [],
   "source": [
    "# keep those tickers that have at least 2 years of data\n",
    "keep = nobs[nobs > min_obs].index"
   ]
  },
  {
   "cell_type": "code",
   "execution_count": 10,
   "id": "b8c9947b-8bd3-4374-a27f-33d0e336fcbd",
   "metadata": {
    "tags": []
   },
   "outputs": [],
   "source": [
    "prices = prices.loc[idx[keep, :], :]"
   ]
  },
  {
   "cell_type": "code",
   "execution_count": 11,
   "id": "f0de5d55-47e6-415e-9291-0e6769dbd8a3",
   "metadata": {
    "tags": []
   },
   "outputs": [],
   "source": [
    "stocks = stocks[~stocks.index.duplicated() & stocks.sector.notnull()]"
   ]
  },
  {
   "cell_type": "code",
   "execution_count": 12,
   "id": "96becef1-ce33-4f8a-aadd-26a46373b708",
   "metadata": {
    "tags": []
   },
   "outputs": [],
   "source": [
    "stocks.sector = stocks.sector.str.lower().str.replace(' ', '_')"
   ]
  },
  {
   "cell_type": "code",
   "execution_count": 13,
   "id": "dbc518bc-19c7-4205-a8fc-0f0da72bafe7",
   "metadata": {
    "tags": []
   },
   "outputs": [],
   "source": [
    "shared = prices.index.get_level_values('ticker').unique().intersection(stocks.index)"
   ]
  },
  {
   "cell_type": "code",
   "execution_count": 14,
   "id": "e140fc04-856c-40a6-a243-e0408fb1e60f",
   "metadata": {
    "tags": []
   },
   "outputs": [],
   "source": [
    "stocks = stocks.loc[shared,:]\n",
    "prices = prices.loc[idx[shared, :], :]"
   ]
  },
  {
   "cell_type": "code",
   "execution_count": 15,
   "id": "c193a5e9-c3fb-493c-a506-940cf77d548a",
   "metadata": {
    "tags": []
   },
   "outputs": [
    {
     "data": {
      "text/plain": [
       "consumer_services        440\n",
       "finance                  393\n",
       "technology               297\n",
       "health_care              297\n",
       "capital_goods            227\n",
       "basic_industries         138\n",
       "consumer_non-durables    126\n",
       "energy                   123\n",
       "public_utilities         105\n",
       "consumer_durables         78\n",
       "miscellaneous             69\n",
       "transportation            55\n",
       "Name: sector, dtype: int64"
      ]
     },
     "execution_count": 15,
     "metadata": {},
     "output_type": "execute_result"
    }
   ],
   "source": [
    "stocks.sector.value_counts()"
   ]
  },
  {
   "cell_type": "code",
   "execution_count": 16,
   "id": "9dfabc87-21ee-4097-a3aa-9f51bdd8ff27",
   "metadata": {
    "tags": []
   },
   "outputs": [],
   "source": [
    "# use 21-day rolling average of the adjusted dollar volume traded to select the most liquid stocks for the model\n",
    "# excluding stocks with low dollar volumes can also reduce the noise of price data\n",
    "prices['dollar_vol'] = prices.close * prices.volume"
   ]
  },
  {
   "cell_type": "code",
   "execution_count": 17,
   "id": "59f194b8-4747-4422-81d1-48b038049aa9",
   "metadata": {
    "tags": []
   },
   "outputs": [],
   "source": [
    "prices['dollar_vol_1m'] = prices.dollar_vol.groupby('ticker').rolling(window=21).mean().values"
   ]
  },
  {
   "cell_type": "code",
   "execution_count": 18,
   "id": "0da3c1c8-a458-473b-9b21-14e5e06dbc40",
   "metadata": {
    "tags": []
   },
   "outputs": [],
   "source": [
    "prices['dollar_vol_rank'] = prices.groupby('date').dollar_vol_1m.rank(ascending=False)"
   ]
  },
  {
   "cell_type": "code",
   "execution_count": 33,
   "id": "53bd3475-eb60-4907-963c-7b4dbd2927da",
   "metadata": {
    "tags": []
   },
   "outputs": [
    {
     "data": {
      "text/html": [
       "<div>\n",
       "<style scoped>\n",
       "    .dataframe tbody tr th:only-of-type {\n",
       "        vertical-align: middle;\n",
       "    }\n",
       "\n",
       "    .dataframe tbody tr th {\n",
       "        vertical-align: top;\n",
       "    }\n",
       "\n",
       "    .dataframe thead th {\n",
       "        text-align: right;\n",
       "    }\n",
       "</style>\n",
       "<table border=\"1\" class=\"dataframe\">\n",
       "  <thead>\n",
       "    <tr style=\"text-align: right;\">\n",
       "      <th></th>\n",
       "      <th></th>\n",
       "      <th>open</th>\n",
       "      <th>close</th>\n",
       "      <th>low</th>\n",
       "      <th>high</th>\n",
       "      <th>volume</th>\n",
       "      <th>dollar_vol</th>\n",
       "      <th>dollar_vol_1m</th>\n",
       "      <th>dollar_vol_rank</th>\n",
       "      <th>rsi</th>\n",
       "      <th>bb_high</th>\n",
       "      <th>bb_low</th>\n",
       "      <th>atr</th>\n",
       "    </tr>\n",
       "    <tr>\n",
       "      <th>ticker</th>\n",
       "      <th>date</th>\n",
       "      <th></th>\n",
       "      <th></th>\n",
       "      <th></th>\n",
       "      <th></th>\n",
       "      <th></th>\n",
       "      <th></th>\n",
       "      <th></th>\n",
       "      <th></th>\n",
       "      <th></th>\n",
       "      <th></th>\n",
       "      <th></th>\n",
       "      <th></th>\n",
       "    </tr>\n",
       "  </thead>\n",
       "  <tbody>\n",
       "    <tr>\n",
       "      <th rowspan=\"5\" valign=\"top\">A</th>\n",
       "      <th>2013-01-02</th>\n",
       "      <td>29.054711</td>\n",
       "      <td>28.854904</td>\n",
       "      <td>28.351942</td>\n",
       "      <td>29.054711</td>\n",
       "      <td>6287.700</td>\n",
       "      <td>181430.981611</td>\n",
       "      <td>NaN</td>\n",
       "      <td>NaN</td>\n",
       "      <td>NaN</td>\n",
       "      <td>NaN</td>\n",
       "      <td>NaN</td>\n",
       "      <td>NaN</td>\n",
       "    </tr>\n",
       "    <tr>\n",
       "      <th>2013-01-03</th>\n",
       "      <td>28.896244</td>\n",
       "      <td>28.958253</td>\n",
       "      <td>28.648276</td>\n",
       "      <td>29.034042</td>\n",
       "      <td>4114.300</td>\n",
       "      <td>119142.939438</td>\n",
       "      <td>NaN</td>\n",
       "      <td>NaN</td>\n",
       "      <td>NaN</td>\n",
       "      <td>NaN</td>\n",
       "      <td>NaN</td>\n",
       "      <td>NaN</td>\n",
       "    </tr>\n",
       "    <tr>\n",
       "      <th>2013-01-04</th>\n",
       "      <td>29.034042</td>\n",
       "      <td>29.530115</td>\n",
       "      <td>28.841124</td>\n",
       "      <td>29.592124</td>\n",
       "      <td>4601.500</td>\n",
       "      <td>135882.822089</td>\n",
       "      <td>NaN</td>\n",
       "      <td>NaN</td>\n",
       "      <td>NaN</td>\n",
       "      <td>NaN</td>\n",
       "      <td>NaN</td>\n",
       "      <td>NaN</td>\n",
       "    </tr>\n",
       "    <tr>\n",
       "      <th>2013-01-07</th>\n",
       "      <td>29.350977</td>\n",
       "      <td>29.316528</td>\n",
       "      <td>29.199399</td>\n",
       "      <td>29.488775</td>\n",
       "      <td>2567.600</td>\n",
       "      <td>75273.116328</td>\n",
       "      <td>NaN</td>\n",
       "      <td>NaN</td>\n",
       "      <td>NaN</td>\n",
       "      <td>NaN</td>\n",
       "      <td>NaN</td>\n",
       "      <td>NaN</td>\n",
       "    </tr>\n",
       "    <tr>\n",
       "      <th>2013-01-08</th>\n",
       "      <td>29.261408</td>\n",
       "      <td>29.082271</td>\n",
       "      <td>29.006482</td>\n",
       "      <td>29.474995</td>\n",
       "      <td>2787.500</td>\n",
       "      <td>81066.830411</td>\n",
       "      <td>NaN</td>\n",
       "      <td>NaN</td>\n",
       "      <td>NaN</td>\n",
       "      <td>NaN</td>\n",
       "      <td>NaN</td>\n",
       "      <td>NaN</td>\n",
       "    </tr>\n",
       "    <tr>\n",
       "      <th>...</th>\n",
       "      <th>...</th>\n",
       "      <td>...</td>\n",
       "      <td>...</td>\n",
       "      <td>...</td>\n",
       "      <td>...</td>\n",
       "      <td>...</td>\n",
       "      <td>...</td>\n",
       "      <td>...</td>\n",
       "      <td>...</td>\n",
       "      <td>...</td>\n",
       "      <td>...</td>\n",
       "      <td>...</td>\n",
       "      <td>...</td>\n",
       "    </tr>\n",
       "    <tr>\n",
       "      <th rowspan=\"5\" valign=\"top\">ZUMZ</th>\n",
       "      <th>2017-12-22</th>\n",
       "      <td>21.550000</td>\n",
       "      <td>21.450000</td>\n",
       "      <td>21.300000</td>\n",
       "      <td>21.700000</td>\n",
       "      <td>209.585</td>\n",
       "      <td>4495.598250</td>\n",
       "      <td>11930.001226</td>\n",
       "      <td>1288.0</td>\n",
       "      <td>61.077094</td>\n",
       "      <td>0.028426</td>\n",
       "      <td>0.086877</td>\n",
       "      <td>-0.419131</td>\n",
       "    </tr>\n",
       "    <tr>\n",
       "      <th>2017-12-26</th>\n",
       "      <td>21.450000</td>\n",
       "      <td>21.850000</td>\n",
       "      <td>21.450000</td>\n",
       "      <td>22.200000</td>\n",
       "      <td>213.951</td>\n",
       "      <td>4674.829350</td>\n",
       "      <td>11963.373076</td>\n",
       "      <td>1291.0</td>\n",
       "      <td>63.799097</td>\n",
       "      <td>0.010058</td>\n",
       "      <td>0.090436</td>\n",
       "      <td>-0.450751</td>\n",
       "    </tr>\n",
       "    <tr>\n",
       "      <th>2017-12-27</th>\n",
       "      <td>21.800000</td>\n",
       "      <td>21.150000</td>\n",
       "      <td>20.950000</td>\n",
       "      <td>22.250000</td>\n",
       "      <td>227.325</td>\n",
       "      <td>4807.923750</td>\n",
       "      <td>11786.938512</td>\n",
       "      <td>1293.0</td>\n",
       "      <td>56.369727</td>\n",
       "      <td>0.040577</td>\n",
       "      <td>0.057586</td>\n",
       "      <td>-0.282948</td>\n",
       "    </tr>\n",
       "    <tr>\n",
       "      <th>2017-12-28</th>\n",
       "      <td>21.200000</td>\n",
       "      <td>21.200000</td>\n",
       "      <td>21.050000</td>\n",
       "      <td>21.450000</td>\n",
       "      <td>162.070</td>\n",
       "      <td>3435.884000</td>\n",
       "      <td>11290.208650</td>\n",
       "      <td>1300.0</td>\n",
       "      <td>56.757082</td>\n",
       "      <td>0.039229</td>\n",
       "      <td>0.059005</td>\n",
       "      <td>-0.449763</td>\n",
       "    </tr>\n",
       "    <tr>\n",
       "      <th>2017-12-29</th>\n",
       "      <td>21.250000</td>\n",
       "      <td>20.825000</td>\n",
       "      <td>20.800000</td>\n",
       "      <td>21.450000</td>\n",
       "      <td>222.040</td>\n",
       "      <td>4623.983000</td>\n",
       "      <td>10790.612631</td>\n",
       "      <td>1312.0</td>\n",
       "      <td>52.959469</td>\n",
       "      <td>0.050887</td>\n",
       "      <td>0.042288</td>\n",
       "      <td>-0.515043</td>\n",
       "    </tr>\n",
       "  </tbody>\n",
       "</table>\n",
       "<p>2904233 rows × 12 columns</p>\n",
       "</div>"
      ],
      "text/plain": [
       "                        open      close        low       high    volume  \\\n",
       "ticker date                                                               \n",
       "A      2013-01-02  29.054711  28.854904  28.351942  29.054711  6287.700   \n",
       "       2013-01-03  28.896244  28.958253  28.648276  29.034042  4114.300   \n",
       "       2013-01-04  29.034042  29.530115  28.841124  29.592124  4601.500   \n",
       "       2013-01-07  29.350977  29.316528  29.199399  29.488775  2567.600   \n",
       "       2013-01-08  29.261408  29.082271  29.006482  29.474995  2787.500   \n",
       "...                      ...        ...        ...        ...       ...   \n",
       "ZUMZ   2017-12-22  21.550000  21.450000  21.300000  21.700000   209.585   \n",
       "       2017-12-26  21.450000  21.850000  21.450000  22.200000   213.951   \n",
       "       2017-12-27  21.800000  21.150000  20.950000  22.250000   227.325   \n",
       "       2017-12-28  21.200000  21.200000  21.050000  21.450000   162.070   \n",
       "       2017-12-29  21.250000  20.825000  20.800000  21.450000   222.040   \n",
       "\n",
       "                      dollar_vol  dollar_vol_1m  dollar_vol_rank        rsi  \\\n",
       "ticker date                                                                   \n",
       "A      2013-01-02  181430.981611            NaN              NaN        NaN   \n",
       "       2013-01-03  119142.939438            NaN              NaN        NaN   \n",
       "       2013-01-04  135882.822089            NaN              NaN        NaN   \n",
       "       2013-01-07   75273.116328            NaN              NaN        NaN   \n",
       "       2013-01-08   81066.830411            NaN              NaN        NaN   \n",
       "...                          ...            ...              ...        ...   \n",
       "ZUMZ   2017-12-22    4495.598250   11930.001226           1288.0  61.077094   \n",
       "       2017-12-26    4674.829350   11963.373076           1291.0  63.799097   \n",
       "       2017-12-27    4807.923750   11786.938512           1293.0  56.369727   \n",
       "       2017-12-28    3435.884000   11290.208650           1300.0  56.757082   \n",
       "       2017-12-29    4623.983000   10790.612631           1312.0  52.959469   \n",
       "\n",
       "                    bb_high    bb_low       atr  \n",
       "ticker date                                      \n",
       "A      2013-01-02       NaN       NaN       NaN  \n",
       "       2013-01-03       NaN       NaN       NaN  \n",
       "       2013-01-04       NaN       NaN       NaN  \n",
       "       2013-01-07       NaN       NaN       NaN  \n",
       "       2013-01-08       NaN       NaN       NaN  \n",
       "...                     ...       ...       ...  \n",
       "ZUMZ   2017-12-22  0.028426  0.086877 -0.419131  \n",
       "       2017-12-26  0.010058  0.090436 -0.450751  \n",
       "       2017-12-27  0.040577  0.057586 -0.282948  \n",
       "       2017-12-28  0.039229  0.059005 -0.449763  \n",
       "       2017-12-29  0.050887  0.042288 -0.515043  \n",
       "\n",
       "[2904233 rows x 12 columns]"
      ]
     },
     "execution_count": 33,
     "metadata": {},
     "output_type": "execute_result"
    }
   ],
   "source": [
    "prices"
   ]
  },
  {
   "cell_type": "code",
   "execution_count": 20,
   "id": "4cde05e9-e377-4df7-b233-f9e64fc7c36a",
   "metadata": {
    "tags": []
   },
   "outputs": [],
   "source": [
    "prices['rsi'] = prices.groupby(level='ticker').close.apply(RSI)"
   ]
  },
  {
   "cell_type": "code",
   "execution_count": 21,
   "id": "887e0fed-18e9-4e91-8f47-f827c29d3eeb",
   "metadata": {
    "tags": []
   },
   "outputs": [
    {
     "data": {
      "image/png": "[encoded data removed]",
      "text/plain": [
       "<Figure size 640x480 with 1 Axes>"
      ]
     },
     "metadata": {},
     "output_type": "display_data"
    }
   ],
   "source": [
    "ax = sns.distplot(prices.rsi.dropna())\n",
    "ax.axvline(30, ls='--', lw=1, c='k')\n",
    "ax.axvline(70, ls='--', lw=1, c='k')\n",
    "ax.set_title('RSI Distribution with Signal Threshold')\n",
    "plt.tight_layout();"
   ]
  },
  {
   "cell_type": "code",
   "execution_count": 22,
   "id": "db3e6fbf-af79-44b9-8066-b8aa34268457",
   "metadata": {
    "tags": []
   },
   "outputs": [],
   "source": [
    "def compute_bb(close):\n",
    "    high, mid, low = BBANDS(close, timeperiod=20)\n",
    "    return pd.DataFrame({'bb_high': high, 'bb_low': low}, index=close.index)"
   ]
  },
  {
   "cell_type": "code",
   "execution_count": 23,
   "id": "de4868ca-28c6-4d9a-aaf7-42b9e63b7110",
   "metadata": {
    "tags": []
   },
   "outputs": [],
   "source": [
    "prices = (prices.join(prices\n",
    "                      .groupby(level='ticker')\n",
    "                      .close\n",
    "                      .apply(compute_bb)))"
   ]
  },
  {
   "cell_type": "code",
   "execution_count": 24,
   "id": "b2ada7fd-8efe-41b5-bb31-35d7ade354dc",
   "metadata": {
    "tags": []
   },
   "outputs": [],
   "source": [
    "prices['bb_high'] = prices.bb_high.sub(prices.close).div(prices.bb_high).apply(np.log1p)\n",
    "prices['bb_low'] = prices.close.sub(prices.bb_low).div(prices.close).apply(np.log1p)"
   ]
  },
  {
   "cell_type": "code",
   "execution_count": 25,
   "id": "6d6d5cb4-86ed-4e74-8e96-049354b725dc",
   "metadata": {
    "tags": []
   },
   "outputs": [
    {
     "data": {
      "text/html": [
       "<div>\n",
       "<style scoped>\n",
       "    .dataframe tbody tr th:only-of-type {\n",
       "        vertical-align: middle;\n",
       "    }\n",
       "\n",
       "    .dataframe tbody tr th {\n",
       "        vertical-align: top;\n",
       "    }\n",
       "\n",
       "    .dataframe thead th {\n",
       "        text-align: right;\n",
       "    }\n",
       "</style>\n",
       "<table border=\"1\" class=\"dataframe\">\n",
       "  <thead>\n",
       "    <tr style=\"text-align: right;\">\n",
       "      <th></th>\n",
       "      <th></th>\n",
       "      <th>open</th>\n",
       "      <th>close</th>\n",
       "      <th>low</th>\n",
       "      <th>high</th>\n",
       "      <th>volume</th>\n",
       "      <th>dollar_vol</th>\n",
       "      <th>dollar_vol_1m</th>\n",
       "      <th>dollar_vol_rank</th>\n",
       "      <th>rsi</th>\n",
       "      <th>bb_high</th>\n",
       "      <th>bb_low</th>\n",
       "    </tr>\n",
       "    <tr>\n",
       "      <th>ticker</th>\n",
       "      <th>date</th>\n",
       "      <th></th>\n",
       "      <th></th>\n",
       "      <th></th>\n",
       "      <th></th>\n",
       "      <th></th>\n",
       "      <th></th>\n",
       "      <th></th>\n",
       "      <th></th>\n",
       "      <th></th>\n",
       "      <th></th>\n",
       "      <th></th>\n",
       "    </tr>\n",
       "  </thead>\n",
       "  <tbody>\n",
       "    <tr>\n",
       "      <th rowspan=\"5\" valign=\"top\">A</th>\n",
       "      <th>2013-01-02</th>\n",
       "      <td>29.054711</td>\n",
       "      <td>28.854904</td>\n",
       "      <td>28.351942</td>\n",
       "      <td>29.054711</td>\n",
       "      <td>6287.700</td>\n",
       "      <td>181430.981611</td>\n",
       "      <td>NaN</td>\n",
       "      <td>NaN</td>\n",
       "      <td>NaN</td>\n",
       "      <td>NaN</td>\n",
       "      <td>NaN</td>\n",
       "    </tr>\n",
       "    <tr>\n",
       "      <th>2013-01-03</th>\n",
       "      <td>28.896244</td>\n",
       "      <td>28.958253</td>\n",
       "      <td>28.648276</td>\n",
       "      <td>29.034042</td>\n",
       "      <td>4114.300</td>\n",
       "      <td>119142.939438</td>\n",
       "      <td>NaN</td>\n",
       "      <td>NaN</td>\n",
       "      <td>NaN</td>\n",
       "      <td>NaN</td>\n",
       "      <td>NaN</td>\n",
       "    </tr>\n",
       "    <tr>\n",
       "      <th>2013-01-04</th>\n",
       "      <td>29.034042</td>\n",
       "      <td>29.530115</td>\n",
       "      <td>28.841124</td>\n",
       "      <td>29.592124</td>\n",
       "      <td>4601.500</td>\n",
       "      <td>135882.822089</td>\n",
       "      <td>NaN</td>\n",
       "      <td>NaN</td>\n",
       "      <td>NaN</td>\n",
       "      <td>NaN</td>\n",
       "      <td>NaN</td>\n",
       "    </tr>\n",
       "    <tr>\n",
       "      <th>2013-01-07</th>\n",
       "      <td>29.350977</td>\n",
       "      <td>29.316528</td>\n",
       "      <td>29.199399</td>\n",
       "      <td>29.488775</td>\n",
       "      <td>2567.600</td>\n",
       "      <td>75273.116328</td>\n",
       "      <td>NaN</td>\n",
       "      <td>NaN</td>\n",
       "      <td>NaN</td>\n",
       "      <td>NaN</td>\n",
       "      <td>NaN</td>\n",
       "    </tr>\n",
       "    <tr>\n",
       "      <th>2013-01-08</th>\n",
       "      <td>29.261408</td>\n",
       "      <td>29.082271</td>\n",
       "      <td>29.006482</td>\n",
       "      <td>29.474995</td>\n",
       "      <td>2787.500</td>\n",
       "      <td>81066.830411</td>\n",
       "      <td>NaN</td>\n",
       "      <td>NaN</td>\n",
       "      <td>NaN</td>\n",
       "      <td>NaN</td>\n",
       "      <td>NaN</td>\n",
       "    </tr>\n",
       "    <tr>\n",
       "      <th>...</th>\n",
       "      <th>...</th>\n",
       "      <td>...</td>\n",
       "      <td>...</td>\n",
       "      <td>...</td>\n",
       "      <td>...</td>\n",
       "      <td>...</td>\n",
       "      <td>...</td>\n",
       "      <td>...</td>\n",
       "      <td>...</td>\n",
       "      <td>...</td>\n",
       "      <td>...</td>\n",
       "      <td>...</td>\n",
       "    </tr>\n",
       "    <tr>\n",
       "      <th rowspan=\"5\" valign=\"top\">ZUMZ</th>\n",
       "      <th>2017-12-22</th>\n",
       "      <td>21.550000</td>\n",
       "      <td>21.450000</td>\n",
       "      <td>21.300000</td>\n",
       "      <td>21.700000</td>\n",
       "      <td>209.585</td>\n",
       "      <td>4495.598250</td>\n",
       "      <td>11930.001226</td>\n",
       "      <td>1288.0</td>\n",
       "      <td>61.077094</td>\n",
       "      <td>0.028426</td>\n",
       "      <td>0.086877</td>\n",
       "    </tr>\n",
       "    <tr>\n",
       "      <th>2017-12-26</th>\n",
       "      <td>21.450000</td>\n",
       "      <td>21.850000</td>\n",
       "      <td>21.450000</td>\n",
       "      <td>22.200000</td>\n",
       "      <td>213.951</td>\n",
       "      <td>4674.829350</td>\n",
       "      <td>11963.373076</td>\n",
       "      <td>1291.0</td>\n",
       "      <td>63.799097</td>\n",
       "      <td>0.010058</td>\n",
       "      <td>0.090436</td>\n",
       "    </tr>\n",
       "    <tr>\n",
       "      <th>2017-12-27</th>\n",
       "      <td>21.800000</td>\n",
       "      <td>21.150000</td>\n",
       "      <td>20.950000</td>\n",
       "      <td>22.250000</td>\n",
       "      <td>227.325</td>\n",
       "      <td>4807.923750</td>\n",
       "      <td>11786.938512</td>\n",
       "      <td>1293.0</td>\n",
       "      <td>56.369727</td>\n",
       "      <td>0.040577</td>\n",
       "      <td>0.057586</td>\n",
       "    </tr>\n",
       "    <tr>\n",
       "      <th>2017-12-28</th>\n",
       "      <td>21.200000</td>\n",
       "      <td>21.200000</td>\n",
       "      <td>21.050000</td>\n",
       "      <td>21.450000</td>\n",
       "      <td>162.070</td>\n",
       "      <td>3435.884000</td>\n",
       "      <td>11290.208650</td>\n",
       "      <td>1300.0</td>\n",
       "      <td>56.757082</td>\n",
       "      <td>0.039229</td>\n",
       "      <td>0.059005</td>\n",
       "    </tr>\n",
       "    <tr>\n",
       "      <th>2017-12-29</th>\n",
       "      <td>21.250000</td>\n",
       "      <td>20.825000</td>\n",
       "      <td>20.800000</td>\n",
       "      <td>21.450000</td>\n",
       "      <td>222.040</td>\n",
       "      <td>4623.983000</td>\n",
       "      <td>10790.612631</td>\n",
       "      <td>1312.0</td>\n",
       "      <td>52.959469</td>\n",
       "      <td>0.050887</td>\n",
       "      <td>0.042288</td>\n",
       "    </tr>\n",
       "  </tbody>\n",
       "</table>\n",
       "<p>2904233 rows × 11 columns</p>\n",
       "</div>"
      ],
      "text/plain": [
       "                        open      close        low       high    volume  \\\n",
       "ticker date                                                               \n",
       "A      2013-01-02  29.054711  28.854904  28.351942  29.054711  6287.700   \n",
       "       2013-01-03  28.896244  28.958253  28.648276  29.034042  4114.300   \n",
       "       2013-01-04  29.034042  29.530115  28.841124  29.592124  4601.500   \n",
       "       2013-01-07  29.350977  29.316528  29.199399  29.488775  2567.600   \n",
       "       2013-01-08  29.261408  29.082271  29.006482  29.474995  2787.500   \n",
       "...                      ...        ...        ...        ...       ...   \n",
       "ZUMZ   2017-12-22  21.550000  21.450000  21.300000  21.700000   209.585   \n",
       "       2017-12-26  21.450000  21.850000  21.450000  22.200000   213.951   \n",
       "       2017-12-27  21.800000  21.150000  20.950000  22.250000   227.325   \n",
       "       2017-12-28  21.200000  21.200000  21.050000  21.450000   162.070   \n",
       "       2017-12-29  21.250000  20.825000  20.800000  21.450000   222.040   \n",
       "\n",
       "                      dollar_vol  dollar_vol_1m  dollar_vol_rank        rsi  \\\n",
       "ticker date                                                                   \n",
       "A      2013-01-02  181430.981611            NaN              NaN        NaN   \n",
       "       2013-01-03  119142.939438            NaN              NaN        NaN   \n",
       "       2013-01-04  135882.822089            NaN              NaN        NaN   \n",
       "       2013-01-07   75273.116328            NaN              NaN        NaN   \n",
       "       2013-01-08   81066.830411            NaN              NaN        NaN   \n",
       "...                          ...            ...              ...        ...   \n",
       "ZUMZ   2017-12-22    4495.598250   11930.001226           1288.0  61.077094   \n",
       "       2017-12-26    4674.829350   11963.373076           1291.0  63.799097   \n",
       "       2017-12-27    4807.923750   11786.938512           1293.0  56.369727   \n",
       "       2017-12-28    3435.884000   11290.208650           1300.0  56.757082   \n",
       "       2017-12-29    4623.983000   10790.612631           1312.0  52.959469   \n",
       "\n",
       "                    bb_high    bb_low  \n",
       "ticker date                            \n",
       "A      2013-01-02       NaN       NaN  \n",
       "       2013-01-03       NaN       NaN  \n",
       "       2013-01-04       NaN       NaN  \n",
       "       2013-01-07       NaN       NaN  \n",
       "       2013-01-08       NaN       NaN  \n",
       "...                     ...       ...  \n",
       "ZUMZ   2017-12-22  0.028426  0.086877  \n",
       "       2017-12-26  0.010058  0.090436  \n",
       "       2017-12-27  0.040577  0.057586  \n",
       "       2017-12-28  0.039229  0.059005  \n",
       "       2017-12-29  0.050887  0.042288  \n",
       "\n",
       "[2904233 rows x 11 columns]"
      ]
     },
     "execution_count": 25,
     "metadata": {},
     "output_type": "execute_result"
    }
   ],
   "source": [
    "prices"
   ]
  },
  {
   "cell_type": "code",
   "execution_count": 26,
   "id": "844b1022-68a9-4826-9a06-865637a07b13",
   "metadata": {
    "tags": []
   },
   "outputs": [
    {
     "data": {
      "image/png": "[encoded data removed]",
      "text/plain": [
       "<Figure size 1500x500 with 2 Axes>"
      ]
     },
     "metadata": {},
     "output_type": "display_data"
    }
   ],
   "source": [
    "fig, axes = plt.subplots(ncols=2, figsize=(15, 5))\n",
    "sns.distplot(prices.loc[prices.dollar_vol_rank<100, 'bb_low'].dropna(), ax=axes[0])\n",
    "sns.distplot(prices.loc[prices.dollar_vol_rank<100, 'bb_high'].dropna(), ax=axes[1])\n",
    "plt.tight_layout();"
   ]
  },
  {
   "cell_type": "code",
   "execution_count": 27,
   "id": "0b04b3ad-f818-4386-b8b0-895d2dc0167c",
   "metadata": {
    "tags": []
   },
   "outputs": [],
   "source": [
    "def compute_atr(stock_data):\n",
    "    df = ATR(stock_data.high, stock_data.low, stock_data.close, timeperiod=14)\n",
    "    return (df-df.mean())/df.std()"
   ]
  },
  {
   "cell_type": "code",
   "execution_count": 28,
   "id": "9eb57484-ed94-4280-98b0-ee4bbdd7866e",
   "metadata": {
    "tags": []
   },
   "outputs": [],
   "source": [
    "prices['atr'] = prices.groupby('ticker', group_keys=False).apply(compute_atr)"
   ]
  },
  {
   "cell_type": "code",
   "execution_count": 29,
   "id": "8e0c9108-ebf0-493f-a2dc-b50dad265816",
   "metadata": {
    "tags": []
   },
   "outputs": [
    {
     "data": {
      "text/html": [
       "<div>\n",
       "<style scoped>\n",
       "    .dataframe tbody tr th:only-of-type {\n",
       "        vertical-align: middle;\n",
       "    }\n",
       "\n",
       "    .dataframe tbody tr th {\n",
       "        vertical-align: top;\n",
       "    }\n",
       "\n",
       "    .dataframe thead th {\n",
       "        text-align: right;\n",
       "    }\n",
       "</style>\n",
       "<table border=\"1\" class=\"dataframe\">\n",
       "  <thead>\n",
       "    <tr style=\"text-align: right;\">\n",
       "      <th></th>\n",
       "      <th></th>\n",
       "      <th>open</th>\n",
       "      <th>close</th>\n",
       "      <th>low</th>\n",
       "      <th>high</th>\n",
       "      <th>volume</th>\n",
       "      <th>dollar_vol</th>\n",
       "      <th>dollar_vol_1m</th>\n",
       "      <th>dollar_vol_rank</th>\n",
       "      <th>rsi</th>\n",
       "      <th>bb_high</th>\n",
       "      <th>bb_low</th>\n",
       "      <th>atr</th>\n",
       "    </tr>\n",
       "    <tr>\n",
       "      <th>ticker</th>\n",
       "      <th>date</th>\n",
       "      <th></th>\n",
       "      <th></th>\n",
       "      <th></th>\n",
       "      <th></th>\n",
       "      <th></th>\n",
       "      <th></th>\n",
       "      <th></th>\n",
       "      <th></th>\n",
       "      <th></th>\n",
       "      <th></th>\n",
       "      <th></th>\n",
       "      <th></th>\n",
       "    </tr>\n",
       "  </thead>\n",
       "  <tbody>\n",
       "    <tr>\n",
       "      <th rowspan=\"5\" valign=\"top\">A</th>\n",
       "      <th>2013-01-02</th>\n",
       "      <td>29.054711</td>\n",
       "      <td>28.854904</td>\n",
       "      <td>28.351942</td>\n",
       "      <td>29.054711</td>\n",
       "      <td>6287.700</td>\n",
       "      <td>181430.981611</td>\n",
       "      <td>NaN</td>\n",
       "      <td>NaN</td>\n",
       "      <td>NaN</td>\n",
       "      <td>NaN</td>\n",
       "      <td>NaN</td>\n",
       "      <td>NaN</td>\n",
       "    </tr>\n",
       "    <tr>\n",
       "      <th>2013-01-03</th>\n",
       "      <td>28.896244</td>\n",
       "      <td>28.958253</td>\n",
       "      <td>28.648276</td>\n",
       "      <td>29.034042</td>\n",
       "      <td>4114.300</td>\n",
       "      <td>119142.939438</td>\n",
       "      <td>NaN</td>\n",
       "      <td>NaN</td>\n",
       "      <td>NaN</td>\n",
       "      <td>NaN</td>\n",
       "      <td>NaN</td>\n",
       "      <td>NaN</td>\n",
       "    </tr>\n",
       "    <tr>\n",
       "      <th>2013-01-04</th>\n",
       "      <td>29.034042</td>\n",
       "      <td>29.530115</td>\n",
       "      <td>28.841124</td>\n",
       "      <td>29.592124</td>\n",
       "      <td>4601.500</td>\n",
       "      <td>135882.822089</td>\n",
       "      <td>NaN</td>\n",
       "      <td>NaN</td>\n",
       "      <td>NaN</td>\n",
       "      <td>NaN</td>\n",
       "      <td>NaN</td>\n",
       "      <td>NaN</td>\n",
       "    </tr>\n",
       "    <tr>\n",
       "      <th>2013-01-07</th>\n",
       "      <td>29.350977</td>\n",
       "      <td>29.316528</td>\n",
       "      <td>29.199399</td>\n",
       "      <td>29.488775</td>\n",
       "      <td>2567.600</td>\n",
       "      <td>75273.116328</td>\n",
       "      <td>NaN</td>\n",
       "      <td>NaN</td>\n",
       "      <td>NaN</td>\n",
       "      <td>NaN</td>\n",
       "      <td>NaN</td>\n",
       "      <td>NaN</td>\n",
       "    </tr>\n",
       "    <tr>\n",
       "      <th>2013-01-08</th>\n",
       "      <td>29.261408</td>\n",
       "      <td>29.082271</td>\n",
       "      <td>29.006482</td>\n",
       "      <td>29.474995</td>\n",
       "      <td>2787.500</td>\n",
       "      <td>81066.830411</td>\n",
       "      <td>NaN</td>\n",
       "      <td>NaN</td>\n",
       "      <td>NaN</td>\n",
       "      <td>NaN</td>\n",
       "      <td>NaN</td>\n",
       "      <td>NaN</td>\n",
       "    </tr>\n",
       "    <tr>\n",
       "      <th>...</th>\n",
       "      <th>...</th>\n",
       "      <td>...</td>\n",
       "      <td>...</td>\n",
       "      <td>...</td>\n",
       "      <td>...</td>\n",
       "      <td>...</td>\n",
       "      <td>...</td>\n",
       "      <td>...</td>\n",
       "      <td>...</td>\n",
       "      <td>...</td>\n",
       "      <td>...</td>\n",
       "      <td>...</td>\n",
       "      <td>...</td>\n",
       "    </tr>\n",
       "    <tr>\n",
       "      <th rowspan=\"5\" valign=\"top\">ZUMZ</th>\n",
       "      <th>2017-12-22</th>\n",
       "      <td>21.550000</td>\n",
       "      <td>21.450000</td>\n",
       "      <td>21.300000</td>\n",
       "      <td>21.700000</td>\n",
       "      <td>209.585</td>\n",
       "      <td>4495.598250</td>\n",
       "      <td>11930.001226</td>\n",
       "      <td>1288.0</td>\n",
       "      <td>61.077094</td>\n",
       "      <td>0.028426</td>\n",
       "      <td>0.086877</td>\n",
       "      <td>-0.419131</td>\n",
       "    </tr>\n",
       "    <tr>\n",
       "      <th>2017-12-26</th>\n",
       "      <td>21.450000</td>\n",
       "      <td>21.850000</td>\n",
       "      <td>21.450000</td>\n",
       "      <td>22.200000</td>\n",
       "      <td>213.951</td>\n",
       "      <td>4674.829350</td>\n",
       "      <td>11963.373076</td>\n",
       "      <td>1291.0</td>\n",
       "      <td>63.799097</td>\n",
       "      <td>0.010058</td>\n",
       "      <td>0.090436</td>\n",
       "      <td>-0.450751</td>\n",
       "    </tr>\n",
       "    <tr>\n",
       "      <th>2017-12-27</th>\n",
       "      <td>21.800000</td>\n",
       "      <td>21.150000</td>\n",
       "      <td>20.950000</td>\n",
       "      <td>22.250000</td>\n",
       "      <td>227.325</td>\n",
       "      <td>4807.923750</td>\n",
       "      <td>11786.938512</td>\n",
       "      <td>1293.0</td>\n",
       "      <td>56.369727</td>\n",
       "      <td>0.040577</td>\n",
       "      <td>0.057586</td>\n",
       "      <td>-0.282948</td>\n",
       "    </tr>\n",
       "    <tr>\n",
       "      <th>2017-12-28</th>\n",
       "      <td>21.200000</td>\n",
       "      <td>21.200000</td>\n",
       "      <td>21.050000</td>\n",
       "      <td>21.450000</td>\n",
       "      <td>162.070</td>\n",
       "      <td>3435.884000</td>\n",
       "      <td>11290.208650</td>\n",
       "      <td>1300.0</td>\n",
       "      <td>56.757082</td>\n",
       "      <td>0.039229</td>\n",
       "      <td>0.059005</td>\n",
       "      <td>-0.449763</td>\n",
       "    </tr>\n",
       "    <tr>\n",
       "      <th>2017-12-29</th>\n",
       "      <td>21.250000</td>\n",
       "      <td>20.825000</td>\n",
       "      <td>20.800000</td>\n",
       "      <td>21.450000</td>\n",
       "      <td>222.040</td>\n",
       "      <td>4623.983000</td>\n",
       "      <td>10790.612631</td>\n",
       "      <td>1312.0</td>\n",
       "      <td>52.959469</td>\n",
       "      <td>0.050887</td>\n",
       "      <td>0.042288</td>\n",
       "      <td>-0.515043</td>\n",
       "    </tr>\n",
       "  </tbody>\n",
       "</table>\n",
       "<p>2904233 rows × 12 columns</p>\n",
       "</div>"
      ],
      "text/plain": [
       "                        open      close        low       high    volume  \\\n",
       "ticker date                                                               \n",
       "A      2013-01-02  29.054711  28.854904  28.351942  29.054711  6287.700   \n",
       "       2013-01-03  28.896244  28.958253  28.648276  29.034042  4114.300   \n",
       "       2013-01-04  29.034042  29.530115  28.841124  29.592124  4601.500   \n",
       "       2013-01-07  29.350977  29.316528  29.199399  29.488775  2567.600   \n",
       "       2013-01-08  29.261408  29.082271  29.006482  29.474995  2787.500   \n",
       "...                      ...        ...        ...        ...       ...   \n",
       "ZUMZ   2017-12-22  21.550000  21.450000  21.300000  21.700000   209.585   \n",
       "       2017-12-26  21.450000  21.850000  21.450000  22.200000   213.951   \n",
       "       2017-12-27  21.800000  21.150000  20.950000  22.250000   227.325   \n",
       "       2017-12-28  21.200000  21.200000  21.050000  21.450000   162.070   \n",
       "       2017-12-29  21.250000  20.825000  20.800000  21.450000   222.040   \n",
       "\n",
       "                      dollar_vol  dollar_vol_1m  dollar_vol_rank        rsi  \\\n",
       "ticker date                                                                   \n",
       "A      2013-01-02  181430.981611            NaN              NaN        NaN   \n",
       "       2013-01-03  119142.939438            NaN              NaN        NaN   \n",
       "       2013-01-04  135882.822089            NaN              NaN        NaN   \n",
       "       2013-01-07   75273.116328            NaN              NaN        NaN   \n",
       "       2013-01-08   81066.830411            NaN              NaN        NaN   \n",
       "...                          ...            ...              ...        ...   \n",
       "ZUMZ   2017-12-22    4495.598250   11930.001226           1288.0  61.077094   \n",
       "       2017-12-26    4674.829350   11963.373076           1291.0  63.799097   \n",
       "       2017-12-27    4807.923750   11786.938512           1293.0  56.369727   \n",
       "       2017-12-28    3435.884000   11290.208650           1300.0  56.757082   \n",
       "       2017-12-29    4623.983000   10790.612631           1312.0  52.959469   \n",
       "\n",
       "                    bb_high    bb_low       atr  \n",
       "ticker date                                      \n",
       "A      2013-01-02       NaN       NaN       NaN  \n",
       "       2013-01-03       NaN       NaN       NaN  \n",
       "       2013-01-04       NaN       NaN       NaN  \n",
       "       2013-01-07       NaN       NaN       NaN  \n",
       "       2013-01-08       NaN       NaN       NaN  \n",
       "...                     ...       ...       ...  \n",
       "ZUMZ   2017-12-22  0.028426  0.086877 -0.419131  \n",
       "       2017-12-26  0.010058  0.090436 -0.450751  \n",
       "       2017-12-27  0.040577  0.057586 -0.282948  \n",
       "       2017-12-28  0.039229  0.059005 -0.449763  \n",
       "       2017-12-29  0.050887  0.042288 -0.515043  \n",
       "\n",
       "[2904233 rows x 12 columns]"
      ]
     },
     "execution_count": 29,
     "metadata": {},
     "output_type": "execute_result"
    }
   ],
   "source": [
    "prices"
   ]
  },
  {
   "cell_type": "code",
   "execution_count": 30,
   "id": "f2c0dfe7-ab62-4b91-ac7d-1a1f47656367",
   "metadata": {
    "tags": []
   },
   "outputs": [
    {
     "data": {
      "image/png": "[encoded data removed]",
      "text/plain": [
       "<Figure size 640x480 with 1 Axes>"
      ]
     },
     "metadata": {},
     "output_type": "display_data"
    }
   ],
   "source": [
    "sns.distplot(prices[prices.dollar_vol_rank<50].atr.dropna());"
   ]
  },
  {
   "cell_type": "code",
   "execution_count": 31,
   "id": "e55c96a4-de47-4f2a-a8b6-b470e0cabcc7",
   "metadata": {
    "tags": []
   },
   "outputs": [],
   "source": [
    "def compute_macd(close):\n",
    "    macd = MACD(close)[0]\n",
    "    return (macd-np.mean(macd))/np.std(macd)"
   ]
  },
  {
   "cell_type": "code",
   "execution_count": 32,
   "id": "232f52b7-8488-4968-ae90-83e430c90641",
   "metadata": {
    "tags": []
   },
   "outputs": [
    {
     "ename": "TypeError",
     "evalue": "Argument 'real' has incorrect type (expected numpy.ndarray, got float)",
     "output_type": "error",
     "traceback": [
      "\u001b[1;31m---------------------------------------------------------------------------\u001b[0m",
      "\u001b[1;31mTypeError\u001b[0m                                 Traceback (most recent call last)",
      "Cell \u001b[1;32mIn[32], line 1\u001b[0m\n\u001b[1;32m----> 1\u001b[0m \u001b[43mprices\u001b[49m\u001b[38;5;241;43m.\u001b[39;49m\u001b[43mclose\u001b[49m\u001b[38;5;241;43m.\u001b[39;49m\u001b[43mapply\u001b[49m\u001b[43m(\u001b[49m\u001b[43mcompute_macd\u001b[49m\u001b[43m)\u001b[49m\n",
      "File \u001b[1;32m~\\anaconda3\\envs\\ml4f\\lib\\site-packages\\pandas\\core\\series.py:4138\u001b[0m, in \u001b[0;36mSeries.apply\u001b[1;34m(self, func, convert_dtype, args, **kwds)\u001b[0m\n\u001b[0;32m   4136\u001b[0m     \u001b[38;5;28;01melse\u001b[39;00m:\n\u001b[0;32m   4137\u001b[0m         values \u001b[38;5;241m=\u001b[39m \u001b[38;5;28mself\u001b[39m\u001b[38;5;241m.\u001b[39mastype(\u001b[38;5;28mobject\u001b[39m)\u001b[38;5;241m.\u001b[39m_values\n\u001b[1;32m-> 4138\u001b[0m         mapped \u001b[38;5;241m=\u001b[39m \u001b[43mlib\u001b[49m\u001b[38;5;241;43m.\u001b[39;49m\u001b[43mmap_infer\u001b[49m\u001b[43m(\u001b[49m\u001b[43mvalues\u001b[49m\u001b[43m,\u001b[49m\u001b[43m \u001b[49m\u001b[43mf\u001b[49m\u001b[43m,\u001b[49m\u001b[43m \u001b[49m\u001b[43mconvert\u001b[49m\u001b[38;5;241;43m=\u001b[39;49m\u001b[43mconvert_dtype\u001b[49m\u001b[43m)\u001b[49m\n\u001b[0;32m   4140\u001b[0m \u001b[38;5;28;01mif\u001b[39;00m \u001b[38;5;28mlen\u001b[39m(mapped) \u001b[38;5;129;01mand\u001b[39;00m \u001b[38;5;28misinstance\u001b[39m(mapped[\u001b[38;5;241m0\u001b[39m], Series):\n\u001b[0;32m   4141\u001b[0m     \u001b[38;5;66;03m# GH 25959 use pd.array instead of tolist\u001b[39;00m\n\u001b[0;32m   4142\u001b[0m     \u001b[38;5;66;03m# so extension arrays can be used\u001b[39;00m\n\u001b[0;32m   4143\u001b[0m     \u001b[38;5;28;01mreturn\u001b[39;00m \u001b[38;5;28mself\u001b[39m\u001b[38;5;241m.\u001b[39m_constructor_expanddim(pd_array(mapped), index\u001b[38;5;241m=\u001b[39m\u001b[38;5;28mself\u001b[39m\u001b[38;5;241m.\u001b[39mindex)\n",
      "File \u001b[1;32mpandas\\_libs\\lib.pyx:2467\u001b[0m, in \u001b[0;36mpandas._libs.lib.map_infer\u001b[1;34m()\u001b[0m\n",
      "Cell \u001b[1;32mIn[31], line 2\u001b[0m, in \u001b[0;36mcompute_macd\u001b[1;34m(close)\u001b[0m\n\u001b[0;32m      1\u001b[0m \u001b[38;5;28;01mdef\u001b[39;00m \u001b[38;5;21mcompute_macd\u001b[39m(close):\n\u001b[1;32m----> 2\u001b[0m     macd \u001b[38;5;241m=\u001b[39m \u001b[43mMACD\u001b[49m\u001b[43m(\u001b[49m\u001b[43mclose\u001b[49m\u001b[43m)\u001b[49m[\u001b[38;5;241m0\u001b[39m]\n\u001b[0;32m      3\u001b[0m     \u001b[38;5;28;01mreturn\u001b[39;00m (macd\u001b[38;5;241m-\u001b[39mnp\u001b[38;5;241m.\u001b[39mmean(macd))\u001b[38;5;241m/\u001b[39mnp\u001b[38;5;241m.\u001b[39mstd(macd)\n",
      "File \u001b[1;32m~\\anaconda3\\envs\\ml4f\\lib\\site-packages\\talib\\__init__.py:64\u001b[0m, in \u001b[0;36m_wrapper.<locals>.wrapper\u001b[1;34m(*args, **kwds)\u001b[0m\n\u001b[0;32m     61\u001b[0m     _args \u001b[38;5;241m=\u001b[39m args\n\u001b[0;32m     62\u001b[0m     _kwds \u001b[38;5;241m=\u001b[39m kwds\n\u001b[1;32m---> 64\u001b[0m result \u001b[38;5;241m=\u001b[39m \u001b[43mfunc\u001b[49m\u001b[43m(\u001b[49m\u001b[38;5;241;43m*\u001b[39;49m\u001b[43m_args\u001b[49m\u001b[43m,\u001b[49m\u001b[43m \u001b[49m\u001b[38;5;241;43m*\u001b[39;49m\u001b[38;5;241;43m*\u001b[39;49m\u001b[43m_kwds\u001b[49m\u001b[43m)\u001b[49m\n\u001b[0;32m     66\u001b[0m \u001b[38;5;66;03m# check to see if we got a streaming result\u001b[39;00m\n\u001b[0;32m     67\u001b[0m first_result \u001b[38;5;241m=\u001b[39m result[\u001b[38;5;241m0\u001b[39m] \u001b[38;5;28;01mif\u001b[39;00m \u001b[38;5;28misinstance\u001b[39m(result, \u001b[38;5;28mtuple\u001b[39m) \u001b[38;5;28;01melse\u001b[39;00m result\n",
      "\u001b[1;31mTypeError\u001b[0m: Argument 'real' has incorrect type (expected numpy.ndarray, got float)"
     ]
    }
   ],
   "source": [
    "prices.close.apply(compute_macd)"
   ]
  },
  {
   "cell_type": "code",
   "execution_count": null,
   "id": "e1c7e9c2-0cba-4d5a-aaf7-f3be5ca207d9",
   "metadata": {
    "tags": []
   },
   "outputs": [],
   "source": [
    "prices.groupby('date').close.apply(compute_macd)"
   ]
  },
  {
   "cell_type": "code",
   "execution_count": null,
   "id": "2e6965cd-3bb2-4f4f-baab-4f1c2300bb22",
   "metadata": {
    "tags": []
   },
   "outputs": [],
   "source": [
    "prices['macd'] = prices.groupby('ticker', group_keys=False).close.apply(compute_macd)"
   ]
  },
  {
   "cell_type": "code",
   "execution_count": null,
   "id": "ece186bf-8783-465e-bb99-36b1772d7ef6",
   "metadata": {
    "tags": []
   },
   "outputs": [],
   "source": [
    "prices"
   ]
  },
  {
   "cell_type": "code",
   "execution_count": null,
   "id": "f1e180e7-8f62-466e-9dd7-1e9785b6946f",
   "metadata": {
    "tags": []
   },
   "outputs": [],
   "source": [
    "sns.distplot(prices[prices.dollar_vol_rank<100].macd.dropna());"
   ]
  },
  {
   "cell_type": "markdown",
   "id": "3fc6336c-55f3-4b18-9e23-2446737179d0",
   "metadata": {},
   "source": [
    "## compute lagged return"
   ]
  },
  {
   "cell_type": "code",
   "execution_count": null,
   "id": "8e702de3-5d25-412d-af30-73bfbdd0b841",
   "metadata": {
    "tags": []
   },
   "outputs": [],
   "source": [
    "lags = [1, 5, 10, 21, 42, 63]"
   ]
  },
  {
   "cell_type": "code",
   "execution_count": null,
   "id": "d45fbda2-27a8-434b-920b-3b49b617fecc",
   "metadata": {
    "tags": []
   },
   "outputs": [],
   "source": [
    "returns = prices.groupby('ticker').close.pct_change()\n",
    "percentiles=[0.0001, 0.001, 0.01]\n",
    "percentiles += [1-p for p in percentiles]"
   ]
  },
  {
   "cell_type": "code",
   "execution_count": null,
   "id": "c4b416a6-e02c-408d-83dc-1dfa36cf2311",
   "metadata": {
    "tags": []
   },
   "outputs": [],
   "source": [
    "returns.describe(percentiles=percentiles).iloc[2:].to_frame('percentiles').style.format(lambda x: f'{x:,.2%}')"
   ]
  },
  {
   "cell_type": "code",
   "execution_count": null,
   "id": "b324eae7-65d2-482c-81dd-cb1ef4d382ca",
   "metadata": {
    "tags": []
   },
   "outputs": [],
   "source": [
    "q= 0.0001\n",
    "for lag in lags:\n",
    "    prices[f'return_{lag}d'] = (prices.groupby(level='ticker').close\n",
    "                                .pct_change(lag)\n",
    "                                .pipe(lambda x: x.clip(lower=x.quantile(q),\n",
    "                                                       upper=x.quantile(1 - q)))\n",
    "                                .add(1)\n",
    "                                .pow(1 / lag)\n",
    "                                .sub(1)\n",
    "                                )"
   ]
  },
  {
   "cell_type": "code",
   "execution_count": null,
   "id": "06cbc88e-162d-4a2b-b02a-74d074ed0d4b",
   "metadata": {
    "tags": []
   },
   "outputs": [],
   "source": [
    "for t in [1, 2, 3, 4, 5]:\n",
    "    for lag in [1, 5, 10, 21]:\n",
    "        prices[f'return_{lag}d_lag{t}'] = (prices.groupby(level='ticker')\n",
    "                                           [f'return_{lag}d'].shift(t * lag))"
   ]
  },
  {
   "cell_type": "code",
   "execution_count": null,
   "id": "ed2ea88b-3881-4625-a3ce-be1364cdf549",
   "metadata": {
    "tags": []
   },
   "outputs": [],
   "source": [
    "for t in [1, 5, 10, 21]:\n",
    "    prices[f'target_{t}d'] = prices.groupby(level='ticker')[f'return_{t}d'].shift(-t)"
   ]
  },
  {
   "cell_type": "code",
   "execution_count": null,
   "id": "51a6d1d2-252d-4afe-b677-d402cb203303",
   "metadata": {
    "tags": []
   },
   "outputs": [],
   "source": [
    "prices = prices.join(stocks[['sector']])"
   ]
  },
  {
   "cell_type": "code",
   "execution_count": 35,
   "id": "0cf4f710-3723-4de3-ad49-46ff578ba193",
   "metadata": {
    "tags": []
   },
   "outputs": [],
   "source": [
    "prices['year'] = prices.index.get_level_values('date').year\n",
    "prices['month'] = prices.index.get_level_values('date').month"
   ]
  },
  {
   "cell_type": "code",
   "execution_count": 36,
   "id": "1849d001-aae5-40b0-90d4-e387bf7c405a",
   "metadata": {
    "tags": []
   },
   "outputs": [
    {
     "name": "stdout",
     "output_type": "stream",
     "text": [
      "<class 'pandas.core.frame.DataFrame'>\n",
      "MultiIndex: 2904233 entries, ('A', Timestamp('2013-01-02 00:00:00')) to ('ZUMZ', Timestamp('2017-12-29 00:00:00'))\n",
      "Data columns (total 14 columns):\n",
      " #   Column           Non-Null Count    Dtype  \n",
      "---  ------           --------------    -----  \n",
      " 0   open             2904233 non-null  float64\n",
      " 1   close            2904233 non-null  float64\n",
      " 2   low              2904233 non-null  float64\n",
      " 3   high             2904233 non-null  float64\n",
      " 4   volume           2904233 non-null  float64\n",
      " 5   dollar_vol       2904233 non-null  float64\n",
      " 6   dollar_vol_1m    2857273 non-null  float64\n",
      " 7   dollar_vol_rank  2857273 non-null  float64\n",
      " 8   rsi              2871361 non-null  float64\n",
      " 9   bb_high          2859618 non-null  float64\n",
      " 10  bb_low           2859585 non-null  float64\n",
      " 11  atr              2871361 non-null  float64\n",
      " 12  year             2904233 non-null  int64  \n",
      " 13  month            2904233 non-null  int64  \n",
      "dtypes: float64(12), int64(2)\n",
      "memory usage: 386.5+ MB\n"
     ]
    }
   ],
   "source": [
    "prices.info(null_counts=True)"
   ]
  },
  {
   "cell_type": "code",
   "execution_count": null,
   "id": "69b1049d-b0ef-4502-970b-6a7f25ba6585",
   "metadata": {
    "tags": []
   },
   "outputs": [],
   "source": [
    "prices.assign(sector=pd.factorize(prices.sector, sort=True)[0]).to_hdf('data.h5', 'model_data/no_dummies')"
   ]
  },
  {
   "cell_type": "code",
   "execution_count": null,
   "id": "8ec6094a-2e9a-4f85-a4e5-01dbf5efdb72",
   "metadata": {
    "tags": []
   },
   "outputs": [],
   "source": [
    "prices = pd.get_dummies(prices,\n",
    "                        columns=['year', 'month', 'sector'],\n",
    "                        prefix=['year', 'month', ''],\n",
    "                        prefix_sep=['_', '_', ''],\n",
    "                        drop_first=True)"
   ]
  },
  {
   "cell_type": "code",
   "execution_count": null,
   "id": "e6d1e332-455e-4efe-bb1c-a53bb0ddb331",
   "metadata": {
    "tags": []
   },
   "outputs": [],
   "source": [
    "prices.to_hdf('data.h5', 'model_data')"
   ]
  },
  {
   "cell_type": "markdown",
   "id": "88570ad2-e67e-46bb-9bb2-bfcb7a321a0c",
   "metadata": {},
   "source": [
    "## explore data"
   ]
  },
  {
   "cell_type": "code",
   "execution_count": null,
   "id": "44712219-7b7b-4ef0-b088-2767ccdc936e",
   "metadata": {
    "tags": []
   },
   "outputs": [],
   "source": [
    "target = 'target_5d'\n",
    "top100 = prices[prices.dollar_vol_rank<100].copy()"
   ]
  },
  {
   "cell_type": "code",
   "execution_count": null,
   "id": "b336a40f-eefd-406d-9a3d-3219611c2020",
   "metadata": {
    "tags": []
   },
   "outputs": [],
   "source": [
    "top100.loc[:, '']"
   ]
  },
  {
   "cell_type": "code",
   "execution_count": null,
   "id": "9b8826c1-2458-4e83-abd0-e87b58f804f0",
   "metadata": {
    "tags": []
   },
   "outputs": [],
   "source": [
    "top100.loc[:, 'rsi_signal'] = pd.cut(top100.rsi, bins=[0, 30, 70, 100])"
   ]
  },
  {
   "cell_type": "code",
   "execution_count": null,
   "id": "e8cc42e8-6978-4455-9fff-ce653019b97b",
   "metadata": {
    "tags": []
   },
   "outputs": [],
   "source": [
    "top100.groupby('rsi_signal')['target_5d'].describe()"
   ]
  },
  {
   "cell_type": "markdown",
   "id": "ab4c2c12-e5a5-4772-8d9b-a5be330725d0",
   "metadata": {},
   "source": [
    "## Bollinger Bands"
   ]
  },
  {
   "cell_type": "code",
   "execution_count": null,
   "id": "34900f99-e722-48d8-9f7b-f8db741e7048",
   "metadata": {
    "tags": []
   },
   "outputs": [],
   "source": [
    "metric = 'bb_low'\n",
    "j = sns.jointplot(x=metric, y=target, data=top100)\n",
    "\n",
    "df = top100[[metric, target]].dropna()\n",
    "r, p = spearmanr(df[metric], df[target])\n",
    "print(f'{r:,.2%} ({p:.2%})')"
   ]
  },
  {
   "cell_type": "code",
   "execution_count": null,
   "id": "54270b03-fdd1-4d36-9346-20cf1da04ce6",
   "metadata": {
    "tags": []
   },
   "outputs": [],
   "source": [
    "metric = 'bb_high'\n",
    "j=sns.jointplot(x=metric, y=target, data=top100)\n",
    "\n",
    "df = top100[[metric, target]].dropna()\n",
    "r, p = spearmanr(df[metric], df[target])\n",
    "print(f'{r:,.2%} ({p:.2%})')"
   ]
  },
  {
   "cell_type": "code",
   "execution_count": null,
   "id": "61df3a59-f05a-466a-b359-6afd9635d86d",
   "metadata": {},
   "outputs": [],
   "source": []
  }
 ],
 "metadata": {
  "kernelspec": {
   "display_name": "Python 3 (ipykernel)",
   "language": "python",
   "name": "python3"
  },
  "language_info": {
   "codemirror_mode": {
    "name": "ipython",
    "version": 3
   },
   "file_extension": ".py",
   "mimetype": "text/x-python",
   "name": "python",
   "nbconvert_exporter": "python",
   "pygments_lexer": "ipython3",
   "version": "3.8.15"
  }
 },
 "nbformat": 4,
 "nbformat_minor": 5
}
